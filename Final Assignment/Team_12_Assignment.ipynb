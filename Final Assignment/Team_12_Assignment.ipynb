{
 "cells": [
  {
   "cell_type": "code",
   "execution_count": 1,
   "metadata": {},
   "outputs": [],
   "source": [
    "from IPython.display import display, Math, Latex\n",
    "\n",
    "import pandas as pd\n",
    "import numpy as np\n",
    "import numpy_financial as npf\n",
    "import yfinance as yf\n",
    "import matplotlib.pyplot as plt\n",
    "from datetime import datetime"
   ]
  },
  {
   "cell_type": "markdown",
   "metadata": {},
   "source": [
    "## Group Assignment\n",
    "### Team Number: 12\n",
    "### Team Member Names: Bill Bai, Soumik Debnath, Justin Yu\n",
    "### Team Strategy Chosen: Risky (RISKY OR SAFE)"
   ]
  },
  {
   "cell_type": "markdown",
   "metadata": {
    "pycharm": {
     "name": "#%% md\n"
    }
   },
   "source": [
    "Below, we define start and end dates to get ticker data in order to create our portfolio. We defined it from 2020-11-26 to 2021-11-26, or a 1 year interval.\n",
    "\n",
    "The reason why we chose to base our portfolio off of 1 year of historical data is because we wanted a timeframe that wasn't too long that our short-term risky portfolio would capture \"too much\" irrelevant data - for example, we chose to use standard deviation as a factor in creating our portfolio and using too long of a timeframe might cause our code to choose a stock that used to be volatile, but is now \"safe\". We also didn't want to use too short of a time interval since our portfolio uses correlation to choose stocks that tend to trade in the same direction - using too short of a timeframe would capture stocks that may be correlated for a short interval by pure coincidence or by broader-market forces.\n",
    "\n",
    "Thus, the perfect interval we found after backtesting our code many times on different timeframes and lists of tickers happened to be 1 year. 1 year perfectly captures the stocks with the most momentum to make our portfolio risky, but also ensures that the stocks in our portfolio are correlated for a reason, rather than by pure coincidence or market forces.\n",
    "\n",
    "Later on in our code, we'll also explain why we used daily data in calculating the risk metrics for our portfolio, rather than weekly or monthly data."
   ]
  },
  {
   "cell_type": "code",
   "execution_count": 2,
   "metadata": {
    "pycharm": {
     "name": "#%%\n"
    }
   },
   "outputs": [],
   "source": [
    "# Start and end date to base our portfolio tickers off of\n",
    "start_date = \"2020-11-26\"\n",
    "end_date = \"2021-11-26\""
   ]
  },
  {
   "cell_type": "markdown",
   "metadata": {
    "pycharm": {
     "name": "#%% md\n"
    }
   },
   "source": [
    "Next we'll load the given list of tickers to choose our portfolio from."
   ]
  },
  {
   "cell_type": "code",
   "execution_count": 3,
   "metadata": {
    "pycharm": {
     "name": "#%%\n"
    }
   },
   "outputs": [],
   "source": [
    "# Read in tickers file and save as DF\n",
    "tickers_path = \"./Tickers.csv\"\n",
    "tickers_df = pd.read_csv(tickers_path, header=None).rename(columns={0: 'Ticker'})"
   ]
  },
  {
   "cell_type": "code",
   "execution_count": 4,
   "metadata": {
    "pycharm": {
     "name": "#%%\n"
    }
   },
   "outputs": [
    {
     "data": {
      "text/html": [
       "<div>\n",
       "<style scoped>\n",
       "    .dataframe tbody tr th:only-of-type {\n",
       "        vertical-align: middle;\n",
       "    }\n",
       "\n",
       "    .dataframe tbody tr th {\n",
       "        vertical-align: top;\n",
       "    }\n",
       "\n",
       "    .dataframe thead th {\n",
       "        text-align: right;\n",
       "    }\n",
       "</style>\n",
       "<table border=\"1\" class=\"dataframe\">\n",
       "  <thead>\n",
       "    <tr style=\"text-align: right;\">\n",
       "      <th></th>\n",
       "      <th>Ticker</th>\n",
       "    </tr>\n",
       "  </thead>\n",
       "  <tbody>\n",
       "    <tr>\n",
       "      <th>0</th>\n",
       "      <td>MTTRW</td>\n",
       "    </tr>\n",
       "    <tr>\n",
       "      <th>1</th>\n",
       "      <td>YUMC</td>\n",
       "    </tr>\n",
       "    <tr>\n",
       "      <th>2</th>\n",
       "      <td>PXS</td>\n",
       "    </tr>\n",
       "    <tr>\n",
       "      <th>3</th>\n",
       "      <td>ISEM</td>\n",
       "    </tr>\n",
       "    <tr>\n",
       "      <th>4</th>\n",
       "      <td>ING</td>\n",
       "    </tr>\n",
       "    <tr>\n",
       "      <th>5</th>\n",
       "      <td>ZVV</td>\n",
       "    </tr>\n",
       "    <tr>\n",
       "      <th>6</th>\n",
       "      <td>CNYA</td>\n",
       "    </tr>\n",
       "    <tr>\n",
       "      <th>7</th>\n",
       "      <td>MGTX</td>\n",
       "    </tr>\n",
       "    <tr>\n",
       "      <th>8</th>\n",
       "      <td>PIXY</td>\n",
       "    </tr>\n",
       "    <tr>\n",
       "      <th>9</th>\n",
       "      <td>VCIT</td>\n",
       "    </tr>\n",
       "    <tr>\n",
       "      <th>10</th>\n",
       "      <td>SRE</td>\n",
       "    </tr>\n",
       "  </tbody>\n",
       "</table>\n",
       "</div>"
      ],
      "text/plain": [
       "   Ticker\n",
       "0   MTTRW\n",
       "1    YUMC\n",
       "2     PXS\n",
       "3    ISEM\n",
       "4     ING\n",
       "5     ZVV\n",
       "6    CNYA\n",
       "7    MGTX\n",
       "8    PIXY\n",
       "9    VCIT\n",
       "10    SRE"
      ]
     },
     "execution_count": 4,
     "metadata": {},
     "output_type": "execute_result"
    }
   ],
   "source": [
    "# Display tickers dataframe\n",
    "tickers_df"
   ]
  },
  {
   "cell_type": "markdown",
   "metadata": {
    "pycharm": {
     "name": "#%% md\n"
    }
   },
   "source": [
    "Here, we create an info column in our tickers dataframe, where each cell contains the yf.Ticker(ticker).info dict for each ticker. We implemented this to increase efficiency in our code, since calling .info takes a few seconds for each call, and our list of tickers is very long. Thus, it is more efficient to save the info dict in memory rather than performing an API call each time we need a stock's info."
   ]
  },
  {
   "cell_type": "code",
   "execution_count": 5,
   "metadata": {
    "pycharm": {
     "name": "#%%\n"
    }
   },
   "outputs": [
    {
     "name": "stdout",
     "output_type": "stream",
     "text": [
      "..........."
     ]
    },
    {
     "data": {
      "text/html": [
       "<div>\n",
       "<style scoped>\n",
       "    .dataframe tbody tr th:only-of-type {\n",
       "        vertical-align: middle;\n",
       "    }\n",
       "\n",
       "    .dataframe tbody tr th {\n",
       "        vertical-align: top;\n",
       "    }\n",
       "\n",
       "    .dataframe thead th {\n",
       "        text-align: right;\n",
       "    }\n",
       "</style>\n",
       "<table border=\"1\" class=\"dataframe\">\n",
       "  <thead>\n",
       "    <tr style=\"text-align: right;\">\n",
       "      <th></th>\n",
       "      <th>Ticker</th>\n",
       "      <th>Info</th>\n",
       "    </tr>\n",
       "  </thead>\n",
       "  <tbody>\n",
       "    <tr>\n",
       "      <th>0</th>\n",
       "      <td>MTTRW</td>\n",
       "      <td>{'zip': '94089', 'sector': 'Technology', 'full...</td>\n",
       "    </tr>\n",
       "    <tr>\n",
       "      <th>1</th>\n",
       "      <td>YUMC</td>\n",
       "      <td>{'zip': '200030', 'sector': 'Consumer Cyclical...</td>\n",
       "    </tr>\n",
       "    <tr>\n",
       "      <th>2</th>\n",
       "      <td>PXS</td>\n",
       "      <td>{'zip': '15125', 'sector': 'Industrials', 'lon...</td>\n",
       "    </tr>\n",
       "    <tr>\n",
       "      <th>3</th>\n",
       "      <td>ISEM</td>\n",
       "      <td>{'exchange': 'NGM', 'shortName': 'Invesco RAFI...</td>\n",
       "    </tr>\n",
       "    <tr>\n",
       "      <th>4</th>\n",
       "      <td>ING</td>\n",
       "      <td>{'zip': '1102 CT', 'sector': 'Financial Servic...</td>\n",
       "    </tr>\n",
       "    <tr>\n",
       "      <th>5</th>\n",
       "      <td>ZVV</td>\n",
       "      <td>{'symbol': 'ZVV', 'quoteType': 'EQUITY', 'exch...</td>\n",
       "    </tr>\n",
       "    <tr>\n",
       "      <th>6</th>\n",
       "      <td>CNYA</td>\n",
       "      <td>{'exchange': 'BTS', 'shortName': 'iShares MSCI...</td>\n",
       "    </tr>\n",
       "    <tr>\n",
       "      <th>7</th>\n",
       "      <td>MGTX</td>\n",
       "      <td>{'zip': '10016', 'sector': 'Healthcare', 'full...</td>\n",
       "    </tr>\n",
       "    <tr>\n",
       "      <th>8</th>\n",
       "      <td>PIXY</td>\n",
       "      <td>{'zip': '33131', 'sector': 'Industrials', 'ful...</td>\n",
       "    </tr>\n",
       "    <tr>\n",
       "      <th>9</th>\n",
       "      <td>VCIT</td>\n",
       "      <td>{'exchange': 'NGM', 'shortName': 'Vanguard Int...</td>\n",
       "    </tr>\n",
       "    <tr>\n",
       "      <th>10</th>\n",
       "      <td>SRE</td>\n",
       "      <td>{'zip': '92101', 'sector': 'Utilities', 'fullT...</td>\n",
       "    </tr>\n",
       "  </tbody>\n",
       "</table>\n",
       "</div>"
      ],
      "text/plain": [
       "   Ticker                                               Info\n",
       "0   MTTRW  {'zip': '94089', 'sector': 'Technology', 'full...\n",
       "1    YUMC  {'zip': '200030', 'sector': 'Consumer Cyclical...\n",
       "2     PXS  {'zip': '15125', 'sector': 'Industrials', 'lon...\n",
       "3    ISEM  {'exchange': 'NGM', 'shortName': 'Invesco RAFI...\n",
       "4     ING  {'zip': '1102 CT', 'sector': 'Financial Servic...\n",
       "5     ZVV  {'symbol': 'ZVV', 'quoteType': 'EQUITY', 'exch...\n",
       "6    CNYA  {'exchange': 'BTS', 'shortName': 'iShares MSCI...\n",
       "7    MGTX  {'zip': '10016', 'sector': 'Healthcare', 'full...\n",
       "8    PIXY  {'zip': '33131', 'sector': 'Industrials', 'ful...\n",
       "9    VCIT  {'exchange': 'NGM', 'shortName': 'Vanguard Int...\n",
       "10    SRE  {'zip': '92101', 'sector': 'Utilities', 'fullT..."
      ]
     },
     "execution_count": 5,
     "metadata": {},
     "output_type": "execute_result"
    }
   ],
   "source": [
    "# Create an info cell for each ticker, saving time when filtering the tickers by volume and country.\n",
    "info_column = {}\n",
    "\n",
    "# Add info to dict\n",
    "for idx, row in tickers_df.iterrows():\n",
    "    ticker = row[0]  # Get ticker name\n",
    "    ticker = yf.Ticker(ticker)\n",
    "    info_column[idx] = ticker.info\n",
    "    print('.', end='')  # So we can tell if the code is running\n",
    "\n",
    "# Create column for the info]\n",
    "tickers_df['Info'] = pd.Series(info_column)\n",
    "tickers_df"
   ]
  },
  {
   "cell_type": "markdown",
   "metadata": {
    "pycharm": {
     "name": "#%% md\n"
    }
   },
   "source": [
    "In the next two cells, we filter out stocks that are either delisted, have an average daily volume of less than 10,000, or aren't US-listed. This is per the requirements of the assignment.\n",
    "\n",
    "We also create a dict called hist_dict that stores the yf.Ticker(ticker).history() dataframe for each ticker. This is also for efficiency since calling .history() takes times for Yahoo to return the data, so it's faster to just store the data in memory than to call it each time we use the data - which we do a lot of since we make many calculations for our portfolio."
   ]
  },
  {
   "cell_type": "code",
   "execution_count": 6,
   "metadata": {
    "pycharm": {
     "name": "#%%\n"
    }
   },
   "outputs": [],
   "source": [
    "# Dict to store the ticker history for each ticker.\n",
    "hist_dict = {}\n",
    "\n",
    "\n",
    "def filter_us_market(df):\n",
    "    \"\"\"\n",
    "    Consumes a dataframe of tickers and returns a list of booleans representing whether the tickers are US-listed or not.\n",
    "    :param df: DataFrame containing tickers\n",
    "    :return: List of booleans representing whether the tickers are US-listed.\n",
    "    \"\"\"\n",
    "    # Initialize mask list of booleans.\n",
    "    mask = []\n",
    "    for idx, row in df.iterrows():\n",
    "        # Check whether stock is US-listed or not, and append the boolean to mask\n",
    "        info = row['Info']\n",
    "        if \"market\" in row['Info']:\n",
    "            is_us_market = info['market'] == 'us_market'\n",
    "            mask.append(is_us_market)\n",
    "        else:\n",
    "            mask.append(False)\n",
    "    # Return mask\n",
    "    return mask\n",
    "\n",
    "\n",
    "def filter_volume(df):\n",
    "    \"\"\"\n",
    "    Consumes a dataframe of tickers and returns a list of bo\n",
    "    :param df:\n",
    "    :return:\n",
    "    \"\"\"\n",
    "    # Start and end date to check volume\n",
    "    start = \"2021-07-02\"\n",
    "    end = \"2021-10-23\"\n",
    "    # Mask to filter out stocks\n",
    "    mask = []\n",
    "    for idx, row in df.iterrows():\n",
    "        # Gets ticker history\n",
    "        ticker = yf.Ticker(row[0])\n",
    "        ticker_hist = ticker.history(start=start_date, end=end_date)\n",
    "        # Gets subset of data to check volume\n",
    "        volume_hist = ticker_hist.loc[\n",
    "            (ticker_hist.index >= pd.to_datetime(start)) & (ticker_hist.index <= pd.to_datetime(end))]\n",
    "        # Checks if average volume is not less than 10,0000\n",
    "        valid_volume = volume_hist['Volume'].mean() >= 10000\n",
    "        mask.append(valid_volume)\n",
    "        if valid_volume:\n",
    "            hist_dict[row[0]] = ticker_hist  # Adds the ticker history dataframe to hist_dict\n",
    "    return mask"
   ]
  },
  {
   "cell_type": "code",
   "execution_count": 7,
   "metadata": {
    "pycharm": {
     "name": "#%%\n"
    }
   },
   "outputs": [
    {
     "name": "stdout",
     "output_type": "stream",
     "text": [
      "- ZVV: No data found for this date range, symbol may be delisted\n"
     ]
    }
   ],
   "source": [
    "# Filter out non-US stocks / delisted stocks\n",
    "tickers_df = tickers_df.loc[filter_us_market(tickers_df)]\n",
    "# Filter out stocks without valid volume\n",
    "tickers_df = tickers_df.loc[filter_volume(tickers_df)]"
   ]
  },
  {
   "cell_type": "code",
   "execution_count": 8,
   "metadata": {
    "pycharm": {
     "name": "#%%\n"
    }
   },
   "outputs": [
    {
     "data": {
      "text/html": [
       "<div>\n",
       "<style scoped>\n",
       "    .dataframe tbody tr th:only-of-type {\n",
       "        vertical-align: middle;\n",
       "    }\n",
       "\n",
       "    .dataframe tbody tr th {\n",
       "        vertical-align: top;\n",
       "    }\n",
       "\n",
       "    .dataframe thead th {\n",
       "        text-align: right;\n",
       "    }\n",
       "</style>\n",
       "<table border=\"1\" class=\"dataframe\">\n",
       "  <thead>\n",
       "    <tr style=\"text-align: right;\">\n",
       "      <th></th>\n",
       "      <th>Ticker</th>\n",
       "      <th>Info</th>\n",
       "    </tr>\n",
       "  </thead>\n",
       "  <tbody>\n",
       "    <tr>\n",
       "      <th>0</th>\n",
       "      <td>MTTRW</td>\n",
       "      <td>{'zip': '94089', 'sector': 'Technology', 'full...</td>\n",
       "    </tr>\n",
       "    <tr>\n",
       "      <th>1</th>\n",
       "      <td>YUMC</td>\n",
       "      <td>{'zip': '200030', 'sector': 'Consumer Cyclical...</td>\n",
       "    </tr>\n",
       "    <tr>\n",
       "      <th>2</th>\n",
       "      <td>PXS</td>\n",
       "      <td>{'zip': '15125', 'sector': 'Industrials', 'lon...</td>\n",
       "    </tr>\n",
       "    <tr>\n",
       "      <th>3</th>\n",
       "      <td>ING</td>\n",
       "      <td>{'zip': '1102 CT', 'sector': 'Financial Servic...</td>\n",
       "    </tr>\n",
       "    <tr>\n",
       "      <th>4</th>\n",
       "      <td>CNYA</td>\n",
       "      <td>{'exchange': 'BTS', 'shortName': 'iShares MSCI...</td>\n",
       "    </tr>\n",
       "    <tr>\n",
       "      <th>5</th>\n",
       "      <td>MGTX</td>\n",
       "      <td>{'zip': '10016', 'sector': 'Healthcare', 'full...</td>\n",
       "    </tr>\n",
       "    <tr>\n",
       "      <th>6</th>\n",
       "      <td>PIXY</td>\n",
       "      <td>{'zip': '33131', 'sector': 'Industrials', 'ful...</td>\n",
       "    </tr>\n",
       "    <tr>\n",
       "      <th>7</th>\n",
       "      <td>VCIT</td>\n",
       "      <td>{'exchange': 'NGM', 'shortName': 'Vanguard Int...</td>\n",
       "    </tr>\n",
       "    <tr>\n",
       "      <th>8</th>\n",
       "      <td>SRE</td>\n",
       "      <td>{'zip': '92101', 'sector': 'Utilities', 'fullT...</td>\n",
       "    </tr>\n",
       "  </tbody>\n",
       "</table>\n",
       "</div>"
      ],
      "text/plain": [
       "  Ticker                                               Info\n",
       "0  MTTRW  {'zip': '94089', 'sector': 'Technology', 'full...\n",
       "1   YUMC  {'zip': '200030', 'sector': 'Consumer Cyclical...\n",
       "2    PXS  {'zip': '15125', 'sector': 'Industrials', 'lon...\n",
       "3    ING  {'zip': '1102 CT', 'sector': 'Financial Servic...\n",
       "4   CNYA  {'exchange': 'BTS', 'shortName': 'iShares MSCI...\n",
       "5   MGTX  {'zip': '10016', 'sector': 'Healthcare', 'full...\n",
       "6   PIXY  {'zip': '33131', 'sector': 'Industrials', 'ful...\n",
       "7   VCIT  {'exchange': 'NGM', 'shortName': 'Vanguard Int...\n",
       "8    SRE  {'zip': '92101', 'sector': 'Utilities', 'fullT..."
      ]
     },
     "execution_count": 8,
     "metadata": {},
     "output_type": "execute_result"
    }
   ],
   "source": [
    "# Reset index on the filtered dataframe\n",
    "tickers_df = tickers_df.reset_index(drop=True)\n",
    "tickers_df"
   ]
  },
  {
   "cell_type": "markdown",
   "metadata": {
    "pycharm": {
     "name": "#%% md\n"
    }
   },
   "source": [
    "Next, we reformatted the data such that it contains ticker history closing prices for the 1 year interval. For this data, we kept it as daily data rather than resampling it to monthly or weekly data.\n",
    "\n",
    "The reason why we chose to use daily data to calculate the metrics for our portfolio (such as STD and Correlation) is because we found that it produced the best results when backtesting our short-term risky portfolio. We decided against using monthly closing prices for our portfolio since using 1 year of historical data would only give us 12 closing prices to decide our portfolio off of - which is too little. We also tried using weekly data and decided against it since we found that it didn't capture the most short-term volatile stocks. Weekly data tended to give us stocks that were volatile by coincidence (such as news causing a sharp drop or rise in stock price), rather stocks that are intrinsically volatile (like oil stocks, which are volatile not by coincidence but because oil is a volatile asset). Thus, we found that daily data gave us the most intrinsically short-term volatile stocks to build our risky portfolio."
   ]
  },
  {
   "cell_type": "code",
   "execution_count": 9,
   "metadata": {},
   "outputs": [
    {
     "data": {
      "text/html": [
       "<div>\n",
       "<style scoped>\n",
       "    .dataframe tbody tr th:only-of-type {\n",
       "        vertical-align: middle;\n",
       "    }\n",
       "\n",
       "    .dataframe tbody tr th {\n",
       "        vertical-align: top;\n",
       "    }\n",
       "\n",
       "    .dataframe thead th {\n",
       "        text-align: right;\n",
       "    }\n",
       "</style>\n",
       "<table border=\"1\" class=\"dataframe\">\n",
       "  <thead>\n",
       "    <tr style=\"text-align: right;\">\n",
       "      <th></th>\n",
       "      <th>MTTRW</th>\n",
       "      <th>YUMC</th>\n",
       "      <th>PXS</th>\n",
       "      <th>ING</th>\n",
       "      <th>CNYA</th>\n",
       "      <th>MGTX</th>\n",
       "      <th>PIXY</th>\n",
       "      <th>VCIT</th>\n",
       "      <th>SRE</th>\n",
       "    </tr>\n",
       "    <tr>\n",
       "      <th>Date</th>\n",
       "      <th></th>\n",
       "      <th></th>\n",
       "      <th></th>\n",
       "      <th></th>\n",
       "      <th></th>\n",
       "      <th></th>\n",
       "      <th></th>\n",
       "      <th></th>\n",
       "      <th></th>\n",
       "    </tr>\n",
       "  </thead>\n",
       "  <tbody>\n",
       "    <tr>\n",
       "      <th>2020-11-27</th>\n",
       "      <td>NaN</td>\n",
       "      <td>57.928795</td>\n",
       "      <td>0.882</td>\n",
       "      <td>9.507059</td>\n",
       "      <td>40.076794</td>\n",
       "      <td>13.900000</td>\n",
       "      <td>2.510</td>\n",
       "      <td>94.685852</td>\n",
       "      <td>126.188179</td>\n",
       "    </tr>\n",
       "    <tr>\n",
       "      <th>2020-11-30</th>\n",
       "      <td>NaN</td>\n",
       "      <td>55.925091</td>\n",
       "      <td>0.940</td>\n",
       "      <td>9.155999</td>\n",
       "      <td>39.582020</td>\n",
       "      <td>14.120000</td>\n",
       "      <td>2.380</td>\n",
       "      <td>94.851776</td>\n",
       "      <td>123.305756</td>\n",
       "    </tr>\n",
       "    <tr>\n",
       "      <th>2020-12-01</th>\n",
       "      <td>NaN</td>\n",
       "      <td>57.700649</td>\n",
       "      <td>0.892</td>\n",
       "      <td>9.469106</td>\n",
       "      <td>40.710106</td>\n",
       "      <td>13.700000</td>\n",
       "      <td>2.360</td>\n",
       "      <td>94.586754</td>\n",
       "      <td>123.576591</td>\n",
       "    </tr>\n",
       "    <tr>\n",
       "      <th>2020-12-02</th>\n",
       "      <td>NaN</td>\n",
       "      <td>56.163151</td>\n",
       "      <td>0.920</td>\n",
       "      <td>9.592451</td>\n",
       "      <td>40.729897</td>\n",
       "      <td>14.110000</td>\n",
       "      <td>2.350</td>\n",
       "      <td>94.567184</td>\n",
       "      <td>127.126404</td>\n",
       "    </tr>\n",
       "    <tr>\n",
       "      <th>2020-12-03</th>\n",
       "      <td>NaN</td>\n",
       "      <td>56.351620</td>\n",
       "      <td>0.934</td>\n",
       "      <td>9.488082</td>\n",
       "      <td>40.680416</td>\n",
       "      <td>13.980000</td>\n",
       "      <td>2.320</td>\n",
       "      <td>94.772568</td>\n",
       "      <td>127.687408</td>\n",
       "    </tr>\n",
       "    <tr>\n",
       "      <th>...</th>\n",
       "      <td>...</td>\n",
       "      <td>...</td>\n",
       "      <td>...</td>\n",
       "      <td>...</td>\n",
       "      <td>...</td>\n",
       "      <td>...</td>\n",
       "      <td>...</td>\n",
       "      <td>...</td>\n",
       "      <td>...</td>\n",
       "    </tr>\n",
       "    <tr>\n",
       "      <th>2021-11-18</th>\n",
       "      <td>15.550000</td>\n",
       "      <td>53.339752</td>\n",
       "      <td>0.682</td>\n",
       "      <td>15.060000</td>\n",
       "      <td>42.830002</td>\n",
       "      <td>19.760000</td>\n",
       "      <td>0.992</td>\n",
       "      <td>93.370003</td>\n",
       "      <td>122.739998</td>\n",
       "    </tr>\n",
       "    <tr>\n",
       "      <th>2021-11-19</th>\n",
       "      <td>16.070000</td>\n",
       "      <td>53.369686</td>\n",
       "      <td>0.679</td>\n",
       "      <td>14.450000</td>\n",
       "      <td>43.299999</td>\n",
       "      <td>18.650000</td>\n",
       "      <td>0.971</td>\n",
       "      <td>93.519997</td>\n",
       "      <td>122.760002</td>\n",
       "    </tr>\n",
       "    <tr>\n",
       "      <th>2021-11-22</th>\n",
       "      <td>14.507000</td>\n",
       "      <td>53.230000</td>\n",
       "      <td>0.673</td>\n",
       "      <td>14.640000</td>\n",
       "      <td>43.650002</td>\n",
       "      <td>18.600000</td>\n",
       "      <td>0.890</td>\n",
       "      <td>92.900002</td>\n",
       "      <td>124.949997</td>\n",
       "    </tr>\n",
       "    <tr>\n",
       "      <th>2021-11-23</th>\n",
       "      <td>14.120000</td>\n",
       "      <td>53.000000</td>\n",
       "      <td>0.658</td>\n",
       "      <td>14.720000</td>\n",
       "      <td>43.660000</td>\n",
       "      <td>18.360001</td>\n",
       "      <td>0.940</td>\n",
       "      <td>92.550003</td>\n",
       "      <td>125.320000</td>\n",
       "    </tr>\n",
       "    <tr>\n",
       "      <th>2021-11-24</th>\n",
       "      <td>16.709999</td>\n",
       "      <td>53.330002</td>\n",
       "      <td>0.700</td>\n",
       "      <td>14.570000</td>\n",
       "      <td>43.650002</td>\n",
       "      <td>18.879999</td>\n",
       "      <td>0.894</td>\n",
       "      <td>92.669998</td>\n",
       "      <td>125.529999</td>\n",
       "    </tr>\n",
       "  </tbody>\n",
       "</table>\n",
       "<p>251 rows × 9 columns</p>\n",
       "</div>"
      ],
      "text/plain": [
       "                MTTRW       YUMC    PXS        ING       CNYA       MGTX  \\\n",
       "Date                                                                       \n",
       "2020-11-27        NaN  57.928795  0.882   9.507059  40.076794  13.900000   \n",
       "2020-11-30        NaN  55.925091  0.940   9.155999  39.582020  14.120000   \n",
       "2020-12-01        NaN  57.700649  0.892   9.469106  40.710106  13.700000   \n",
       "2020-12-02        NaN  56.163151  0.920   9.592451  40.729897  14.110000   \n",
       "2020-12-03        NaN  56.351620  0.934   9.488082  40.680416  13.980000   \n",
       "...               ...        ...    ...        ...        ...        ...   \n",
       "2021-11-18  15.550000  53.339752  0.682  15.060000  42.830002  19.760000   \n",
       "2021-11-19  16.070000  53.369686  0.679  14.450000  43.299999  18.650000   \n",
       "2021-11-22  14.507000  53.230000  0.673  14.640000  43.650002  18.600000   \n",
       "2021-11-23  14.120000  53.000000  0.658  14.720000  43.660000  18.360001   \n",
       "2021-11-24  16.709999  53.330002  0.700  14.570000  43.650002  18.879999   \n",
       "\n",
       "             PIXY       VCIT         SRE  \n",
       "Date                                      \n",
       "2020-11-27  2.510  94.685852  126.188179  \n",
       "2020-11-30  2.380  94.851776  123.305756  \n",
       "2020-12-01  2.360  94.586754  123.576591  \n",
       "2020-12-02  2.350  94.567184  127.126404  \n",
       "2020-12-03  2.320  94.772568  127.687408  \n",
       "...           ...        ...         ...  \n",
       "2021-11-18  0.992  93.370003  122.739998  \n",
       "2021-11-19  0.971  93.519997  122.760002  \n",
       "2021-11-22  0.890  92.900002  124.949997  \n",
       "2021-11-23  0.940  92.550003  125.320000  \n",
       "2021-11-24  0.894  92.669998  125.529999  \n",
       "\n",
       "[251 rows x 9 columns]"
      ]
     },
     "execution_count": 9,
     "metadata": {},
     "output_type": "execute_result"
    }
   ],
   "source": [
    "def create_df(df):\n",
    "    \"\"\"\n",
    "    This function iterates through the filtered list of stocks and creates a new dict with weekly ticker closing prices\n",
    "    :param df: filtered stocks DataFrame\n",
    "    :return: dict containing ticker closing prices resampled to weekly data\n",
    "    \"\"\"\n",
    "    dic = {}\n",
    "    for i in range(len(df)):\n",
    "        tick = df.iloc[i, 0]\n",
    "        # get ticker history data for the ticker\n",
    "        t_hist = hist_dict[tick]\n",
    "        # resample data to\n",
    "        dic[tick] = t_hist.Close\n",
    "    return dic\n",
    "\n",
    "\n",
    "#creates the dataframe price using the function create_df\n",
    "prices = pd.DataFrame(create_df(tickers_df))\n",
    "prices"
   ]
  },
  {
   "cell_type": "markdown",
   "metadata": {
    "pycharm": {
     "name": "#%% md\n"
    }
   },
   "source": [
    "In the next 2 cells, we obtain the stock with the highest risk (calculated using standard deviation). This will be a key part in forming our portfolio, as explained in the next annotation cell."
   ]
  },
  {
   "cell_type": "code",
   "execution_count": 10,
   "metadata": {},
   "outputs": [
    {
     "data": {
      "text/plain": [
       "{'MTTRW': 0.0892254509771861,\n",
       " 'YUMC': 0.014315493745677081,\n",
       " 'PXS': 0.0847520699935749,\n",
       " 'ING': 0.019183774190791664,\n",
       " 'CNYA': 0.013830901935157102,\n",
       " 'MGTX': 0.037985766868854735,\n",
       " 'PIXY': 0.06858140581324966,\n",
       " 'VCIT': 0.002566925435147436,\n",
       " 'SRE': 0.012676385404511076}"
      ]
     },
     "execution_count": 10,
     "metadata": {},
     "output_type": "execute_result"
    }
   ],
   "source": [
    "def generate_std(df):\n",
    "    \"\"\"\n",
    "    Creates a dict of tickers and their standard deviations for the given closing prices\n",
    "    :param df: Filtered DataFrame of tickers\n",
    "    :return: Dict of tickers and their STDs\n",
    "    \"\"\"\n",
    "    column = df.columns\n",
    "    stdlst_dic = {}\n",
    "    # Calculate the STD for each ticker\n",
    "    for i in range(len(column)):\n",
    "        temp = df[str(column[i])].pct_change().std()\n",
    "        stdlst_dic[str(column[i])] = temp\n",
    "    return stdlst_dic\n",
    "\n",
    "\n",
    "#creates the dataframe slst which is a dictionary containing the tickers and their std\n",
    "slst = generate_std(prices)\n",
    "slst"
   ]
  },
  {
   "cell_type": "code",
   "execution_count": 11,
   "metadata": {},
   "outputs": [
    {
     "data": {
      "text/plain": [
       "'MTTRW'"
      ]
     },
     "execution_count": 11,
     "metadata": {},
     "output_type": "execute_result"
    }
   ],
   "source": [
    "#function to find the highest std\n",
    "def get_highest_std(dic):\n",
    "    \"\"\"\n",
    "    Consumes a dictionary of tickers and their STDs and returns the ticker with the highest STD in the dict\n",
    "    :param dic: Dict of tickers and their STDs\n",
    "    :return: Ticker with the highest STD\n",
    "    \"\"\"\n",
    "    std = 0\n",
    "    tick = \"\"\n",
    "    # Calculates the highest STD\n",
    "    for i in dic:\n",
    "        if std < dic[i]:\n",
    "            std = dic[i]\n",
    "            tick = i\n",
    "    return tick\n",
    "\n",
    "\n",
    "#checking what the highest std is\n",
    "get_highest_std(slst)"
   ]
  },
  {
   "cell_type": "markdown",
   "metadata": {
    "pycharm": {
     "name": "#%% md\n"
    }
   },
   "source": [
    "Next we'll generate a correlation matrix for all the stocks"
   ]
  },
  {
   "cell_type": "code",
   "execution_count": 12,
   "metadata": {},
   "outputs": [
    {
     "data": {
      "text/html": [
       "<div>\n",
       "<style scoped>\n",
       "    .dataframe tbody tr th:only-of-type {\n",
       "        vertical-align: middle;\n",
       "    }\n",
       "\n",
       "    .dataframe tbody tr th {\n",
       "        vertical-align: top;\n",
       "    }\n",
       "\n",
       "    .dataframe thead th {\n",
       "        text-align: right;\n",
       "    }\n",
       "</style>\n",
       "<table border=\"1\" class=\"dataframe\">\n",
       "  <thead>\n",
       "    <tr style=\"text-align: right;\">\n",
       "      <th></th>\n",
       "      <th>MTTRW</th>\n",
       "      <th>YUMC</th>\n",
       "      <th>PXS</th>\n",
       "      <th>ING</th>\n",
       "      <th>CNYA</th>\n",
       "      <th>MGTX</th>\n",
       "      <th>PIXY</th>\n",
       "      <th>VCIT</th>\n",
       "      <th>SRE</th>\n",
       "    </tr>\n",
       "  </thead>\n",
       "  <tbody>\n",
       "    <tr>\n",
       "      <th>MTTRW</th>\n",
       "      <td>1.000000</td>\n",
       "      <td>-0.573786</td>\n",
       "      <td>-0.185994</td>\n",
       "      <td>0.613578</td>\n",
       "      <td>0.078642</td>\n",
       "      <td>0.549103</td>\n",
       "      <td>-0.613099</td>\n",
       "      <td>0.157793</td>\n",
       "      <td>-0.335099</td>\n",
       "    </tr>\n",
       "    <tr>\n",
       "      <th>YUMC</th>\n",
       "      <td>-0.573786</td>\n",
       "      <td>1.000000</td>\n",
       "      <td>0.064038</td>\n",
       "      <td>0.158054</td>\n",
       "      <td>0.285528</td>\n",
       "      <td>-0.208581</td>\n",
       "      <td>0.263343</td>\n",
       "      <td>-0.060410</td>\n",
       "      <td>0.541816</td>\n",
       "    </tr>\n",
       "    <tr>\n",
       "      <th>PXS</th>\n",
       "      <td>-0.185994</td>\n",
       "      <td>0.064038</td>\n",
       "      <td>1.000000</td>\n",
       "      <td>-0.398068</td>\n",
       "      <td>0.370015</td>\n",
       "      <td>0.126407</td>\n",
       "      <td>0.642069</td>\n",
       "      <td>-0.332790</td>\n",
       "      <td>-0.436046</td>\n",
       "    </tr>\n",
       "    <tr>\n",
       "      <th>ING</th>\n",
       "      <td>0.613578</td>\n",
       "      <td>0.158054</td>\n",
       "      <td>-0.398068</td>\n",
       "      <td>1.000000</td>\n",
       "      <td>-0.107830</td>\n",
       "      <td>0.219927</td>\n",
       "      <td>-0.749543</td>\n",
       "      <td>-0.198693</td>\n",
       "      <td>0.493866</td>\n",
       "    </tr>\n",
       "    <tr>\n",
       "      <th>CNYA</th>\n",
       "      <td>0.078642</td>\n",
       "      <td>0.285528</td>\n",
       "      <td>0.370015</td>\n",
       "      <td>-0.107830</td>\n",
       "      <td>1.000000</td>\n",
       "      <td>0.242679</td>\n",
       "      <td>0.347012</td>\n",
       "      <td>0.233942</td>\n",
       "      <td>-0.257934</td>\n",
       "    </tr>\n",
       "    <tr>\n",
       "      <th>MGTX</th>\n",
       "      <td>0.549103</td>\n",
       "      <td>-0.208581</td>\n",
       "      <td>0.126407</td>\n",
       "      <td>0.219927</td>\n",
       "      <td>0.242679</td>\n",
       "      <td>1.000000</td>\n",
       "      <td>-0.069285</td>\n",
       "      <td>-0.145946</td>\n",
       "      <td>-0.253653</td>\n",
       "    </tr>\n",
       "    <tr>\n",
       "      <th>PIXY</th>\n",
       "      <td>-0.613099</td>\n",
       "      <td>0.263343</td>\n",
       "      <td>0.642069</td>\n",
       "      <td>-0.749543</td>\n",
       "      <td>0.347012</td>\n",
       "      <td>-0.069285</td>\n",
       "      <td>1.000000</td>\n",
       "      <td>-0.202839</td>\n",
       "      <td>-0.261999</td>\n",
       "    </tr>\n",
       "    <tr>\n",
       "      <th>VCIT</th>\n",
       "      <td>0.157793</td>\n",
       "      <td>-0.060410</td>\n",
       "      <td>-0.332790</td>\n",
       "      <td>-0.198693</td>\n",
       "      <td>0.233942</td>\n",
       "      <td>-0.145946</td>\n",
       "      <td>-0.202839</td>\n",
       "      <td>1.000000</td>\n",
       "      <td>-0.100221</td>\n",
       "    </tr>\n",
       "    <tr>\n",
       "      <th>SRE</th>\n",
       "      <td>-0.335099</td>\n",
       "      <td>0.541816</td>\n",
       "      <td>-0.436046</td>\n",
       "      <td>0.493866</td>\n",
       "      <td>-0.257934</td>\n",
       "      <td>-0.253653</td>\n",
       "      <td>-0.261999</td>\n",
       "      <td>-0.100221</td>\n",
       "      <td>1.000000</td>\n",
       "    </tr>\n",
       "  </tbody>\n",
       "</table>\n",
       "</div>"
      ],
      "text/plain": [
       "          MTTRW      YUMC       PXS       ING      CNYA      MGTX      PIXY  \\\n",
       "MTTRW  1.000000 -0.573786 -0.185994  0.613578  0.078642  0.549103 -0.613099   \n",
       "YUMC  -0.573786  1.000000  0.064038  0.158054  0.285528 -0.208581  0.263343   \n",
       "PXS   -0.185994  0.064038  1.000000 -0.398068  0.370015  0.126407  0.642069   \n",
       "ING    0.613578  0.158054 -0.398068  1.000000 -0.107830  0.219927 -0.749543   \n",
       "CNYA   0.078642  0.285528  0.370015 -0.107830  1.000000  0.242679  0.347012   \n",
       "MGTX   0.549103 -0.208581  0.126407  0.219927  0.242679  1.000000 -0.069285   \n",
       "PIXY  -0.613099  0.263343  0.642069 -0.749543  0.347012 -0.069285  1.000000   \n",
       "VCIT   0.157793 -0.060410 -0.332790 -0.198693  0.233942 -0.145946 -0.202839   \n",
       "SRE   -0.335099  0.541816 -0.436046  0.493866 -0.257934 -0.253653 -0.261999   \n",
       "\n",
       "           VCIT       SRE  \n",
       "MTTRW  0.157793 -0.335099  \n",
       "YUMC  -0.060410  0.541816  \n",
       "PXS   -0.332790 -0.436046  \n",
       "ING   -0.198693  0.493866  \n",
       "CNYA   0.233942 -0.257934  \n",
       "MGTX  -0.145946 -0.253653  \n",
       "PIXY  -0.202839 -0.261999  \n",
       "VCIT   1.000000 -0.100221  \n",
       "SRE   -0.100221  1.000000  "
      ]
     },
     "execution_count": 12,
     "metadata": {},
     "output_type": "execute_result"
    }
   ],
   "source": [
    "#creating a correlation dataframe\n",
    "corr_df = prices.corr()\n",
    "corr_df"
   ]
  },
  {
   "cell_type": "markdown",
   "metadata": {
    "pycharm": {
     "name": "#%% md\n"
    }
   },
   "source": [
    "In the next cells, we use correlation to calculate stocks that trade in the same direction as the stock with the highest STD, in order to create a portfolio where all the stocks are strongly positively correlated with each other. In our original code, we instead compiled a list of stocks in the same industry to achieve the opposite affect of inter-industry diversification. However, we then realized that it would make more sense to choose a basket stocks that are strongly positively correlated with each other, since it would acheive the same effect as an intra-industry portfolio, but would give us a larger variety of risky stocks to choose from so we can choose the riskiest of stocks."
   ]
  },
  {
   "cell_type": "code",
   "execution_count": 13,
   "metadata": {},
   "outputs": [
    {
     "data": {
      "text/plain": [
       "{'positive': ['MTTRW', 'ING', 'CNYA', 'MGTX', 'VCIT'],\n",
       " 'negative': ['YUMC', 'PXS', 'PIXY', 'SRE']}"
      ]
     },
     "execution_count": 13,
     "metadata": {},
     "output_type": "execute_result"
    }
   ],
   "source": [
    "def lister(corr, highest_std):\n",
    "    \"\"\"\n",
    "    Creates a dict of stocks that are either positively or negatively correlated with the highest std stock\n",
    "    :param corr: Correlation matrix of all stocks\n",
    "    :param highest_std: Ticker of stock with the highest\n",
    "    :return:\n",
    "    \"\"\"\n",
    "    list1 = []\n",
    "    list2 = []\n",
    "    columns = corr.columns\n",
    "    for i in range(len(corr.index)):\n",
    "        c = corr[highest_std].iloc[i]\n",
    "        tick = columns[i]\n",
    "        if c > 0:\n",
    "            list1.append(tick)\n",
    "        elif c < 0:\n",
    "            list2.append(tick)\n",
    "    dic = {\"positive\": list1, \"negative\": list2}\n",
    "    return dic\n",
    "\n",
    "\n",
    "#creates dictionary cor_list which calls the function lister\n",
    "# contains two lists which are positive correlating and negative correlating with the inputed stock\n",
    "cor_list = lister(corr_df, get_highest_std(slst))\n",
    "cor_list"
   ]
  },
  {
   "cell_type": "markdown",
   "metadata": {
    "pycharm": {
     "name": "#%% md\n"
    }
   },
   "source": [
    "We then sort the both baskets of positively and negatively correlated stocks by their STDs in descending order so we can choose stocks that have the highest STD and are also strongly positively correlated with our keystone stock - the stock that has the highest std and weighting in our final portfolio."
   ]
  },
  {
   "cell_type": "code",
   "execution_count": 14,
   "metadata": {},
   "outputs": [
    {
     "data": {
      "text/plain": [
       "['MTTRW', 'MGTX', 'ING', 'CNYA', 'VCIT']"
      ]
     },
     "execution_count": 14,
     "metadata": {},
     "output_type": "execute_result"
    }
   ],
   "source": [
    "def quicksort(tick_lst, std_list):\n",
    "    \"\"\"\n",
    "    Implementation of quicksort to sort a list of tickers based on their std\n",
    "    :param tick_lst: Ticker list\n",
    "    :param std_list: List of respective STDs of the tickers.\n",
    "    :return: Sorted list of tickers\n",
    "    \"\"\"\n",
    "    sequence = tick_lst\n",
    "    length = len(sequence)\n",
    "    if length <= 1:\n",
    "        return sequence\n",
    "    else:\n",
    "        pivot = sequence.pop()\n",
    "\n",
    "    items_greater = []\n",
    "    items_lower = []\n",
    "\n",
    "    for item in sequence:\n",
    "        i = std_list[item]\n",
    "        pivoter = std_list[pivot]\n",
    "        if i < pivoter:\n",
    "            items_lower.append(item)\n",
    "        else:\n",
    "            items_greater.append(item)\n",
    "\n",
    "    return quicksort(items_greater, slst) + [pivot] + quicksort(items_lower, slst)\n",
    "\n",
    "\n",
    "positive = quicksort(cor_list[\"positive\"], slst)\n",
    "negative = (quicksort(cor_list[\"negative\"], slst))\n",
    "\n",
    "positive"
   ]
  },
  {
   "cell_type": "markdown",
   "metadata": {
    "pycharm": {
     "name": "#%% md\n"
    }
   },
   "source": [
    "We also have a function to ensure that our code doesn't acheive the opposite of a risky portfolio - in the case that there is less than 10 stocks that are positively correlated with the stock with the highest STD, it might choose stocks that are negatively correlated and create a balanced portfolio. To overcome this, we make sure that the STD of the basket of stocks WITH the highest correlation is higher than the STD of the basket of stocks that are strongly negatively correlated against the stock with the highest STD. In the case that this is false, then our portfolio becomes the stocks with the strongly negatively correlated stocks. In either case, this ensures that our portfolio will have the highest STD possible, and all the stocks in the portfolio trade in the same direction."
   ]
  },
  {
   "cell_type": "code",
   "execution_count": 15,
   "metadata": {},
   "outputs": [
    {
     "data": {
      "text/plain": [
       "4"
      ]
     },
     "execution_count": 15,
     "metadata": {},
     "output_type": "execute_result"
    }
   ],
   "source": [
    "def meanstd(lst, count, std_list, sum, lst_tick):\n",
    "    \"\"\"\n",
    "    Recursively calculates the average STD of the top 10 stocks in each list of positive and negative correlated stocks.\n",
    "    :param lst: List of tickers\n",
    "    :param count: Iterative counter\n",
    "    :param std_list: Ticker's stds\n",
    "    :param sum: Sum of the STD\n",
    "    :param lst_tick: Second list of tickers\n",
    "    :return: Average STD of stocks in a list\n",
    "    \"\"\"\n",
    "    if 0 == len(lst):\n",
    "        return {\"list\": lst_tick, \"mean\": (sum / count)}\n",
    "    elif 10 == count:\n",
    "        return {\"list\": lst_tick, \"mean\": (sum / 10)}\n",
    "    else:\n",
    "        sum = sum + std_list[lst[0]]\n",
    "        lst_tick.append(lst[0])\n",
    "        return meanstd(lst[1:], (count + 1), std_list, sum, lst_tick)\n",
    "\n",
    "\n",
    "pm = meanstd(positive, 0, slst, 0, [])\n",
    "nm = meanstd(negative, 0, slst, 0, [])\n",
    "\n",
    "len(nm[\"list\"])"
   ]
  },
  {
   "cell_type": "code",
   "execution_count": 16,
   "metadata": {},
   "outputs": [
    {
     "data": {
      "text/plain": [
       "{'list': ['MTTRW', 'MGTX', 'ING', 'CNYA', 'VCIT'],\n",
       " 'mean': 0.03255856388142741,\n",
       " 'oppo': ['PXS', 'PIXY', 'YUMC', 'SRE']}"
      ]
     },
     "execution_count": 16,
     "metadata": {},
     "output_type": "execute_result"
    }
   ],
   "source": [
    "def hstd(p, n):\n",
    "    \"\"\"\n",
    "    Gets the higher average std of the positively and negatively correlated stocks\n",
    "    :param p: Positively correlated stock std\n",
    "    :param n: Negatively correlated stock std\n",
    "    :return: Higher average STD\n",
    "    \"\"\"\n",
    "    pm=p[\"mean\"]\n",
    "    nm=n[\"mean\"]\n",
    "    pl=len(p[\"list\"])\n",
    "    nl=len(n[\"list\"])\n",
    "    p[\"oppo\"]=negative\n",
    "    n[\"oppo\"]=positive\n",
    "    \n",
    "    if pm > nm and pl >=7:\n",
    "        return p\n",
    "    elif nm > pm and nl >= 7:\n",
    "        return n\n",
    "    elif pl == nl:\n",
    "        if pm > nm:\n",
    "            return p\n",
    "        elif nm > pm:\n",
    "            return n\n",
    "    elif pl > nl:\n",
    "        return p\n",
    "    elif nl > pl:\n",
    "        return n\n",
    "    else: \n",
    "        return (\"bruh\")\n",
    "        \n",
    "\n",
    "\n",
    "port_list = hstd(pm, nm)\n",
    "port_list"
   ]
  },
  {
   "cell_type": "markdown",
   "metadata": {
    "pycharm": {
     "name": "#%% md\n"
    }
   },
   "source": [
    "In the case that the list of tickers given to us is less than 20 (such as 6 positively correlated stocks and 5 negatively correlated stocks), our portfolio appends the negatively correlated stocks with the lowest STD to our positively correlated portfolio. This ensures that our portfolio has at least 10 stocks and the negatively correlated stocks do not affect our portfolio performance as much."
   ]
  },
  {
   "cell_type": "code",
   "execution_count": 17,
   "metadata": {},
   "outputs": [
    {
     "ename": "IndexError",
     "evalue": "list index out of range",
     "output_type": "error",
     "traceback": [
      "\u001b[1;31m---------------------------------------------------------------------------\u001b[0m",
      "\u001b[1;31mIndexError\u001b[0m                                Traceback (most recent call last)",
      "\u001b[1;32m<ipython-input-17-22479b0ad8f5>\u001b[0m in \u001b[0;36m<module>\u001b[1;34m\u001b[0m\n\u001b[0;32m     17\u001b[0m \u001b[1;33m\u001b[0m\u001b[0m\n\u001b[0;32m     18\u001b[0m \u001b[1;33m\u001b[0m\u001b[0m\n\u001b[1;32m---> 19\u001b[1;33m \u001b[0mfinalport_lst\u001b[0m\u001b[1;33m=\u001b[0m\u001b[0mportlength\u001b[0m\u001b[1;33m(\u001b[0m\u001b[0mport_list\u001b[0m\u001b[1;33m)\u001b[0m\u001b[1;33m\u001b[0m\u001b[1;33m\u001b[0m\u001b[0m\n\u001b[0m\u001b[0;32m     20\u001b[0m \u001b[0mfinalport_lst\u001b[0m\u001b[1;33m\u001b[0m\u001b[1;33m\u001b[0m\u001b[0m\n",
      "\u001b[1;32m<ipython-input-17-22479b0ad8f5>\u001b[0m in \u001b[0;36mportlength\u001b[1;34m(port)\u001b[0m\n\u001b[0;32m     12\u001b[0m         \u001b[0ml\u001b[0m\u001b[1;33m=\u001b[0m\u001b[1;36m10\u001b[0m\u001b[1;33m-\u001b[0m\u001b[0mlen\u001b[0m\u001b[1;33m(\u001b[0m\u001b[0mlster\u001b[0m\u001b[1;33m)\u001b[0m\u001b[1;33m\u001b[0m\u001b[1;33m\u001b[0m\u001b[0m\n\u001b[0;32m     13\u001b[0m         \u001b[1;32mfor\u001b[0m \u001b[0mi\u001b[0m \u001b[1;32min\u001b[0m \u001b[0mrange\u001b[0m\u001b[1;33m(\u001b[0m\u001b[1;36m0\u001b[0m\u001b[1;33m,\u001b[0m\u001b[0ml\u001b[0m\u001b[1;33m)\u001b[0m \u001b[1;33m:\u001b[0m\u001b[1;33m\u001b[0m\u001b[1;33m\u001b[0m\u001b[0m\n\u001b[1;32m---> 14\u001b[1;33m             \u001b[0mlster\u001b[0m\u001b[1;33m.\u001b[0m\u001b[0mappend\u001b[0m\u001b[1;33m(\u001b[0m\u001b[0mport\u001b[0m\u001b[1;33m[\u001b[0m\u001b[1;34m\"oppo\"\u001b[0m\u001b[1;33m]\u001b[0m\u001b[1;33m[\u001b[0m\u001b[1;33m-\u001b[0m\u001b[1;36m1\u001b[0m \u001b[1;33m*\u001b[0m\u001b[1;33m(\u001b[0m\u001b[0mi\u001b[0m\u001b[1;33m+\u001b[0m\u001b[1;36m1\u001b[0m\u001b[1;33m)\u001b[0m\u001b[1;33m]\u001b[0m\u001b[1;33m)\u001b[0m\u001b[1;33m\u001b[0m\u001b[1;33m\u001b[0m\u001b[0m\n\u001b[0m\u001b[0;32m     15\u001b[0m         \u001b[1;32mreturn\u001b[0m \u001b[0mlster\u001b[0m\u001b[1;33m\u001b[0m\u001b[1;33m\u001b[0m\u001b[0m\n\u001b[0;32m     16\u001b[0m \u001b[1;33m\u001b[0m\u001b[0m\n",
      "\u001b[1;31mIndexError\u001b[0m: list index out of range"
     ]
    }
   ],
   "source": [
    "def portlength(port):\n",
    "    \"\"\"\n",
    "    Appends weakly negatively correlated stocks to our portfolio if there aren't enough positively correlated stocks in our portfolio.\n",
    "    :param port: Portfolio tickers\n",
    "    :return: New portfolio\n",
    "    \"\"\"\n",
    "    lster=port[\"list\"]\n",
    "    \n",
    "    if len(lster) == 10:\n",
    "        return lster\n",
    "    else:\n",
    "        l=10-len(lster)\n",
    "        for i in range(0,l) :\n",
    "            lster.append(port[\"oppo\"][-1 *(i+1)])\n",
    "        return lster\n",
    "\n",
    "\n",
    "\n",
    "finalport_lst=portlength(port_list)\n",
    "finalport_lst"
   ]
  },
  {
   "cell_type": "code",
   "execution_count": null,
   "metadata": {},
   "outputs": [],
   "source": [
    "lstofstocks = finalport_lst\n",
    "lstofstocks"
   ]
  },
  {
   "cell_type": "markdown",
   "metadata": {
    "pycharm": {
     "name": "#%% md\n"
    }
   },
   "source": [
    "Finally, we set our weights in this cell and backtest our portfolio over 2021-11-01 to 2021-11-26. For our weightings, we made them\n",
    "\n",
    "35% 25% 5% 5% 5% 5% 5% 5% 5% 5%\n",
    "\n",
    "Where the stock with the highest STD in our portfolio is weighted at 35% and the stock with the lowest STD is weighted at 5%. This ensures that overall, our portfolio has the highest STD as allowed by the requirements of the assignment (limited by the weightings), by giving the highest weighting to the riskiest stock. That way, a volatile move by the stock with the highest std will affect our portfolio the most."
   ]
  },
  {
   "cell_type": "code",
   "execution_count": null,
   "metadata": {
    "pycharm": {
     "name": "#%%\n"
    }
   },
   "outputs": [],
   "source": [
    "# Using the 35% distribution\n",
    "\n",
    "startdate = '2021-11-01'\n",
    "enddate = '2021-11-26'\n",
    "\n",
    "#Determine number of shares bought for each stocks under 35% weighted profolio ($100,000)\n",
    "# Assuming that the stocks i the list are given in increasing order\n",
    "NumOfShares = []  # number of shares will be printed in the list according to the corrosponding order\n",
    "\n",
    "\n",
    "# Loopsahre function takes a list the starting date and the ending date, and produces the number of shares for each stocks in the list given\n",
    "# Since the stocks given in the list is already sorted in decreasing order of standard deviation, we con proceed to apply the\n",
    "# 35% percent distribution method (explained in the report)\n",
    "def loopshare(lst, date_start, date_end):\n",
    "    for i in range(len(lst)):\n",
    "        if (i < 1):\n",
    "            NumOfShares.append(35000 / ((yf.Ticker(lst[i]).history(start=date_start, end=date_end)).iloc[0, 3]))\n",
    "        elif (i < 2):\n",
    "            NumOfShares.append(25000 / ((yf.Ticker(lst[i]).history(start=date_start, end=date_end)).iloc[0, 3]))\n",
    "        else:\n",
    "            NumOfShares.append(5000 / ((yf.Ticker(lst[i]).history(start=date_start, end=date_end)).iloc[0, 3]))\n",
    "    return NumOfShares\n",
    "\n",
    "\n",
    "loopshare(lstofstocks, startdate, enddate)\n",
    "\n",
    "listOfClose = []  #list of dataframe\n",
    "\n",
    "\n",
    "#Extracting the closed data\n",
    "\n",
    "# Funcation loopClose takes a lst of tickers, start date, and a end date, and produces a list of closing price of each stocks in the list date\n",
    "# Withtin the start and end date\n",
    "def loopClose(lst, start_date, end_date):\n",
    "    for i in range(len(lst)):\n",
    "        listOfClose.append(pd.DataFrame((yf.Ticker(lst[i]).history(start=start_date, end=end_date))['Close']))\n",
    "\n",
    "\n",
    "loopClose(lstofstocks, startdate, enddate)\n",
    "\n",
    "#Setting up a list before adding it to the dataframe\n",
    "listBefore = []\n",
    "\n",
    "\n",
    "#Function loopCloseBefore, creates a list of closing prices of tickers that is ready to be put into a dataframe\n",
    "def loopCloseBefore(lst):\n",
    "    for i in range(len(lst)):\n",
    "        if (i == 0):\n",
    "            listBefore.append(lst[i])\n",
    "        else:\n",
    "            listBefore.append(lst[i]['Close'])\n",
    "\n",
    "\n",
    "loopCloseBefore(listOfClose)\n",
    "\n",
    "#Create the dataframe for tracking the portfolio\n",
    "\n",
    "#concating all the list of closign prices of stocks\n",
    "finalPortfolio = pd.concat(listBefore, join='inner', axis=1)\n",
    "\n",
    "#Renaming the column names to the corrosponding stocks\n",
    "finalPortfolio.columns = lstofstocks\n",
    "\n",
    "#Adding portfolio\n",
    "\n",
    "#Adding the column portfolio\n",
    "finalPortfolio['portfolio'] = finalPortfolio[str(finalPortfolio.columns[0])] * NumOfShares[0] + finalPortfolio[\n",
    "    str(finalPortfolio.columns[1])] * NumOfShares[1] + finalPortfolio[str(finalPortfolio.columns[2])] * NumOfShares[2] + \\\n",
    "                              finalPortfolio[str(finalPortfolio.columns[3])] * NumOfShares[3] + finalPortfolio[\n",
    "                                  str(finalPortfolio.columns[4])] * NumOfShares[4] + finalPortfolio[\n",
    "                                  str(finalPortfolio.columns[5])] * NumOfShares[5] + finalPortfolio[\n",
    "                                  str(finalPortfolio.columns[6])] * NumOfShares[6] + finalPortfolio[\n",
    "                                  str(finalPortfolio.columns[7])] * NumOfShares[7] + finalPortfolio[\n",
    "                                  str(finalPortfolio.columns[8])] * NumOfShares[8] + finalPortfolio[\n",
    "                                  str(finalPortfolio.columns[9])] * NumOfShares[9]"
   ]
  },
  {
   "cell_type": "markdown",
   "metadata": {
    "pycharm": {
     "name": "#%% md\n"
    }
   },
   "source": [
    "As seen below, over the course of 1 month from 2021-11-01 to 2021-11-26, our portfolio fell 5%. At the lowest, it fell nearly 8%. The backtesting of our portfolio on historical data reveals that it is very risky as desired."
   ]
  },
  {
   "cell_type": "code",
   "execution_count": null,
   "metadata": {
    "pycharm": {
     "name": "#%%\n"
    }
   },
   "outputs": [],
   "source": [
    "finalPortfolio"
   ]
  },
  {
   "cell_type": "code",
   "execution_count": null,
   "metadata": {
    "pycharm": {
     "name": "#%%\n"
    }
   },
   "outputs": [],
   "source": [
    "# Portfolio starting date\n",
    "comp_date = '2021-11-26'"
   ]
  },
  {
   "cell_type": "markdown",
   "metadata": {
    "pycharm": {
     "name": "#%% md\n"
    }
   },
   "source": [
    "Please note that while we were testing our code, Yahoo Finance sometimes updates their data unpredictably, so we couldn't always get the closing prices for the current day. However, this shouldn't be a problem when you run the code past the 26th."
   ]
  },
  {
   "cell_type": "code",
   "execution_count": null,
   "metadata": {
    "pycharm": {
     "name": "#%%\n"
    }
   },
   "outputs": [],
   "source": [
    "def price_data(lst,date):\n",
    "    dic={}\n",
    "    for i in range(len(lst)):\n",
    "        t=yf.Ticker(lst[i])\n",
    "        t_hist=t.history(start=date).iloc[0]\n",
    "        dic[lst[i]]=t_hist.Close\n",
    "    return dic\n",
    "\n",
    "comp_closing=pd.DataFrame(price_data(lstofstocks, comp_date), index=[pd.to_datetime(comp_date)])\n",
    "\n",
    "def calc_shares(df):\n",
    "    dic={}\n",
    "    for i in range(len(df.index)):\n",
    "        for j in range(len(df.columns)):\n",
    "            if j <= 0:\n",
    "                dic[df.columns[j]]=35000/df.iloc[i,j]\n",
    "            elif j <= 1:\n",
    "                dic[df.columns[j]]=25000/df.iloc[i,j]\n",
    "            else:\n",
    "                dic[df.columns[j]]=5000/df.iloc[i,j]\n",
    "    return dic\n",
    "\n",
    "shares=calc_shares(comp_closing)\n",
    "sa=pd.DataFrame.from_dict(shares,orient=\"index\")\n",
    "\n",
    "comp_closing=comp_closing.transpose()\n",
    "FinalPortfolio=comp_closing\n",
    "\n",
    "FinalPortfolio[\"Shares\"]=sa[0]\n",
    "FinalPortfolio=comp_closing.reset_index()\n",
    "FinalPortfolio.columns=[\"Ticker\",\"Prices\",\"Shares\"]\n",
    "FinalPortfolio[\"Values\"]=FinalPortfolio[\"Prices\"]*FinalPortfolio[\"Shares\"]\n",
    "FinalPortfolio[\"Weight\"]=(FinalPortfolio[\"Values\"]/100000)*100\n",
    "FinalPortfolio"
   ]
  },
  {
   "cell_type": "code",
   "execution_count": null,
   "metadata": {
    "pycharm": {
     "name": "#%%\n"
    }
   },
   "outputs": [],
   "source": [
    "Stocks=pd.DataFrame(FinalPortfolio[\"Ticker\"])\n",
    "Stocks[\"Shares\"]=FinalPortfolio[\"Shares\"]\n",
    "Stocks"
   ]
  },
  {
   "cell_type": "code",
   "execution_count": null,
   "metadata": {
    "pycharm": {
     "name": "#%%\n"
    }
   },
   "outputs": [],
   "source": [
    "Stocks.to_csv('Stocks_Group_12.csv', index=False)\n",
    "pd.read_csv('Stocks_Group_12.csv')"
   ]
  },
  {
   "cell_type": "markdown",
   "metadata": {
    "pycharm": {
     "name": "#%% md\n"
    }
   },
   "source": [
    "## How we came up with our list of tickers\n",
    "When thinking about what a risky portfolio is, we directed our focus to creating the least diverse portfolio made with the most volatile stocks. Instantly, we wanted to create a portfolio with 10 volatile stocks with high stds over a reasonable time interval.\n",
    "\n",
    "Our original thought process was to compare industries and find the industry with stocks which have the highest std. This would create very little diversification as stocks in the same industry tend to trend the same way. However, this method was ineffective for numerous reasons. The code would be far less efficient as we must call the info dictionary to get the industry and track down how many industries there are, moreover, we must check if there are even 10 stocks in each industry. Furthermore, one overtly volatile stock in one industry would lead us to base the portfolio on that industry; this is a problem as the industry might be relatively safe other than that one volatile stock creating a safe portfolio consequently.\n",
    "\n",
    "Hence, we shifted our approach to look at correlation of each stock to the stock with the highest std. This would grant us to create two groups of stocks; stocks that positively correlate with the stock with the highest std and stocks that negatively correlate. The two lists of stocks were then reorganized by highest to lowest std and the top 10 were picked from each list. This method grants us to create two lists of stocks which are very risky and have a history of correlating with each other (less diversification within each list). We then take the list of stocks which have the higher average std. If the group of stocks with the higher average std has less than 10 stocks, we just take stocks from the bottom of the list of the original organized list of oppositely correlating stocks. In other words, from the list of tickers, we have limited it down to 10 stocks which all relatively correlate in the same direction and are very volatile. Correlation is better than industry as industries also correlate with each other so by being inclusive of multiple industries through correlation, we get access to other volatile stocks in other industries.\n"
   ]
  },
  {
   "cell_type": "markdown",
   "metadata": {
    "pycharm": {
     "name": "#%% md\n"
    }
   },
   "source": [
    "## 35% diversification method:\n",
    "In the final part of the program, we’ve implemented a diversification method to determine the proportion of stocks bought using the 100,000, which we called the 35% diversification method. Our goal for the group is to create the most risky portfolio possible. As stated above, our condition for a risky portfolio is to have the least amount of variation of stocks possible, a low volume for each stock, and a high standard deviation for each stock, more importantly, the stocks in the portfolio have to correlate in the same direction.\n",
    "However, in the rules for the competition, we are required to have a minimum of 10 stocks, and no value of a specific stock in the portfolio should weigh over 35%. Therefore, according to our condition for a high risk portfolio, we decided to make a portfolio with only 10 stocks. Another rule for the assignment is that each stock must make up a minimum of (100/(2n))% of the portfolio therefore, this leaves us with a portfolio of 10 stocks, and no stocks could be weighted higher than 35% or lower than 5%.\n",
    "At the point of the code before implementing the 35% diversification method, we’ve already got a list of 10 stocks that are given in a decreasing order of standard deviation(calculated by previous historic data), and also correlated in the same direction, that means the first stock in the list is the most volatile, where as the last stock is the most volatile, but among the ten stocks. Since we know the list is given in a decreasing order, we wish to allocate our proportion of investment in a decreasing order as well, meaning that we put the most money in the first stock in the list and the least in the last stock, which optimizes the risk. Keeping in mind the fact that no values of stocks can make up more than 35%, and no values of stocks and be below 5%, by mathematical calculation, this leaves us with the optimum weighting of 35% for the first stock, 25% for the second stocks, and 5% each for the rest of the 8 stocks. In this case we can guarantee that 60% of our portfolio is driven by the two riskiest stocks, that correlates the same way, and the rest 40% of our portfolio is driven by 8 stocks that are less risky, but also correlates the same way. In this case, we created a portfolio that follows our condition for a risky portfolio, which is more concentrated, and have the least amount of variation stocks possible, but also not violating the rules for the assignment at the same time."
   ]
  },
  {
   "cell_type": "markdown",
   "metadata": {
    "pycharm": {
     "name": "#%% md\n"
    }
   },
   "source": [
    "## Contribution Declaration\n",
    "\n",
    "The following team members made a meaningful contribution to this assignment:\n",
    "\n",
    "Bill:\n",
    "Filtration code, annotation in the actual code and overall error checking.\n",
    "\n",
    "Soumik:\n",
    "Correlation code and generating the actual list of tickers to be used. Also worked on the final written portion.\n",
    "\n",
    "Justin:\n",
    "Code for calculating the weighting and outputting it to the csv. ALso worked on the final written portion."
   ]
  },
  {
   "cell_type": "code",
   "execution_count": null,
   "metadata": {},
   "outputs": [],
   "source": []
  }
 ],
 "metadata": {
  "kernelspec": {
   "display_name": "venv",
   "language": "python",
   "name": "venv"
  },
  "language_info": {
   "codemirror_mode": {
    "name": "ipython",
    "version": 3
   },
   "file_extension": ".py",
   "mimetype": "text/x-python",
   "name": "python",
   "nbconvert_exporter": "python",
   "pygments_lexer": "ipython3",
   "version": "3.8.8"
  }
 },
 "nbformat": 4,
 "nbformat_minor": 2
}
