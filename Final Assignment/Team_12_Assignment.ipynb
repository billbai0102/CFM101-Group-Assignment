{
 "cells": [
  {
   "cell_type": "code",
   "execution_count": 1,
   "metadata": {},
   "outputs": [],
   "source": [
    "from IPython.display import display, Math, Latex\n",
    "\n",
    "import pandas as pd\n",
    "import numpy as np\n",
    "import numpy_financial as npf\n",
    "import yfinance as yf\n",
    "import matplotlib.pyplot as plt\n",
    "from datetime import datetime"
   ]
  },
  {
   "cell_type": "markdown",
   "metadata": {},
   "source": [
    "## Group Assignment\n",
    "### Team Number: 12\n",
    "### Team Member Names: Bill Bai, Soumik Debnath, Justin Yu\n",
    "### Team Strategy Chosen: Risky (RISKY OR SAFE)"
   ]
  },
  {
   "cell_type": "markdown",
   "metadata": {
    "pycharm": {
     "name": "#%% md\n"
    }
   },
   "source": [
    "Below, we define start and end dates to get ticker data in order to create our portfolio. We defined it from 2020-11-26 to 2021-11-26, or a 1 year interval.\n",
    "\n",
    "The reason why we chose to base our portfolio off of 1 year of historical data is because we wanted a timeframe that wasn't too long that our short-term risky portfolio would capture \"too much\" irrelevant data - for example, we chose to use standard deviation as a factor in creating our portfolio and using too long of a timeframe might cause our code to choose a stock that used to be volatile, but is now \"safe\". We also didn't want to use too short of a time interval since our portfolio uses correlation to choose stocks that tend to trade in the same direction - using too short of a timeframe would capture stocks that may be correlated for a short interval by pure coincidence or by broader-market forces.\n",
    "\n",
    "Thus, the perfect interval we found after backtesting our code many times on different timeframes and lists of tickers happened to be 1 year. 1 year perfectly captures the stocks with the most momentum to make our portfolio risky, but also ensures that the stocks in our portfolio are correlated for a reason, rather than by pure coincidence or market forces.\n",
    "\n",
    "Later on in our code, we'll also explain why we used daily data in calculating the risk metrics for our portfolio, rather than weekly or monthly data."
   ]
  },
  {
   "cell_type": "code",
   "execution_count": 2,
   "metadata": {
    "pycharm": {
     "name": "#%%\n"
    }
   },
   "outputs": [],
   "source": [
    "# Start and end date to base our portfolio tickers off of\n",
    "start_date = \"2020-11-26\"\n",
    "end_date = \"2021-11-26\""
   ]
  },
  {
   "cell_type": "markdown",
   "metadata": {
    "pycharm": {
     "name": "#%% md\n"
    }
   },
   "source": [
    "Next we'll load the given list of tickers to choose our portfolio from."
   ]
  },
  {
   "cell_type": "code",
   "execution_count": 3,
   "metadata": {
    "pycharm": {
     "name": "#%%\n"
    }
   },
   "outputs": [],
   "source": [
    "# Read in tickers file and save as DF\n",
    "tickers_path = \"./Tickers.csv\"\n",
    "tickers_df = pd.read_csv(tickers_path, header=None).rename(columns={0: 'Ticker'})\n",
    "\n",
    "# NEW CODE: Get rid of duplicates in the tickers list.\n",
    "tickers_df = tickers_df.drop_duplicates()"
   ]
  },
  {
   "cell_type": "code",
   "execution_count": 4,
   "metadata": {
    "pycharm": {
     "name": "#%%\n"
    }
   },
   "outputs": [
    {
     "data": {
      "text/plain": "        Ticker\n0         AAPL\n1         ABBV\n2          LOW\n3         AUST\n4         HOOD\n5   INVALIDTIC\n6         AMZN\n7          AXP\n8          BAC\n9         BMBL\n10          BK\n11     HDFC.NS\n12          SQ\n13        CELG\n14          VZ\n15       CMCSA\n16        SHOP\n18        COST\n19        CSCO\n20         CVS\n21          GM\n22        GOOG\n23         JPM\n24         IBM\n25        ORCL\n26         OXY\n27        DUOL\n28         PEP\n29       BB.TO\n30         SLB\n31          SO\n32         SPG\n33        PYPL",
      "text/html": "<div>\n<style scoped>\n    .dataframe tbody tr th:only-of-type {\n        vertical-align: middle;\n    }\n\n    .dataframe tbody tr th {\n        vertical-align: top;\n    }\n\n    .dataframe thead th {\n        text-align: right;\n    }\n</style>\n<table border=\"1\" class=\"dataframe\">\n  <thead>\n    <tr style=\"text-align: right;\">\n      <th></th>\n      <th>Ticker</th>\n    </tr>\n  </thead>\n  <tbody>\n    <tr>\n      <th>0</th>\n      <td>AAPL</td>\n    </tr>\n    <tr>\n      <th>1</th>\n      <td>ABBV</td>\n    </tr>\n    <tr>\n      <th>2</th>\n      <td>LOW</td>\n    </tr>\n    <tr>\n      <th>3</th>\n      <td>AUST</td>\n    </tr>\n    <tr>\n      <th>4</th>\n      <td>HOOD</td>\n    </tr>\n    <tr>\n      <th>5</th>\n      <td>INVALIDTIC</td>\n    </tr>\n    <tr>\n      <th>6</th>\n      <td>AMZN</td>\n    </tr>\n    <tr>\n      <th>7</th>\n      <td>AXP</td>\n    </tr>\n    <tr>\n      <th>8</th>\n      <td>BAC</td>\n    </tr>\n    <tr>\n      <th>9</th>\n      <td>BMBL</td>\n    </tr>\n    <tr>\n      <th>10</th>\n      <td>BK</td>\n    </tr>\n    <tr>\n      <th>11</th>\n      <td>HDFC.NS</td>\n    </tr>\n    <tr>\n      <th>12</th>\n      <td>SQ</td>\n    </tr>\n    <tr>\n      <th>13</th>\n      <td>CELG</td>\n    </tr>\n    <tr>\n      <th>14</th>\n      <td>VZ</td>\n    </tr>\n    <tr>\n      <th>15</th>\n      <td>CMCSA</td>\n    </tr>\n    <tr>\n      <th>16</th>\n      <td>SHOP</td>\n    </tr>\n    <tr>\n      <th>18</th>\n      <td>COST</td>\n    </tr>\n    <tr>\n      <th>19</th>\n      <td>CSCO</td>\n    </tr>\n    <tr>\n      <th>20</th>\n      <td>CVS</td>\n    </tr>\n    <tr>\n      <th>21</th>\n      <td>GM</td>\n    </tr>\n    <tr>\n      <th>22</th>\n      <td>GOOG</td>\n    </tr>\n    <tr>\n      <th>23</th>\n      <td>JPM</td>\n    </tr>\n    <tr>\n      <th>24</th>\n      <td>IBM</td>\n    </tr>\n    <tr>\n      <th>25</th>\n      <td>ORCL</td>\n    </tr>\n    <tr>\n      <th>26</th>\n      <td>OXY</td>\n    </tr>\n    <tr>\n      <th>27</th>\n      <td>DUOL</td>\n    </tr>\n    <tr>\n      <th>28</th>\n      <td>PEP</td>\n    </tr>\n    <tr>\n      <th>29</th>\n      <td>BB.TO</td>\n    </tr>\n    <tr>\n      <th>30</th>\n      <td>SLB</td>\n    </tr>\n    <tr>\n      <th>31</th>\n      <td>SO</td>\n    </tr>\n    <tr>\n      <th>32</th>\n      <td>SPG</td>\n    </tr>\n    <tr>\n      <th>33</th>\n      <td>PYPL</td>\n    </tr>\n  </tbody>\n</table>\n</div>"
     },
     "execution_count": 4,
     "metadata": {},
     "output_type": "execute_result"
    }
   ],
   "source": [
    "# Display tickers dataframe\n",
    "tickers_df"
   ]
  },
  {
   "cell_type": "markdown",
   "metadata": {
    "pycharm": {
     "name": "#%% md\n"
    }
   },
   "source": [
    "Here, we create an info column in our tickers dataframe, where each cell contains the yf.Ticker(ticker).info dict for each ticker. We implemented this to increase efficiency in our code, since calling .info takes a few seconds for each call, and our list of tickers is very long. Thus, it is more efficient to save the info dict in memory rather than performing an API call each time we need a stock's info."
   ]
  },
  {
   "cell_type": "code",
   "execution_count": 5,
   "metadata": {
    "pycharm": {
     "name": "#%%\n"
    }
   },
   "outputs": [
    {
     "name": "stdout",
     "output_type": "stream",
     "text": [
      "................................."
     ]
    },
    {
     "data": {
      "text/plain": "        Ticker                                               Info\n0         AAPL  {'zip': '95014', 'sector': 'Technology', 'full...\n1         ABBV  {'zip': '60064-6400', 'sector': 'Healthcare', ...\n2          LOW  {'zip': '28117', 'sector': 'Consumer Cyclical'...\n3         AUST  {'exchange': 'ASE', 'shortName': 'Austin Gold ...\n4         HOOD  {'zip': '94025', 'sector': 'Technology', 'full...\n5   INVALIDTIC       {'regularMarketPrice': None, 'logo_url': ''}\n6         AMZN  {'zip': '98109-5210', 'sector': 'Consumer Cycl...\n7          AXP  {'zip': '10285', 'sector': 'Financial Services...\n8          BAC  {'zip': '28255', 'sector': 'Financial Services...\n9         BMBL  {'zip': '78756-3706', 'sector': 'Technology', ...\n10          BK  {'zip': '10286', 'sector': 'Financial Services...\n11     HDFC.NS  {'zip': '400020', 'sector': 'Financial Service...\n12          SQ  {'zip': '94103', 'sector': 'Technology', 'full...\n13        CELG       {'regularMarketPrice': None, 'logo_url': ''}\n14          VZ  {'zip': '10036', 'sector': 'Communication Serv...\n15       CMCSA  {'zip': '19103-2838', 'sector': 'Communication...\n16        SHOP  {'zip': 'K2P 2L8', 'sector': 'Technology', 'fu...\n18        COST  {'zip': '98027', 'sector': 'Consumer Defensive...\n19        CSCO  {'zip': '95134', 'sector': 'Technology', 'full...\n20         CVS  {'zip': '02895', 'sector': 'Healthcare', 'full...\n21          GM  {'zip': '48265-3000', 'sector': 'Consumer Cycl...\n22        GOOG  {'zip': '94043', 'sector': 'Communication Serv...\n23         JPM  {'zip': '10179', 'sector': 'Financial Services...\n24         IBM  {'zip': '10504', 'sector': 'Technology', 'full...\n25        ORCL  {'zip': '78741', 'sector': 'Technology', 'full...\n26         OXY  {'zip': '77046-0521', 'sector': 'Energy', 'ful...\n27        DUOL  {'zip': '15206', 'sector': 'Technology', 'full...\n28         PEP  {'zip': '10577', 'sector': 'Consumer Defensive...\n29       BB.TO  {'zip': 'N2K 0A7', 'sector': 'Technology', 'fu...\n30         SLB  {'zip': '77056', 'sector': 'Energy', 'fullTime...\n31          SO  {'zip': '30308', 'sector': 'Utilities', 'fullT...\n32         SPG  {'zip': '46204', 'sector': 'Real Estate', 'ful...\n33        PYPL  {'zip': '95131', 'sector': 'Financial Services...",
      "text/html": "<div>\n<style scoped>\n    .dataframe tbody tr th:only-of-type {\n        vertical-align: middle;\n    }\n\n    .dataframe tbody tr th {\n        vertical-align: top;\n    }\n\n    .dataframe thead th {\n        text-align: right;\n    }\n</style>\n<table border=\"1\" class=\"dataframe\">\n  <thead>\n    <tr style=\"text-align: right;\">\n      <th></th>\n      <th>Ticker</th>\n      <th>Info</th>\n    </tr>\n  </thead>\n  <tbody>\n    <tr>\n      <th>0</th>\n      <td>AAPL</td>\n      <td>{'zip': '95014', 'sector': 'Technology', 'full...</td>\n    </tr>\n    <tr>\n      <th>1</th>\n      <td>ABBV</td>\n      <td>{'zip': '60064-6400', 'sector': 'Healthcare', ...</td>\n    </tr>\n    <tr>\n      <th>2</th>\n      <td>LOW</td>\n      <td>{'zip': '28117', 'sector': 'Consumer Cyclical'...</td>\n    </tr>\n    <tr>\n      <th>3</th>\n      <td>AUST</td>\n      <td>{'exchange': 'ASE', 'shortName': 'Austin Gold ...</td>\n    </tr>\n    <tr>\n      <th>4</th>\n      <td>HOOD</td>\n      <td>{'zip': '94025', 'sector': 'Technology', 'full...</td>\n    </tr>\n    <tr>\n      <th>5</th>\n      <td>INVALIDTIC</td>\n      <td>{'regularMarketPrice': None, 'logo_url': ''}</td>\n    </tr>\n    <tr>\n      <th>6</th>\n      <td>AMZN</td>\n      <td>{'zip': '98109-5210', 'sector': 'Consumer Cycl...</td>\n    </tr>\n    <tr>\n      <th>7</th>\n      <td>AXP</td>\n      <td>{'zip': '10285', 'sector': 'Financial Services...</td>\n    </tr>\n    <tr>\n      <th>8</th>\n      <td>BAC</td>\n      <td>{'zip': '28255', 'sector': 'Financial Services...</td>\n    </tr>\n    <tr>\n      <th>9</th>\n      <td>BMBL</td>\n      <td>{'zip': '78756-3706', 'sector': 'Technology', ...</td>\n    </tr>\n    <tr>\n      <th>10</th>\n      <td>BK</td>\n      <td>{'zip': '10286', 'sector': 'Financial Services...</td>\n    </tr>\n    <tr>\n      <th>11</th>\n      <td>HDFC.NS</td>\n      <td>{'zip': '400020', 'sector': 'Financial Service...</td>\n    </tr>\n    <tr>\n      <th>12</th>\n      <td>SQ</td>\n      <td>{'zip': '94103', 'sector': 'Technology', 'full...</td>\n    </tr>\n    <tr>\n      <th>13</th>\n      <td>CELG</td>\n      <td>{'regularMarketPrice': None, 'logo_url': ''}</td>\n    </tr>\n    <tr>\n      <th>14</th>\n      <td>VZ</td>\n      <td>{'zip': '10036', 'sector': 'Communication Serv...</td>\n    </tr>\n    <tr>\n      <th>15</th>\n      <td>CMCSA</td>\n      <td>{'zip': '19103-2838', 'sector': 'Communication...</td>\n    </tr>\n    <tr>\n      <th>16</th>\n      <td>SHOP</td>\n      <td>{'zip': 'K2P 2L8', 'sector': 'Technology', 'fu...</td>\n    </tr>\n    <tr>\n      <th>18</th>\n      <td>COST</td>\n      <td>{'zip': '98027', 'sector': 'Consumer Defensive...</td>\n    </tr>\n    <tr>\n      <th>19</th>\n      <td>CSCO</td>\n      <td>{'zip': '95134', 'sector': 'Technology', 'full...</td>\n    </tr>\n    <tr>\n      <th>20</th>\n      <td>CVS</td>\n      <td>{'zip': '02895', 'sector': 'Healthcare', 'full...</td>\n    </tr>\n    <tr>\n      <th>21</th>\n      <td>GM</td>\n      <td>{'zip': '48265-3000', 'sector': 'Consumer Cycl...</td>\n    </tr>\n    <tr>\n      <th>22</th>\n      <td>GOOG</td>\n      <td>{'zip': '94043', 'sector': 'Communication Serv...</td>\n    </tr>\n    <tr>\n      <th>23</th>\n      <td>JPM</td>\n      <td>{'zip': '10179', 'sector': 'Financial Services...</td>\n    </tr>\n    <tr>\n      <th>24</th>\n      <td>IBM</td>\n      <td>{'zip': '10504', 'sector': 'Technology', 'full...</td>\n    </tr>\n    <tr>\n      <th>25</th>\n      <td>ORCL</td>\n      <td>{'zip': '78741', 'sector': 'Technology', 'full...</td>\n    </tr>\n    <tr>\n      <th>26</th>\n      <td>OXY</td>\n      <td>{'zip': '77046-0521', 'sector': 'Energy', 'ful...</td>\n    </tr>\n    <tr>\n      <th>27</th>\n      <td>DUOL</td>\n      <td>{'zip': '15206', 'sector': 'Technology', 'full...</td>\n    </tr>\n    <tr>\n      <th>28</th>\n      <td>PEP</td>\n      <td>{'zip': '10577', 'sector': 'Consumer Defensive...</td>\n    </tr>\n    <tr>\n      <th>29</th>\n      <td>BB.TO</td>\n      <td>{'zip': 'N2K 0A7', 'sector': 'Technology', 'fu...</td>\n    </tr>\n    <tr>\n      <th>30</th>\n      <td>SLB</td>\n      <td>{'zip': '77056', 'sector': 'Energy', 'fullTime...</td>\n    </tr>\n    <tr>\n      <th>31</th>\n      <td>SO</td>\n      <td>{'zip': '30308', 'sector': 'Utilities', 'fullT...</td>\n    </tr>\n    <tr>\n      <th>32</th>\n      <td>SPG</td>\n      <td>{'zip': '46204', 'sector': 'Real Estate', 'ful...</td>\n    </tr>\n    <tr>\n      <th>33</th>\n      <td>PYPL</td>\n      <td>{'zip': '95131', 'sector': 'Financial Services...</td>\n    </tr>\n  </tbody>\n</table>\n</div>"
     },
     "execution_count": 5,
     "metadata": {},
     "output_type": "execute_result"
    }
   ],
   "source": [
    "# Create an info cell for each ticker, saving time when filtering the tickers by volume and country.\n",
    "info_column = {}\n",
    "\n",
    "# Add info to dict\n",
    "for idx, row in tickers_df.iterrows():\n",
    "    ticker = row[0]  # Get ticker name\n",
    "    ticker = yf.Ticker(ticker)\n",
    "    info_column[idx] = ticker.info\n",
    "    print('.', end='')  # So we can tell if the code is running\n",
    "\n",
    "# Create column for the info]\n",
    "tickers_df['Info'] = pd.Series(info_column)\n",
    "tickers_df"
   ]
  },
  {
   "cell_type": "markdown",
   "metadata": {
    "pycharm": {
     "name": "#%% md\n"
    }
   },
   "source": [
    "In the next two cells, we filter out stocks that are either delisted, have an average daily volume of less than 10,000, or aren't US-listed. This is per the requirements of the assignment.\n",
    "\n",
    "We also create a dict called hist_dict that stores the yf.Ticker(ticker).history() dataframe for each ticker. This is also for efficiency since calling .history() takes times for Yahoo to return the data, so it's faster to just store the data in memory than to call it each time we use the data - which we do a lot of since we make many calculations for our portfolio."
   ]
  },
  {
   "cell_type": "code",
   "execution_count": 6,
   "metadata": {
    "pycharm": {
     "name": "#%%\n"
    }
   },
   "outputs": [],
   "source": [
    "# Dict to store the ticker history for each ticker.\n",
    "hist_dict = {}\n",
    "\n",
    "\n",
    "def filter_us_market(df):\n",
    "    \"\"\"\n",
    "    Consumes a dataframe of tickers and returns a list of booleans representing whether the tickers are US-listed or not.\n",
    "    :param df: DataFrame containing tickers\n",
    "    :return: List of booleans representing whether the tickers are US-listed.\n",
    "    \"\"\"\n",
    "    # Initialize mask list of booleans.\n",
    "    mask = []\n",
    "    for idx, row in df.iterrows():\n",
    "        # Check whether stock is US-listed or not, and append the boolean to mask\n",
    "        info = row['Info']\n",
    "        if \"market\" in row['Info']:\n",
    "            is_us_market = info['market'] == 'us_market'\n",
    "            mask.append(is_us_market)\n",
    "        else:\n",
    "            mask.append(False)\n",
    "    # Return mask\n",
    "    return mask\n",
    "\n",
    "\n",
    "def filter_volume(df):\n",
    "    \"\"\"\n",
    "    Consumes a dataframe of tickers and returns a list of bo\n",
    "    :param df:\n",
    "    :return:\n",
    "    \"\"\"\n",
    "    # Start and end date to check volume\n",
    "    start = \"2021-07-02\"\n",
    "    end = \"2021-10-23\"\n",
    "    # Mask to filter out stocks\n",
    "    mask = []\n",
    "    for idx, row in df.iterrows():\n",
    "        # Gets ticker history\n",
    "        ticker = yf.Ticker(row[0])\n",
    "        ticker_hist = ticker.history(start=start_date, end=end_date)\n",
    "        # Gets subset of data to check volume\n",
    "        volume_hist = ticker_hist.loc[\n",
    "            (ticker_hist.index >= pd.to_datetime(start)) & (ticker_hist.index <= pd.to_datetime(end))]\n",
    "        # Checks if average volume is not less than 10,0000\n",
    "        valid_volume = volume_hist['Volume'].mean() >= 10000\n",
    "        mask.append(valid_volume)\n",
    "        if valid_volume:\n",
    "            hist_dict[row[0]] = ticker_hist  # Adds the ticker history dataframe to hist_dict\n",
    "    return mask"
   ]
  },
  {
   "cell_type": "code",
   "execution_count": 7,
   "metadata": {
    "pycharm": {
     "name": "#%%\n"
    }
   },
   "outputs": [
    {
     "name": "stdout",
     "output_type": "stream",
     "text": [
      "- AUST: No data found for this date range, symbol may be delisted\n"
     ]
    }
   ],
   "source": [
    "# Filter out non-US stocks / delisted stocks\n",
    "tickers_df = tickers_df.loc[filter_us_market(tickers_df)]\n",
    "# Filter out stocks without valid volume\n",
    "tickers_df = tickers_df.loc[filter_volume(tickers_df)]"
   ]
  },
  {
   "cell_type": "code",
   "execution_count": 8,
   "metadata": {
    "pycharm": {
     "name": "#%%\n"
    }
   },
   "outputs": [
    {
     "data": {
      "text/plain": "   Ticker                                               Info\n0    AAPL  {'zip': '95014', 'sector': 'Technology', 'full...\n1    ABBV  {'zip': '60064-6400', 'sector': 'Healthcare', ...\n2     LOW  {'zip': '28117', 'sector': 'Consumer Cyclical'...\n3    HOOD  {'zip': '94025', 'sector': 'Technology', 'full...\n4    AMZN  {'zip': '98109-5210', 'sector': 'Consumer Cycl...\n5     AXP  {'zip': '10285', 'sector': 'Financial Services...\n6     BAC  {'zip': '28255', 'sector': 'Financial Services...\n7    BMBL  {'zip': '78756-3706', 'sector': 'Technology', ...\n8      BK  {'zip': '10286', 'sector': 'Financial Services...\n9      SQ  {'zip': '94103', 'sector': 'Technology', 'full...\n10     VZ  {'zip': '10036', 'sector': 'Communication Serv...\n11  CMCSA  {'zip': '19103-2838', 'sector': 'Communication...\n12   SHOP  {'zip': 'K2P 2L8', 'sector': 'Technology', 'fu...\n13   COST  {'zip': '98027', 'sector': 'Consumer Defensive...\n14   CSCO  {'zip': '95134', 'sector': 'Technology', 'full...\n15    CVS  {'zip': '02895', 'sector': 'Healthcare', 'full...\n16     GM  {'zip': '48265-3000', 'sector': 'Consumer Cycl...\n17   GOOG  {'zip': '94043', 'sector': 'Communication Serv...\n18    JPM  {'zip': '10179', 'sector': 'Financial Services...\n19    IBM  {'zip': '10504', 'sector': 'Technology', 'full...\n20   ORCL  {'zip': '78741', 'sector': 'Technology', 'full...\n21    OXY  {'zip': '77046-0521', 'sector': 'Energy', 'ful...\n22   DUOL  {'zip': '15206', 'sector': 'Technology', 'full...\n23    PEP  {'zip': '10577', 'sector': 'Consumer Defensive...\n24    SLB  {'zip': '77056', 'sector': 'Energy', 'fullTime...\n25     SO  {'zip': '30308', 'sector': 'Utilities', 'fullT...\n26    SPG  {'zip': '46204', 'sector': 'Real Estate', 'ful...\n27   PYPL  {'zip': '95131', 'sector': 'Financial Services...",
      "text/html": "<div>\n<style scoped>\n    .dataframe tbody tr th:only-of-type {\n        vertical-align: middle;\n    }\n\n    .dataframe tbody tr th {\n        vertical-align: top;\n    }\n\n    .dataframe thead th {\n        text-align: right;\n    }\n</style>\n<table border=\"1\" class=\"dataframe\">\n  <thead>\n    <tr style=\"text-align: right;\">\n      <th></th>\n      <th>Ticker</th>\n      <th>Info</th>\n    </tr>\n  </thead>\n  <tbody>\n    <tr>\n      <th>0</th>\n      <td>AAPL</td>\n      <td>{'zip': '95014', 'sector': 'Technology', 'full...</td>\n    </tr>\n    <tr>\n      <th>1</th>\n      <td>ABBV</td>\n      <td>{'zip': '60064-6400', 'sector': 'Healthcare', ...</td>\n    </tr>\n    <tr>\n      <th>2</th>\n      <td>LOW</td>\n      <td>{'zip': '28117', 'sector': 'Consumer Cyclical'...</td>\n    </tr>\n    <tr>\n      <th>3</th>\n      <td>HOOD</td>\n      <td>{'zip': '94025', 'sector': 'Technology', 'full...</td>\n    </tr>\n    <tr>\n      <th>4</th>\n      <td>AMZN</td>\n      <td>{'zip': '98109-5210', 'sector': 'Consumer Cycl...</td>\n    </tr>\n    <tr>\n      <th>5</th>\n      <td>AXP</td>\n      <td>{'zip': '10285', 'sector': 'Financial Services...</td>\n    </tr>\n    <tr>\n      <th>6</th>\n      <td>BAC</td>\n      <td>{'zip': '28255', 'sector': 'Financial Services...</td>\n    </tr>\n    <tr>\n      <th>7</th>\n      <td>BMBL</td>\n      <td>{'zip': '78756-3706', 'sector': 'Technology', ...</td>\n    </tr>\n    <tr>\n      <th>8</th>\n      <td>BK</td>\n      <td>{'zip': '10286', 'sector': 'Financial Services...</td>\n    </tr>\n    <tr>\n      <th>9</th>\n      <td>SQ</td>\n      <td>{'zip': '94103', 'sector': 'Technology', 'full...</td>\n    </tr>\n    <tr>\n      <th>10</th>\n      <td>VZ</td>\n      <td>{'zip': '10036', 'sector': 'Communication Serv...</td>\n    </tr>\n    <tr>\n      <th>11</th>\n      <td>CMCSA</td>\n      <td>{'zip': '19103-2838', 'sector': 'Communication...</td>\n    </tr>\n    <tr>\n      <th>12</th>\n      <td>SHOP</td>\n      <td>{'zip': 'K2P 2L8', 'sector': 'Technology', 'fu...</td>\n    </tr>\n    <tr>\n      <th>13</th>\n      <td>COST</td>\n      <td>{'zip': '98027', 'sector': 'Consumer Defensive...</td>\n    </tr>\n    <tr>\n      <th>14</th>\n      <td>CSCO</td>\n      <td>{'zip': '95134', 'sector': 'Technology', 'full...</td>\n    </tr>\n    <tr>\n      <th>15</th>\n      <td>CVS</td>\n      <td>{'zip': '02895', 'sector': 'Healthcare', 'full...</td>\n    </tr>\n    <tr>\n      <th>16</th>\n      <td>GM</td>\n      <td>{'zip': '48265-3000', 'sector': 'Consumer Cycl...</td>\n    </tr>\n    <tr>\n      <th>17</th>\n      <td>GOOG</td>\n      <td>{'zip': '94043', 'sector': 'Communication Serv...</td>\n    </tr>\n    <tr>\n      <th>18</th>\n      <td>JPM</td>\n      <td>{'zip': '10179', 'sector': 'Financial Services...</td>\n    </tr>\n    <tr>\n      <th>19</th>\n      <td>IBM</td>\n      <td>{'zip': '10504', 'sector': 'Technology', 'full...</td>\n    </tr>\n    <tr>\n      <th>20</th>\n      <td>ORCL</td>\n      <td>{'zip': '78741', 'sector': 'Technology', 'full...</td>\n    </tr>\n    <tr>\n      <th>21</th>\n      <td>OXY</td>\n      <td>{'zip': '77046-0521', 'sector': 'Energy', 'ful...</td>\n    </tr>\n    <tr>\n      <th>22</th>\n      <td>DUOL</td>\n      <td>{'zip': '15206', 'sector': 'Technology', 'full...</td>\n    </tr>\n    <tr>\n      <th>23</th>\n      <td>PEP</td>\n      <td>{'zip': '10577', 'sector': 'Consumer Defensive...</td>\n    </tr>\n    <tr>\n      <th>24</th>\n      <td>SLB</td>\n      <td>{'zip': '77056', 'sector': 'Energy', 'fullTime...</td>\n    </tr>\n    <tr>\n      <th>25</th>\n      <td>SO</td>\n      <td>{'zip': '30308', 'sector': 'Utilities', 'fullT...</td>\n    </tr>\n    <tr>\n      <th>26</th>\n      <td>SPG</td>\n      <td>{'zip': '46204', 'sector': 'Real Estate', 'ful...</td>\n    </tr>\n    <tr>\n      <th>27</th>\n      <td>PYPL</td>\n      <td>{'zip': '95131', 'sector': 'Financial Services...</td>\n    </tr>\n  </tbody>\n</table>\n</div>"
     },
     "execution_count": 8,
     "metadata": {},
     "output_type": "execute_result"
    }
   ],
   "source": [
    "# Reset index on the filtered dataframe\n",
    "tickers_df = tickers_df.reset_index(drop=True)\n",
    "tickers_df"
   ]
  },
  {
   "cell_type": "markdown",
   "metadata": {
    "pycharm": {
     "name": "#%% md\n"
    }
   },
   "source": [
    "Next, we reformatted the data such that it contains ticker history closing prices for the 1 year interval. For this data, we kept it as daily data rather than resampling it to monthly or weekly data.\n",
    "\n",
    "The reason why we chose to use daily data to calculate the metrics for our portfolio (such as STD and Correlation) is because we found that it produced the best results when backtesting our short-term risky portfolio. We decided against using monthly closing prices for our portfolio since using 1 year of historical data would only give us 12 closing prices to decide our portfolio off of - which is too little. We also tried using weekly data and decided against it since we found that it didn't capture the most short-term volatile stocks. Weekly data tended to give us stocks that were volatile by coincidence (such as news causing a sharp drop or rise in stock price), rather stocks that are intrinsically volatile (like oil stocks, which are volatile not by coincidence but because oil is a volatile asset). Thus, we found that daily data gave us the most intrinsically short-term volatile stocks to build our risky portfolio."
   ]
  },
  {
   "cell_type": "code",
   "execution_count": 9,
   "metadata": {},
   "outputs": [
    {
     "data": {
      "text/plain": "                  AAPL        ABBV         LOW       HOOD         AMZN  \\\nDate                                                                     \n2020-11-27  115.875648  100.089188  152.485626        NaN  3195.340088   \n2020-11-30  118.320587   99.793381  153.619385        NaN  3168.040039   \n2020-12-01  121.968102   99.278091  151.233551        NaN  3220.080078   \n2020-12-02  122.325890  100.184608  149.666016        NaN  3203.530029   \n2020-12-03  122.186752   99.946053  149.823746        NaN  3186.729980   \n...                ...         ...         ...        ...          ...   \n2021-11-18  157.869995  117.070000  247.380005  30.530001  3696.060059   \n2021-11-19  160.550003  116.239998  249.520004  28.990000  3676.570068   \n2021-11-22  161.020004  115.650002  252.350006  27.840000  3572.570068   \n2021-11-23  161.410004  118.879997  251.910004  27.650000  3580.040039   \n2021-11-24  161.940002  118.660004  252.630005  27.980000  3580.409912   \n\n                   AXP        BAC       BMBL         BK          SQ  ...  \\\nDate                                                                 ...   \n2020-11-27  119.200394  28.402325        NaN  38.898380  212.520004  ...   \n2020-11-30  117.223442  27.589148        NaN  38.090225  210.960007  ...   \n2020-12-01  118.548004  28.108406        NaN  38.421280  203.000000  ...   \n2020-12-02  120.920341  28.470905        NaN  38.937332  202.000000  ...   \n2020-12-03  121.701241  28.500479        NaN  39.063908  205.529999  ...   \n...                ...        ...        ...        ...         ...  ...   \n2021-11-18  176.210007  46.320000  37.970001  57.770000  230.350006  ...   \n2021-11-19  173.539993  45.400002  36.380001  57.070000  225.139999  ...   \n2021-11-22  170.899994  46.279999  34.299999  58.209999  211.309998  ...   \n2021-11-23  170.850006  47.500000  34.389999  59.009998  210.550003  ...   \n2021-11-24  171.610001  47.630001  34.380001  58.919998  215.649994  ...   \n\n                   JPM         IBM       ORCL        OXY        DUOL  \\\nDate                                                                   \n2020-11-27  118.250458  113.186646  56.883499  16.533474         NaN   \n2020-11-30  114.992279  112.431152  56.844105  15.734756         NaN   \n2020-12-01  116.806709  112.103485  57.848629  15.105765         NaN   \n2020-12-02  119.050369  113.432411  58.183468  15.864549         NaN   \n2020-12-03  118.269974  112.513077  58.370583  16.363747         NaN   \n...                ...         ...        ...        ...         ...   \n2021-11-18  163.050003  116.660004  94.660004  30.639999  135.039993   \n2021-11-19  160.919998  116.050003  93.970001  29.120001  135.960007   \n2021-11-22  164.350006  116.470001  94.610001  30.010000  133.169998   \n2021-11-23  168.279999  116.790001  92.940002  31.920000  135.820007   \n2021-11-24  166.960007  116.730003  93.580002  32.009998  119.809998   \n\n                   PEP        SLB         SO         SPG        PYPL  \nDate                                                                  \n2020-11-27  140.444046  21.465227  58.201691   81.473915  211.389999  \n2020-11-30  140.084671  20.395889  57.433983   78.635902  214.119995  \n2020-12-01  141.871796  20.795614  58.124916   80.940598  216.539993  \n2020-12-02  140.463470  21.358194  59.382034   83.092926  212.559998  \n2020-12-03  141.297852  21.782593  59.382034   85.359512  214.539993  \n...                ...        ...        ...         ...         ...  \n2021-11-18  163.419998  31.860001  61.630001  169.380005  200.500000  \n2021-11-19  163.809998  30.049999  62.669998  166.740005  193.610001  \n2021-11-22  164.149994  30.340000  63.119999  167.990005  189.479996  \n2021-11-23  165.250000  31.180000  63.009998  169.029999  188.050003  \n2021-11-24  163.740005  31.410000  63.099998  169.029999  188.710007  \n\n[251 rows x 28 columns]",
      "text/html": "<div>\n<style scoped>\n    .dataframe tbody tr th:only-of-type {\n        vertical-align: middle;\n    }\n\n    .dataframe tbody tr th {\n        vertical-align: top;\n    }\n\n    .dataframe thead th {\n        text-align: right;\n    }\n</style>\n<table border=\"1\" class=\"dataframe\">\n  <thead>\n    <tr style=\"text-align: right;\">\n      <th></th>\n      <th>AAPL</th>\n      <th>ABBV</th>\n      <th>LOW</th>\n      <th>HOOD</th>\n      <th>AMZN</th>\n      <th>AXP</th>\n      <th>BAC</th>\n      <th>BMBL</th>\n      <th>BK</th>\n      <th>SQ</th>\n      <th>...</th>\n      <th>JPM</th>\n      <th>IBM</th>\n      <th>ORCL</th>\n      <th>OXY</th>\n      <th>DUOL</th>\n      <th>PEP</th>\n      <th>SLB</th>\n      <th>SO</th>\n      <th>SPG</th>\n      <th>PYPL</th>\n    </tr>\n    <tr>\n      <th>Date</th>\n      <th></th>\n      <th></th>\n      <th></th>\n      <th></th>\n      <th></th>\n      <th></th>\n      <th></th>\n      <th></th>\n      <th></th>\n      <th></th>\n      <th></th>\n      <th></th>\n      <th></th>\n      <th></th>\n      <th></th>\n      <th></th>\n      <th></th>\n      <th></th>\n      <th></th>\n      <th></th>\n      <th></th>\n    </tr>\n  </thead>\n  <tbody>\n    <tr>\n      <th>2020-11-27</th>\n      <td>115.875648</td>\n      <td>100.089188</td>\n      <td>152.485626</td>\n      <td>NaN</td>\n      <td>3195.340088</td>\n      <td>119.200394</td>\n      <td>28.402325</td>\n      <td>NaN</td>\n      <td>38.898380</td>\n      <td>212.520004</td>\n      <td>...</td>\n      <td>118.250458</td>\n      <td>113.186646</td>\n      <td>56.883499</td>\n      <td>16.533474</td>\n      <td>NaN</td>\n      <td>140.444046</td>\n      <td>21.465227</td>\n      <td>58.201691</td>\n      <td>81.473915</td>\n      <td>211.389999</td>\n    </tr>\n    <tr>\n      <th>2020-11-30</th>\n      <td>118.320587</td>\n      <td>99.793381</td>\n      <td>153.619385</td>\n      <td>NaN</td>\n      <td>3168.040039</td>\n      <td>117.223442</td>\n      <td>27.589148</td>\n      <td>NaN</td>\n      <td>38.090225</td>\n      <td>210.960007</td>\n      <td>...</td>\n      <td>114.992279</td>\n      <td>112.431152</td>\n      <td>56.844105</td>\n      <td>15.734756</td>\n      <td>NaN</td>\n      <td>140.084671</td>\n      <td>20.395889</td>\n      <td>57.433983</td>\n      <td>78.635902</td>\n      <td>214.119995</td>\n    </tr>\n    <tr>\n      <th>2020-12-01</th>\n      <td>121.968102</td>\n      <td>99.278091</td>\n      <td>151.233551</td>\n      <td>NaN</td>\n      <td>3220.080078</td>\n      <td>118.548004</td>\n      <td>28.108406</td>\n      <td>NaN</td>\n      <td>38.421280</td>\n      <td>203.000000</td>\n      <td>...</td>\n      <td>116.806709</td>\n      <td>112.103485</td>\n      <td>57.848629</td>\n      <td>15.105765</td>\n      <td>NaN</td>\n      <td>141.871796</td>\n      <td>20.795614</td>\n      <td>58.124916</td>\n      <td>80.940598</td>\n      <td>216.539993</td>\n    </tr>\n    <tr>\n      <th>2020-12-02</th>\n      <td>122.325890</td>\n      <td>100.184608</td>\n      <td>149.666016</td>\n      <td>NaN</td>\n      <td>3203.530029</td>\n      <td>120.920341</td>\n      <td>28.470905</td>\n      <td>NaN</td>\n      <td>38.937332</td>\n      <td>202.000000</td>\n      <td>...</td>\n      <td>119.050369</td>\n      <td>113.432411</td>\n      <td>58.183468</td>\n      <td>15.864549</td>\n      <td>NaN</td>\n      <td>140.463470</td>\n      <td>21.358194</td>\n      <td>59.382034</td>\n      <td>83.092926</td>\n      <td>212.559998</td>\n    </tr>\n    <tr>\n      <th>2020-12-03</th>\n      <td>122.186752</td>\n      <td>99.946053</td>\n      <td>149.823746</td>\n      <td>NaN</td>\n      <td>3186.729980</td>\n      <td>121.701241</td>\n      <td>28.500479</td>\n      <td>NaN</td>\n      <td>39.063908</td>\n      <td>205.529999</td>\n      <td>...</td>\n      <td>118.269974</td>\n      <td>112.513077</td>\n      <td>58.370583</td>\n      <td>16.363747</td>\n      <td>NaN</td>\n      <td>141.297852</td>\n      <td>21.782593</td>\n      <td>59.382034</td>\n      <td>85.359512</td>\n      <td>214.539993</td>\n    </tr>\n    <tr>\n      <th>...</th>\n      <td>...</td>\n      <td>...</td>\n      <td>...</td>\n      <td>...</td>\n      <td>...</td>\n      <td>...</td>\n      <td>...</td>\n      <td>...</td>\n      <td>...</td>\n      <td>...</td>\n      <td>...</td>\n      <td>...</td>\n      <td>...</td>\n      <td>...</td>\n      <td>...</td>\n      <td>...</td>\n      <td>...</td>\n      <td>...</td>\n      <td>...</td>\n      <td>...</td>\n      <td>...</td>\n    </tr>\n    <tr>\n      <th>2021-11-18</th>\n      <td>157.869995</td>\n      <td>117.070000</td>\n      <td>247.380005</td>\n      <td>30.530001</td>\n      <td>3696.060059</td>\n      <td>176.210007</td>\n      <td>46.320000</td>\n      <td>37.970001</td>\n      <td>57.770000</td>\n      <td>230.350006</td>\n      <td>...</td>\n      <td>163.050003</td>\n      <td>116.660004</td>\n      <td>94.660004</td>\n      <td>30.639999</td>\n      <td>135.039993</td>\n      <td>163.419998</td>\n      <td>31.860001</td>\n      <td>61.630001</td>\n      <td>169.380005</td>\n      <td>200.500000</td>\n    </tr>\n    <tr>\n      <th>2021-11-19</th>\n      <td>160.550003</td>\n      <td>116.239998</td>\n      <td>249.520004</td>\n      <td>28.990000</td>\n      <td>3676.570068</td>\n      <td>173.539993</td>\n      <td>45.400002</td>\n      <td>36.380001</td>\n      <td>57.070000</td>\n      <td>225.139999</td>\n      <td>...</td>\n      <td>160.919998</td>\n      <td>116.050003</td>\n      <td>93.970001</td>\n      <td>29.120001</td>\n      <td>135.960007</td>\n      <td>163.809998</td>\n      <td>30.049999</td>\n      <td>62.669998</td>\n      <td>166.740005</td>\n      <td>193.610001</td>\n    </tr>\n    <tr>\n      <th>2021-11-22</th>\n      <td>161.020004</td>\n      <td>115.650002</td>\n      <td>252.350006</td>\n      <td>27.840000</td>\n      <td>3572.570068</td>\n      <td>170.899994</td>\n      <td>46.279999</td>\n      <td>34.299999</td>\n      <td>58.209999</td>\n      <td>211.309998</td>\n      <td>...</td>\n      <td>164.350006</td>\n      <td>116.470001</td>\n      <td>94.610001</td>\n      <td>30.010000</td>\n      <td>133.169998</td>\n      <td>164.149994</td>\n      <td>30.340000</td>\n      <td>63.119999</td>\n      <td>167.990005</td>\n      <td>189.479996</td>\n    </tr>\n    <tr>\n      <th>2021-11-23</th>\n      <td>161.410004</td>\n      <td>118.879997</td>\n      <td>251.910004</td>\n      <td>27.650000</td>\n      <td>3580.040039</td>\n      <td>170.850006</td>\n      <td>47.500000</td>\n      <td>34.389999</td>\n      <td>59.009998</td>\n      <td>210.550003</td>\n      <td>...</td>\n      <td>168.279999</td>\n      <td>116.790001</td>\n      <td>92.940002</td>\n      <td>31.920000</td>\n      <td>135.820007</td>\n      <td>165.250000</td>\n      <td>31.180000</td>\n      <td>63.009998</td>\n      <td>169.029999</td>\n      <td>188.050003</td>\n    </tr>\n    <tr>\n      <th>2021-11-24</th>\n      <td>161.940002</td>\n      <td>118.660004</td>\n      <td>252.630005</td>\n      <td>27.980000</td>\n      <td>3580.409912</td>\n      <td>171.610001</td>\n      <td>47.630001</td>\n      <td>34.380001</td>\n      <td>58.919998</td>\n      <td>215.649994</td>\n      <td>...</td>\n      <td>166.960007</td>\n      <td>116.730003</td>\n      <td>93.580002</td>\n      <td>32.009998</td>\n      <td>119.809998</td>\n      <td>163.740005</td>\n      <td>31.410000</td>\n      <td>63.099998</td>\n      <td>169.029999</td>\n      <td>188.710007</td>\n    </tr>\n  </tbody>\n</table>\n<p>251 rows × 28 columns</p>\n</div>"
     },
     "execution_count": 9,
     "metadata": {},
     "output_type": "execute_result"
    }
   ],
   "source": [
    "def create_df(df):\n",
    "    \"\"\"\n",
    "    This function iterates through the filtered list of stocks and creates a new dict with weekly ticker closing prices\n",
    "    :param df: filtered stocks DataFrame\n",
    "    :return: dict containing ticker closing prices resampled to weekly data\n",
    "    \"\"\"\n",
    "    dic = {}\n",
    "    for i in range(len(df)):\n",
    "        tick = df.iloc[i, 0]\n",
    "        # get ticker history data for the ticker\n",
    "        t_hist = hist_dict[tick]\n",
    "        # resample data to\n",
    "        dic[tick] = t_hist.Close\n",
    "    return dic\n",
    "\n",
    "\n",
    "#creates the dataframe price using the function create_df\n",
    "prices = pd.DataFrame(create_df(tickers_df))\n",
    "prices"
   ]
  },
  {
   "cell_type": "markdown",
   "metadata": {
    "pycharm": {
     "name": "#%% md\n"
    }
   },
   "source": [
    "In the next 2 cells, we obtain the stock with the highest risk (calculated using standard deviation). This will be a key part in forming our portfolio, as explained in the next annotation cell."
   ]
  },
  {
   "cell_type": "code",
   "execution_count": 10,
   "metadata": {},
   "outputs": [
    {
     "data": {
      "text/plain": "{'AAPL': 0.01558920547952168,\n 'ABBV': 0.012687263377998066,\n 'LOW': 0.01537129599705407,\n 'HOOD': 0.07940157539843598,\n 'AMZN': 0.015003883728443813,\n 'AXP': 0.016166052773097673,\n 'BAC': 0.01589839135192852,\n 'BMBL': 0.04160042694409629,\n 'BK': 0.015778104655159362,\n 'SQ': 0.031094207967788237,\n 'VZ': 0.008488789205665702,\n 'CMCSA': 0.014581206859480432,\n 'SHOP': 0.030291411439136825,\n 'COST': 0.010578528488092568,\n 'CSCO': 0.011399690529555834,\n 'CVS': 0.013466679700475416,\n 'GM': 0.023305596804548735,\n 'GOOG': 0.014676421421111563,\n 'JPM': 0.013588238474130954,\n 'IBM': 0.014492199038743435,\n 'ORCL': 0.014479663945859639,\n 'OXY': 0.0383814592679368,\n 'DUOL': 0.05012090444839221,\n 'PEP': 0.008857794768454863,\n 'SLB': 0.026175695300691495,\n 'SO': 0.009968846479297102,\n 'SPG': 0.020004639121205,\n 'PYPL': 0.022811611093400495}"
     },
     "execution_count": 10,
     "metadata": {},
     "output_type": "execute_result"
    }
   ],
   "source": [
    "def generate_std(df):\n",
    "    \"\"\"\n",
    "    Creates a dict of tickers and their standard deviations for the given closing prices\n",
    "    :param df: Filtered DataFrame of tickers\n",
    "    :return: Dict of tickers and their STDs\n",
    "    \"\"\"\n",
    "    column = df.columns\n",
    "    stdlst_dic = {}\n",
    "    # Calculate the STD for each ticker\n",
    "    for i in range(len(column)):\n",
    "        temp = df[str(column[i])].pct_change().std()\n",
    "        stdlst_dic[str(column[i])] = temp\n",
    "    return stdlst_dic\n",
    "\n",
    "\n",
    "#creates the dataframe slst which is a dictionary containing the tickers and their std\n",
    "slst = generate_std(prices)\n",
    "slst"
   ]
  },
  {
   "cell_type": "code",
   "execution_count": 11,
   "metadata": {},
   "outputs": [
    {
     "data": {
      "text/plain": "'HOOD'"
     },
     "execution_count": 11,
     "metadata": {},
     "output_type": "execute_result"
    }
   ],
   "source": [
    "#function to find the highest std\n",
    "def get_highest_std(dic):\n",
    "    \"\"\"\n",
    "    Consumes a dictionary of tickers and their STDs and returns the ticker with the highest STD in the dict\n",
    "    :param dic: Dict of tickers and their STDs\n",
    "    :return: Ticker with the highest STD\n",
    "    \"\"\"\n",
    "    std = 0\n",
    "    tick = \"\"\n",
    "    # Calculates the highest STD\n",
    "    for i in dic:\n",
    "        if std < dic[i]:\n",
    "            std = dic[i]\n",
    "            tick = i\n",
    "    return tick\n",
    "\n",
    "\n",
    "#checking what the highest std is\n",
    "get_highest_std(slst)"
   ]
  },
  {
   "cell_type": "markdown",
   "metadata": {
    "pycharm": {
     "name": "#%% md\n"
    }
   },
   "source": [
    "Next we'll generate a correlation matrix for all the stocks"
   ]
  },
  {
   "cell_type": "code",
   "execution_count": 12,
   "metadata": {},
   "outputs": [
    {
     "data": {
      "text/plain": "           AAPL      ABBV       LOW      HOOD      AMZN       AXP       BAC  \\\nAAPL   1.000000  0.604065  0.729501 -0.430085  0.738855  0.637127  0.542324   \nABBV   0.604065  1.000000  0.671638 -0.129397  0.587217  0.780943  0.698012   \nLOW    0.729501  0.671638  1.000000 -0.781479  0.595265  0.828198  0.898768   \nHOOD  -0.430085 -0.129397 -0.781479  1.000000 -0.530936 -0.380785 -0.617421   \nAMZN   0.738855  0.587217  0.595265 -0.530936  1.000000  0.587539  0.425675   \nAXP    0.637127  0.780943  0.828198 -0.380785  0.587539  1.000000  0.919203   \nBAC    0.542324  0.698012  0.898768 -0.617421  0.425675  0.919203  1.000000   \nBMBL  -0.444024 -0.725175 -0.571893  0.389665 -0.396899 -0.713147 -0.643149   \nBK     0.688102  0.768110  0.912022 -0.542573  0.479693  0.917170  0.956467   \nSQ     0.551181  0.235408  0.307039  0.717148  0.378239  0.357638  0.257841   \nVZ    -0.592058 -0.253175 -0.549716  0.668781 -0.301887 -0.463413 -0.512399   \nCMCSA  0.358113  0.599224  0.383212  0.626530  0.359101  0.691205  0.552095   \nSHOP   0.850728  0.642450  0.631538 -0.184118  0.736347  0.700655  0.552298   \nCOST   0.878448  0.637199  0.840348 -0.729324  0.606605  0.732906  0.697564   \nCSCO   0.724615  0.756913  0.844883  0.079169  0.572838  0.911055  0.870004   \nCVS    0.669760  0.815797  0.868382 -0.709113  0.554106  0.875217  0.881700   \nGM     0.137479  0.479473  0.566920 -0.576833  0.338979  0.622374  0.683067   \nGOOG   0.807271  0.765676  0.868423 -0.562035  0.662071  0.939106  0.869391   \nJPM    0.486308  0.661266  0.819064 -0.482237  0.352018  0.898568  0.968945   \nIBM    0.240625  0.624169  0.425945  0.696784  0.354827  0.699262  0.608249   \nORCL   0.777635  0.752798  0.877700 -0.465205  0.603717  0.947063  0.887206   \nOXY    0.386290  0.495161  0.698379 -0.536891  0.343948  0.811641  0.844727   \nDUOL  -0.287407 -0.763531  0.126201 -0.102804 -0.029922  0.185179  0.171428   \nPEP    0.835345  0.695487  0.814186 -0.698319  0.642862  0.770177  0.694248   \nSLB    0.278684  0.631552  0.667312 -0.518421  0.326677  0.831438  0.871160   \nSO     0.575481  0.690341  0.693593  0.341571  0.458268  0.713226  0.692120   \nSPG    0.675865  0.742411  0.912982 -0.677509  0.560117  0.924863  0.941351   \nPYPL   0.222161  0.236140  0.002364  0.713625  0.393595  0.298509  0.106035   \n\n           BMBL        BK        SQ  ...       JPM       IBM      ORCL  \\\nAAPL  -0.444024  0.688102  0.551181  ...  0.486308  0.240625  0.777635   \nABBV  -0.725175  0.768110  0.235408  ...  0.661266  0.624169  0.752798   \nLOW   -0.571893  0.912022  0.307039  ...  0.819064  0.425945  0.877700   \nHOOD   0.389665 -0.542573  0.717148  ... -0.482237  0.696784 -0.465205   \nAMZN  -0.396899  0.479693  0.378239  ...  0.352018  0.354827  0.603717   \nAXP   -0.713147  0.917170  0.357638  ...  0.898568  0.699262  0.947063   \nBAC   -0.643149  0.956467  0.257841  ...  0.968945  0.608249  0.887206   \nBMBL   1.000000 -0.675010  0.322132  ... -0.596204 -0.484036 -0.691488   \nBK    -0.675010  1.000000  0.322207  ...  0.902587  0.580681  0.939955   \nSQ     0.322132  0.322207  1.000000  ...  0.302243  0.180161  0.407532   \nVZ     0.128168 -0.526836 -0.335866  ... -0.528935  0.063917 -0.500062   \nCMCSA -0.161630  0.544449  0.417216  ...  0.620351  0.772392  0.620645   \nSHOP  -0.353926  0.655910  0.624837  ...  0.525989  0.304163  0.729411   \nCOST  -0.619018  0.835321  0.328828  ...  0.592886  0.300658  0.854599   \nCSCO  -0.609913  0.904693  0.453190  ...  0.851399  0.707046  0.939906   \nCVS   -0.803327  0.924727  0.169285  ...  0.819273  0.606356  0.883608   \nGM    -0.254019  0.527280  0.043124  ...  0.700417  0.445820  0.455115   \nGOOG  -0.618385  0.914344  0.483997  ...  0.839312  0.606882  0.961415   \nJPM   -0.596204  0.902587  0.302243  ...  1.000000  0.617397  0.844973   \nIBM   -0.484036  0.580681  0.180161  ...  0.617397  1.000000  0.631007   \nORCL  -0.691488  0.939955  0.407532  ...  0.844973  0.631007  1.000000   \nOXY   -0.156109  0.754638  0.239784  ...  0.851725  0.408776  0.696263   \nDUOL   0.433321 -0.077733 -0.022926  ...  0.261517 -0.158718  0.196432   \nPEP   -0.697313  0.836054  0.293583  ...  0.581686  0.466389  0.889700   \nSLB   -0.509424  0.786345  0.066344  ...  0.864295  0.625099  0.709349   \nSO    -0.551679  0.746677  0.361541  ...  0.660414  0.744132  0.778191   \nSPG   -0.637898  0.933983  0.304270  ...  0.895936  0.503985  0.901692   \nPYPL   0.277546  0.068357  0.627711  ...  0.224428  0.514274  0.229030   \n\n            OXY      DUOL       PEP       SLB        SO       SPG      PYPL  \nAAPL   0.386290 -0.287407  0.835345  0.278684  0.575481  0.675865  0.222161  \nABBV   0.495161 -0.763531  0.695487  0.631552  0.690341  0.742411  0.236140  \nLOW    0.698379  0.126201  0.814186  0.667312  0.693593  0.912982  0.002364  \nHOOD  -0.536891 -0.102804 -0.698319 -0.518421  0.341571 -0.677509  0.713625  \nAMZN   0.343948 -0.029922  0.642862  0.326677  0.458268  0.560117  0.393595  \nAXP    0.811641  0.185179  0.770177  0.831438  0.713226  0.924863  0.298509  \nBAC    0.844727  0.171428  0.694248  0.871160  0.692120  0.941351  0.106035  \nBMBL  -0.156109  0.433321 -0.697313 -0.509424 -0.551679 -0.637898  0.277546  \nBK     0.754638 -0.077733  0.836054  0.786345  0.746677  0.933983  0.068357  \nSQ     0.239784 -0.022926  0.293583  0.066344  0.361541  0.304270  0.627711  \nVZ    -0.622685 -0.274254 -0.388451 -0.411335 -0.094369 -0.611632 -0.039232  \nCMCSA  0.409334 -0.344355  0.407638  0.493994  0.727631  0.537710  0.606873  \nSHOP   0.519452 -0.462179  0.708633  0.440239  0.465103  0.714872  0.416669  \nCOST   0.482228 -0.012697  0.948841  0.454978  0.639610  0.800464 -0.066165  \nCSCO   0.644083 -0.161913  0.818313  0.682607  0.865562  0.874636  0.345060  \nCVS    0.667585 -0.002576  0.838932  0.780658  0.748446  0.904731  0.069601  \nGM     0.730538 -0.058546  0.203998  0.739664  0.300034  0.649647  0.165718  \nGOOG   0.703028 -0.015342  0.849370  0.693862  0.784853  0.926478  0.316231  \nJPM    0.851725  0.261517  0.581686  0.864295  0.660414  0.895936  0.224428  \nIBM    0.408776 -0.158718  0.466389  0.625099  0.744132  0.503985  0.514274  \nORCL   0.696263  0.196432  0.889700  0.709349  0.778191  0.901692  0.229030  \nOXY    1.000000  0.391350  0.446264  0.875600  0.308732  0.826391  0.166479  \nDUOL   0.391350  1.000000 -0.057143  0.273990 -0.369466 -0.017237  0.047388  \nPEP    0.446264 -0.057143  1.000000  0.481772  0.719834  0.763081  0.021396  \nSLB    0.875600  0.273990  0.481772  1.000000  0.470617  0.810644  0.169640  \nSO     0.308732 -0.369466  0.719834  0.470617  1.000000  0.658486  0.289358  \nSPG    0.826391 -0.017237  0.763081  0.810644  0.658486  1.000000  0.093695  \nPYPL   0.166479  0.047388  0.021396  0.169640  0.289358  0.093695  1.000000  \n\n[28 rows x 28 columns]",
      "text/html": "<div>\n<style scoped>\n    .dataframe tbody tr th:only-of-type {\n        vertical-align: middle;\n    }\n\n    .dataframe tbody tr th {\n        vertical-align: top;\n    }\n\n    .dataframe thead th {\n        text-align: right;\n    }\n</style>\n<table border=\"1\" class=\"dataframe\">\n  <thead>\n    <tr style=\"text-align: right;\">\n      <th></th>\n      <th>AAPL</th>\n      <th>ABBV</th>\n      <th>LOW</th>\n      <th>HOOD</th>\n      <th>AMZN</th>\n      <th>AXP</th>\n      <th>BAC</th>\n      <th>BMBL</th>\n      <th>BK</th>\n      <th>SQ</th>\n      <th>...</th>\n      <th>JPM</th>\n      <th>IBM</th>\n      <th>ORCL</th>\n      <th>OXY</th>\n      <th>DUOL</th>\n      <th>PEP</th>\n      <th>SLB</th>\n      <th>SO</th>\n      <th>SPG</th>\n      <th>PYPL</th>\n    </tr>\n  </thead>\n  <tbody>\n    <tr>\n      <th>AAPL</th>\n      <td>1.000000</td>\n      <td>0.604065</td>\n      <td>0.729501</td>\n      <td>-0.430085</td>\n      <td>0.738855</td>\n      <td>0.637127</td>\n      <td>0.542324</td>\n      <td>-0.444024</td>\n      <td>0.688102</td>\n      <td>0.551181</td>\n      <td>...</td>\n      <td>0.486308</td>\n      <td>0.240625</td>\n      <td>0.777635</td>\n      <td>0.386290</td>\n      <td>-0.287407</td>\n      <td>0.835345</td>\n      <td>0.278684</td>\n      <td>0.575481</td>\n      <td>0.675865</td>\n      <td>0.222161</td>\n    </tr>\n    <tr>\n      <th>ABBV</th>\n      <td>0.604065</td>\n      <td>1.000000</td>\n      <td>0.671638</td>\n      <td>-0.129397</td>\n      <td>0.587217</td>\n      <td>0.780943</td>\n      <td>0.698012</td>\n      <td>-0.725175</td>\n      <td>0.768110</td>\n      <td>0.235408</td>\n      <td>...</td>\n      <td>0.661266</td>\n      <td>0.624169</td>\n      <td>0.752798</td>\n      <td>0.495161</td>\n      <td>-0.763531</td>\n      <td>0.695487</td>\n      <td>0.631552</td>\n      <td>0.690341</td>\n      <td>0.742411</td>\n      <td>0.236140</td>\n    </tr>\n    <tr>\n      <th>LOW</th>\n      <td>0.729501</td>\n      <td>0.671638</td>\n      <td>1.000000</td>\n      <td>-0.781479</td>\n      <td>0.595265</td>\n      <td>0.828198</td>\n      <td>0.898768</td>\n      <td>-0.571893</td>\n      <td>0.912022</td>\n      <td>0.307039</td>\n      <td>...</td>\n      <td>0.819064</td>\n      <td>0.425945</td>\n      <td>0.877700</td>\n      <td>0.698379</td>\n      <td>0.126201</td>\n      <td>0.814186</td>\n      <td>0.667312</td>\n      <td>0.693593</td>\n      <td>0.912982</td>\n      <td>0.002364</td>\n    </tr>\n    <tr>\n      <th>HOOD</th>\n      <td>-0.430085</td>\n      <td>-0.129397</td>\n      <td>-0.781479</td>\n      <td>1.000000</td>\n      <td>-0.530936</td>\n      <td>-0.380785</td>\n      <td>-0.617421</td>\n      <td>0.389665</td>\n      <td>-0.542573</td>\n      <td>0.717148</td>\n      <td>...</td>\n      <td>-0.482237</td>\n      <td>0.696784</td>\n      <td>-0.465205</td>\n      <td>-0.536891</td>\n      <td>-0.102804</td>\n      <td>-0.698319</td>\n      <td>-0.518421</td>\n      <td>0.341571</td>\n      <td>-0.677509</td>\n      <td>0.713625</td>\n    </tr>\n    <tr>\n      <th>AMZN</th>\n      <td>0.738855</td>\n      <td>0.587217</td>\n      <td>0.595265</td>\n      <td>-0.530936</td>\n      <td>1.000000</td>\n      <td>0.587539</td>\n      <td>0.425675</td>\n      <td>-0.396899</td>\n      <td>0.479693</td>\n      <td>0.378239</td>\n      <td>...</td>\n      <td>0.352018</td>\n      <td>0.354827</td>\n      <td>0.603717</td>\n      <td>0.343948</td>\n      <td>-0.029922</td>\n      <td>0.642862</td>\n      <td>0.326677</td>\n      <td>0.458268</td>\n      <td>0.560117</td>\n      <td>0.393595</td>\n    </tr>\n    <tr>\n      <th>AXP</th>\n      <td>0.637127</td>\n      <td>0.780943</td>\n      <td>0.828198</td>\n      <td>-0.380785</td>\n      <td>0.587539</td>\n      <td>1.000000</td>\n      <td>0.919203</td>\n      <td>-0.713147</td>\n      <td>0.917170</td>\n      <td>0.357638</td>\n      <td>...</td>\n      <td>0.898568</td>\n      <td>0.699262</td>\n      <td>0.947063</td>\n      <td>0.811641</td>\n      <td>0.185179</td>\n      <td>0.770177</td>\n      <td>0.831438</td>\n      <td>0.713226</td>\n      <td>0.924863</td>\n      <td>0.298509</td>\n    </tr>\n    <tr>\n      <th>BAC</th>\n      <td>0.542324</td>\n      <td>0.698012</td>\n      <td>0.898768</td>\n      <td>-0.617421</td>\n      <td>0.425675</td>\n      <td>0.919203</td>\n      <td>1.000000</td>\n      <td>-0.643149</td>\n      <td>0.956467</td>\n      <td>0.257841</td>\n      <td>...</td>\n      <td>0.968945</td>\n      <td>0.608249</td>\n      <td>0.887206</td>\n      <td>0.844727</td>\n      <td>0.171428</td>\n      <td>0.694248</td>\n      <td>0.871160</td>\n      <td>0.692120</td>\n      <td>0.941351</td>\n      <td>0.106035</td>\n    </tr>\n    <tr>\n      <th>BMBL</th>\n      <td>-0.444024</td>\n      <td>-0.725175</td>\n      <td>-0.571893</td>\n      <td>0.389665</td>\n      <td>-0.396899</td>\n      <td>-0.713147</td>\n      <td>-0.643149</td>\n      <td>1.000000</td>\n      <td>-0.675010</td>\n      <td>0.322132</td>\n      <td>...</td>\n      <td>-0.596204</td>\n      <td>-0.484036</td>\n      <td>-0.691488</td>\n      <td>-0.156109</td>\n      <td>0.433321</td>\n      <td>-0.697313</td>\n      <td>-0.509424</td>\n      <td>-0.551679</td>\n      <td>-0.637898</td>\n      <td>0.277546</td>\n    </tr>\n    <tr>\n      <th>BK</th>\n      <td>0.688102</td>\n      <td>0.768110</td>\n      <td>0.912022</td>\n      <td>-0.542573</td>\n      <td>0.479693</td>\n      <td>0.917170</td>\n      <td>0.956467</td>\n      <td>-0.675010</td>\n      <td>1.000000</td>\n      <td>0.322207</td>\n      <td>...</td>\n      <td>0.902587</td>\n      <td>0.580681</td>\n      <td>0.939955</td>\n      <td>0.754638</td>\n      <td>-0.077733</td>\n      <td>0.836054</td>\n      <td>0.786345</td>\n      <td>0.746677</td>\n      <td>0.933983</td>\n      <td>0.068357</td>\n    </tr>\n    <tr>\n      <th>SQ</th>\n      <td>0.551181</td>\n      <td>0.235408</td>\n      <td>0.307039</td>\n      <td>0.717148</td>\n      <td>0.378239</td>\n      <td>0.357638</td>\n      <td>0.257841</td>\n      <td>0.322132</td>\n      <td>0.322207</td>\n      <td>1.000000</td>\n      <td>...</td>\n      <td>0.302243</td>\n      <td>0.180161</td>\n      <td>0.407532</td>\n      <td>0.239784</td>\n      <td>-0.022926</td>\n      <td>0.293583</td>\n      <td>0.066344</td>\n      <td>0.361541</td>\n      <td>0.304270</td>\n      <td>0.627711</td>\n    </tr>\n    <tr>\n      <th>VZ</th>\n      <td>-0.592058</td>\n      <td>-0.253175</td>\n      <td>-0.549716</td>\n      <td>0.668781</td>\n      <td>-0.301887</td>\n      <td>-0.463413</td>\n      <td>-0.512399</td>\n      <td>0.128168</td>\n      <td>-0.526836</td>\n      <td>-0.335866</td>\n      <td>...</td>\n      <td>-0.528935</td>\n      <td>0.063917</td>\n      <td>-0.500062</td>\n      <td>-0.622685</td>\n      <td>-0.274254</td>\n      <td>-0.388451</td>\n      <td>-0.411335</td>\n      <td>-0.094369</td>\n      <td>-0.611632</td>\n      <td>-0.039232</td>\n    </tr>\n    <tr>\n      <th>CMCSA</th>\n      <td>0.358113</td>\n      <td>0.599224</td>\n      <td>0.383212</td>\n      <td>0.626530</td>\n      <td>0.359101</td>\n      <td>0.691205</td>\n      <td>0.552095</td>\n      <td>-0.161630</td>\n      <td>0.544449</td>\n      <td>0.417216</td>\n      <td>...</td>\n      <td>0.620351</td>\n      <td>0.772392</td>\n      <td>0.620645</td>\n      <td>0.409334</td>\n      <td>-0.344355</td>\n      <td>0.407638</td>\n      <td>0.493994</td>\n      <td>0.727631</td>\n      <td>0.537710</td>\n      <td>0.606873</td>\n    </tr>\n    <tr>\n      <th>SHOP</th>\n      <td>0.850728</td>\n      <td>0.642450</td>\n      <td>0.631538</td>\n      <td>-0.184118</td>\n      <td>0.736347</td>\n      <td>0.700655</td>\n      <td>0.552298</td>\n      <td>-0.353926</td>\n      <td>0.655910</td>\n      <td>0.624837</td>\n      <td>...</td>\n      <td>0.525989</td>\n      <td>0.304163</td>\n      <td>0.729411</td>\n      <td>0.519452</td>\n      <td>-0.462179</td>\n      <td>0.708633</td>\n      <td>0.440239</td>\n      <td>0.465103</td>\n      <td>0.714872</td>\n      <td>0.416669</td>\n    </tr>\n    <tr>\n      <th>COST</th>\n      <td>0.878448</td>\n      <td>0.637199</td>\n      <td>0.840348</td>\n      <td>-0.729324</td>\n      <td>0.606605</td>\n      <td>0.732906</td>\n      <td>0.697564</td>\n      <td>-0.619018</td>\n      <td>0.835321</td>\n      <td>0.328828</td>\n      <td>...</td>\n      <td>0.592886</td>\n      <td>0.300658</td>\n      <td>0.854599</td>\n      <td>0.482228</td>\n      <td>-0.012697</td>\n      <td>0.948841</td>\n      <td>0.454978</td>\n      <td>0.639610</td>\n      <td>0.800464</td>\n      <td>-0.066165</td>\n    </tr>\n    <tr>\n      <th>CSCO</th>\n      <td>0.724615</td>\n      <td>0.756913</td>\n      <td>0.844883</td>\n      <td>0.079169</td>\n      <td>0.572838</td>\n      <td>0.911055</td>\n      <td>0.870004</td>\n      <td>-0.609913</td>\n      <td>0.904693</td>\n      <td>0.453190</td>\n      <td>...</td>\n      <td>0.851399</td>\n      <td>0.707046</td>\n      <td>0.939906</td>\n      <td>0.644083</td>\n      <td>-0.161913</td>\n      <td>0.818313</td>\n      <td>0.682607</td>\n      <td>0.865562</td>\n      <td>0.874636</td>\n      <td>0.345060</td>\n    </tr>\n    <tr>\n      <th>CVS</th>\n      <td>0.669760</td>\n      <td>0.815797</td>\n      <td>0.868382</td>\n      <td>-0.709113</td>\n      <td>0.554106</td>\n      <td>0.875217</td>\n      <td>0.881700</td>\n      <td>-0.803327</td>\n      <td>0.924727</td>\n      <td>0.169285</td>\n      <td>...</td>\n      <td>0.819273</td>\n      <td>0.606356</td>\n      <td>0.883608</td>\n      <td>0.667585</td>\n      <td>-0.002576</td>\n      <td>0.838932</td>\n      <td>0.780658</td>\n      <td>0.748446</td>\n      <td>0.904731</td>\n      <td>0.069601</td>\n    </tr>\n    <tr>\n      <th>GM</th>\n      <td>0.137479</td>\n      <td>0.479473</td>\n      <td>0.566920</td>\n      <td>-0.576833</td>\n      <td>0.338979</td>\n      <td>0.622374</td>\n      <td>0.683067</td>\n      <td>-0.254019</td>\n      <td>0.527280</td>\n      <td>0.043124</td>\n      <td>...</td>\n      <td>0.700417</td>\n      <td>0.445820</td>\n      <td>0.455115</td>\n      <td>0.730538</td>\n      <td>-0.058546</td>\n      <td>0.203998</td>\n      <td>0.739664</td>\n      <td>0.300034</td>\n      <td>0.649647</td>\n      <td>0.165718</td>\n    </tr>\n    <tr>\n      <th>GOOG</th>\n      <td>0.807271</td>\n      <td>0.765676</td>\n      <td>0.868423</td>\n      <td>-0.562035</td>\n      <td>0.662071</td>\n      <td>0.939106</td>\n      <td>0.869391</td>\n      <td>-0.618385</td>\n      <td>0.914344</td>\n      <td>0.483997</td>\n      <td>...</td>\n      <td>0.839312</td>\n      <td>0.606882</td>\n      <td>0.961415</td>\n      <td>0.703028</td>\n      <td>-0.015342</td>\n      <td>0.849370</td>\n      <td>0.693862</td>\n      <td>0.784853</td>\n      <td>0.926478</td>\n      <td>0.316231</td>\n    </tr>\n    <tr>\n      <th>JPM</th>\n      <td>0.486308</td>\n      <td>0.661266</td>\n      <td>0.819064</td>\n      <td>-0.482237</td>\n      <td>0.352018</td>\n      <td>0.898568</td>\n      <td>0.968945</td>\n      <td>-0.596204</td>\n      <td>0.902587</td>\n      <td>0.302243</td>\n      <td>...</td>\n      <td>1.000000</td>\n      <td>0.617397</td>\n      <td>0.844973</td>\n      <td>0.851725</td>\n      <td>0.261517</td>\n      <td>0.581686</td>\n      <td>0.864295</td>\n      <td>0.660414</td>\n      <td>0.895936</td>\n      <td>0.224428</td>\n    </tr>\n    <tr>\n      <th>IBM</th>\n      <td>0.240625</td>\n      <td>0.624169</td>\n      <td>0.425945</td>\n      <td>0.696784</td>\n      <td>0.354827</td>\n      <td>0.699262</td>\n      <td>0.608249</td>\n      <td>-0.484036</td>\n      <td>0.580681</td>\n      <td>0.180161</td>\n      <td>...</td>\n      <td>0.617397</td>\n      <td>1.000000</td>\n      <td>0.631007</td>\n      <td>0.408776</td>\n      <td>-0.158718</td>\n      <td>0.466389</td>\n      <td>0.625099</td>\n      <td>0.744132</td>\n      <td>0.503985</td>\n      <td>0.514274</td>\n    </tr>\n    <tr>\n      <th>ORCL</th>\n      <td>0.777635</td>\n      <td>0.752798</td>\n      <td>0.877700</td>\n      <td>-0.465205</td>\n      <td>0.603717</td>\n      <td>0.947063</td>\n      <td>0.887206</td>\n      <td>-0.691488</td>\n      <td>0.939955</td>\n      <td>0.407532</td>\n      <td>...</td>\n      <td>0.844973</td>\n      <td>0.631007</td>\n      <td>1.000000</td>\n      <td>0.696263</td>\n      <td>0.196432</td>\n      <td>0.889700</td>\n      <td>0.709349</td>\n      <td>0.778191</td>\n      <td>0.901692</td>\n      <td>0.229030</td>\n    </tr>\n    <tr>\n      <th>OXY</th>\n      <td>0.386290</td>\n      <td>0.495161</td>\n      <td>0.698379</td>\n      <td>-0.536891</td>\n      <td>0.343948</td>\n      <td>0.811641</td>\n      <td>0.844727</td>\n      <td>-0.156109</td>\n      <td>0.754638</td>\n      <td>0.239784</td>\n      <td>...</td>\n      <td>0.851725</td>\n      <td>0.408776</td>\n      <td>0.696263</td>\n      <td>1.000000</td>\n      <td>0.391350</td>\n      <td>0.446264</td>\n      <td>0.875600</td>\n      <td>0.308732</td>\n      <td>0.826391</td>\n      <td>0.166479</td>\n    </tr>\n    <tr>\n      <th>DUOL</th>\n      <td>-0.287407</td>\n      <td>-0.763531</td>\n      <td>0.126201</td>\n      <td>-0.102804</td>\n      <td>-0.029922</td>\n      <td>0.185179</td>\n      <td>0.171428</td>\n      <td>0.433321</td>\n      <td>-0.077733</td>\n      <td>-0.022926</td>\n      <td>...</td>\n      <td>0.261517</td>\n      <td>-0.158718</td>\n      <td>0.196432</td>\n      <td>0.391350</td>\n      <td>1.000000</td>\n      <td>-0.057143</td>\n      <td>0.273990</td>\n      <td>-0.369466</td>\n      <td>-0.017237</td>\n      <td>0.047388</td>\n    </tr>\n    <tr>\n      <th>PEP</th>\n      <td>0.835345</td>\n      <td>0.695487</td>\n      <td>0.814186</td>\n      <td>-0.698319</td>\n      <td>0.642862</td>\n      <td>0.770177</td>\n      <td>0.694248</td>\n      <td>-0.697313</td>\n      <td>0.836054</td>\n      <td>0.293583</td>\n      <td>...</td>\n      <td>0.581686</td>\n      <td>0.466389</td>\n      <td>0.889700</td>\n      <td>0.446264</td>\n      <td>-0.057143</td>\n      <td>1.000000</td>\n      <td>0.481772</td>\n      <td>0.719834</td>\n      <td>0.763081</td>\n      <td>0.021396</td>\n    </tr>\n    <tr>\n      <th>SLB</th>\n      <td>0.278684</td>\n      <td>0.631552</td>\n      <td>0.667312</td>\n      <td>-0.518421</td>\n      <td>0.326677</td>\n      <td>0.831438</td>\n      <td>0.871160</td>\n      <td>-0.509424</td>\n      <td>0.786345</td>\n      <td>0.066344</td>\n      <td>...</td>\n      <td>0.864295</td>\n      <td>0.625099</td>\n      <td>0.709349</td>\n      <td>0.875600</td>\n      <td>0.273990</td>\n      <td>0.481772</td>\n      <td>1.000000</td>\n      <td>0.470617</td>\n      <td>0.810644</td>\n      <td>0.169640</td>\n    </tr>\n    <tr>\n      <th>SO</th>\n      <td>0.575481</td>\n      <td>0.690341</td>\n      <td>0.693593</td>\n      <td>0.341571</td>\n      <td>0.458268</td>\n      <td>0.713226</td>\n      <td>0.692120</td>\n      <td>-0.551679</td>\n      <td>0.746677</td>\n      <td>0.361541</td>\n      <td>...</td>\n      <td>0.660414</td>\n      <td>0.744132</td>\n      <td>0.778191</td>\n      <td>0.308732</td>\n      <td>-0.369466</td>\n      <td>0.719834</td>\n      <td>0.470617</td>\n      <td>1.000000</td>\n      <td>0.658486</td>\n      <td>0.289358</td>\n    </tr>\n    <tr>\n      <th>SPG</th>\n      <td>0.675865</td>\n      <td>0.742411</td>\n      <td>0.912982</td>\n      <td>-0.677509</td>\n      <td>0.560117</td>\n      <td>0.924863</td>\n      <td>0.941351</td>\n      <td>-0.637898</td>\n      <td>0.933983</td>\n      <td>0.304270</td>\n      <td>...</td>\n      <td>0.895936</td>\n      <td>0.503985</td>\n      <td>0.901692</td>\n      <td>0.826391</td>\n      <td>-0.017237</td>\n      <td>0.763081</td>\n      <td>0.810644</td>\n      <td>0.658486</td>\n      <td>1.000000</td>\n      <td>0.093695</td>\n    </tr>\n    <tr>\n      <th>PYPL</th>\n      <td>0.222161</td>\n      <td>0.236140</td>\n      <td>0.002364</td>\n      <td>0.713625</td>\n      <td>0.393595</td>\n      <td>0.298509</td>\n      <td>0.106035</td>\n      <td>0.277546</td>\n      <td>0.068357</td>\n      <td>0.627711</td>\n      <td>...</td>\n      <td>0.224428</td>\n      <td>0.514274</td>\n      <td>0.229030</td>\n      <td>0.166479</td>\n      <td>0.047388</td>\n      <td>0.021396</td>\n      <td>0.169640</td>\n      <td>0.289358</td>\n      <td>0.093695</td>\n      <td>1.000000</td>\n    </tr>\n  </tbody>\n</table>\n<p>28 rows × 28 columns</p>\n</div>"
     },
     "execution_count": 12,
     "metadata": {},
     "output_type": "execute_result"
    }
   ],
   "source": [
    "#creating a correlation dataframe\n",
    "corr_df = prices.corr()\n",
    "corr_df"
   ]
  },
  {
   "cell_type": "markdown",
   "metadata": {
    "pycharm": {
     "name": "#%% md\n"
    }
   },
   "source": [
    "In the next cells, we use correlation to calculate stocks that trade in the same direction as the stock with the highest STD, in order to create a portfolio where all the stocks are strongly positively correlated with each other. In our original code, we instead compiled a list of stocks in the same industry to achieve the opposite affect of inter-industry diversification. However, we then realized that it would make more sense to choose a basket stocks that are strongly positively correlated with each other, since it would acheive the same effect as an intra-industry portfolio, but would give us a larger variety of risky stocks to choose from so we can choose the riskiest of stocks."
   ]
  },
  {
   "cell_type": "code",
   "execution_count": 13,
   "metadata": {},
   "outputs": [
    {
     "data": {
      "text/plain": "{'positive': ['HOOD',\n  'BMBL',\n  'SQ',\n  'VZ',\n  'CMCSA',\n  'CSCO',\n  'IBM',\n  'SO',\n  'PYPL'],\n 'negative': ['AAPL',\n  'ABBV',\n  'LOW',\n  'AMZN',\n  'AXP',\n  'BAC',\n  'BK',\n  'SHOP',\n  'COST',\n  'CVS',\n  'GM',\n  'GOOG',\n  'JPM',\n  'ORCL',\n  'OXY',\n  'DUOL',\n  'PEP',\n  'SLB',\n  'SPG']}"
     },
     "execution_count": 13,
     "metadata": {},
     "output_type": "execute_result"
    }
   ],
   "source": [
    "def lister(corr, highest_std):\n",
    "    \"\"\"\n",
    "    Creates a dict of stocks that are either positively or negatively correlated with the highest std stock\n",
    "    :param corr: Correlation matrix of all stocks\n",
    "    :param highest_std: Ticker of stock with the highest\n",
    "    :return:\n",
    "    \"\"\"\n",
    "    list1 = []\n",
    "    list2 = []\n",
    "    columns = corr.columns\n",
    "    for i in range(len(corr.index)):\n",
    "        c = corr[highest_std].iloc[i]\n",
    "        tick = columns[i]\n",
    "        if c > 0:\n",
    "            list1.append(tick)\n",
    "        elif c < 0:\n",
    "            list2.append(tick)\n",
    "    dic = {\"positive\": list1, \"negative\": list2}\n",
    "    return dic\n",
    "\n",
    "\n",
    "#creates dictionary cor_list which calls the function lister\n",
    "# contains two lists which are positive correlating and negative correlating with the inputed stock\n",
    "cor_list = lister(corr_df, get_highest_std(slst))\n",
    "cor_list"
   ]
  },
  {
   "cell_type": "markdown",
   "metadata": {
    "pycharm": {
     "name": "#%% md\n"
    }
   },
   "source": [
    "We then sort the both baskets of positively and negatively correlated stocks by their STDs in descending order so we can choose stocks that have the highest STD and are also strongly positively correlated with our keystone stock - the stock that has the highest std and weighting in our final portfolio."
   ]
  },
  {
   "cell_type": "code",
   "execution_count": 14,
   "metadata": {},
   "outputs": [
    {
     "data": {
      "text/plain": "['HOOD', 'BMBL', 'SQ', 'PYPL', 'CMCSA', 'IBM', 'CSCO', 'SO', 'VZ']"
     },
     "execution_count": 14,
     "metadata": {},
     "output_type": "execute_result"
    }
   ],
   "source": [
    "def quicksort(tick_lst, std_list):\n",
    "    \"\"\"\n",
    "    Implementation of quicksort to sort a list of tickers based on their std\n",
    "    :param tick_lst: Ticker list\n",
    "    :param std_list: List of respective STDs of the tickers.\n",
    "    :return: Sorted list of tickers\n",
    "    \"\"\"\n",
    "    sequence = tick_lst\n",
    "    length = len(sequence)\n",
    "    if length <= 1:\n",
    "        return sequence\n",
    "    else:\n",
    "        pivot = sequence.pop()\n",
    "\n",
    "    items_greater = []\n",
    "    items_lower = []\n",
    "\n",
    "    for item in sequence:\n",
    "        i = std_list[item]\n",
    "        pivoter = std_list[pivot]\n",
    "        if i < pivoter:\n",
    "            items_lower.append(item)\n",
    "        else:\n",
    "            items_greater.append(item)\n",
    "\n",
    "    return quicksort(items_greater, slst) + [pivot] + quicksort(items_lower, slst)\n",
    "\n",
    "\n",
    "positive = quicksort(cor_list[\"positive\"], slst)\n",
    "negative = (quicksort(cor_list[\"negative\"], slst))\n",
    "\n",
    "positive"
   ]
  },
  {
   "cell_type": "markdown",
   "metadata": {
    "pycharm": {
     "name": "#%% md\n"
    }
   },
   "source": [
    "We also have a function to ensure that our code doesn't acheive the opposite of a risky portfolio - in the case that there is less than 10 stocks that are positively correlated with the stock with the highest STD, it might choose stocks that are negatively correlated and create a balanced portfolio. To overcome this, we make sure that the STD of the basket of stocks WITH the highest correlation is higher than the STD of the basket of stocks that are strongly negatively correlated against the stock with the highest STD. In the case that this is false, then our portfolio becomes the stocks with the strongly negatively correlated stocks. In either case, this ensures that our portfolio will have the highest STD possible, and all the stocks in the portfolio trade in the same direction."
   ]
  },
  {
   "cell_type": "code",
   "execution_count": 15,
   "metadata": {},
   "outputs": [
    {
     "data": {
      "text/plain": "10"
     },
     "execution_count": 15,
     "metadata": {},
     "output_type": "execute_result"
    }
   ],
   "source": [
    "def meanstd(lst, count, std_list, sum, lst_tick):\n",
    "    \"\"\"\n",
    "    Recursively calculates the average STD of the top 10 stocks in each list of positive and negative correlated stocks.\n",
    "    :param lst: List of tickers\n",
    "    :param count: Iterative counter\n",
    "    :param std_list: Ticker's stds\n",
    "    :param sum: Sum of the STD\n",
    "    :param lst_tick: Second list of tickers\n",
    "    :return: Average STD of stocks in a list\n",
    "    \"\"\"\n",
    "    if 0 == len(lst):\n",
    "        return {\"list\": lst_tick, \"mean\": (sum / count)}\n",
    "    elif 10 == count:\n",
    "        return {\"list\": lst_tick, \"mean\": (sum / 10)}\n",
    "    else:\n",
    "        sum = sum + std_list[lst[0]]\n",
    "        lst_tick.append(lst[0])\n",
    "        return meanstd(lst[1:], (count + 1), std_list, sum, lst_tick)\n",
    "\n",
    "\n",
    "pm = meanstd(positive, 0, slst, 0, [])\n",
    "nm = meanstd(negative, 0, slst, 0, [])\n",
    "\n",
    "len(nm[\"list\"])"
   ]
  },
  {
   "cell_type": "code",
   "execution_count": 16,
   "metadata": {},
   "outputs": [
    {
     "data": {
      "text/plain": "{'list': ['HOOD', 'BMBL', 'SQ', 'PYPL', 'CMCSA', 'IBM', 'CSCO', 'SO', 'VZ'],\n 'mean': 0.02598206150182928,\n 'oppo': ['DUOL',\n  'OXY',\n  'SHOP',\n  'SLB',\n  'GM',\n  'SPG',\n  'AXP',\n  'BAC',\n  'BK',\n  'AAPL',\n  'LOW',\n  'AMZN',\n  'GOOG',\n  'ORCL',\n  'JPM',\n  'CVS',\n  'ABBV',\n  'COST',\n  'PEP']}"
     },
     "execution_count": 16,
     "metadata": {},
     "output_type": "execute_result"
    }
   ],
   "source": [
    "# NEW CODE: Changed line 20-30. Added extra clauses starting from `elif pl == nl:` to the `else`\n",
    "def hstd(p, n):\n",
    "    \"\"\"\n",
    "    Gets the higher average std of the positively and negatively correlated stocks\n",
    "    :param p: Positively correlated stock std\n",
    "    :param n: Negatively correlated stock std\n",
    "    :return: Higher average STD\n",
    "    \"\"\"\n",
    "    pm=p[\"mean\"]\n",
    "    nm=n[\"mean\"]\n",
    "    pl=len(p[\"list\"])\n",
    "    nl=len(n[\"list\"])\n",
    "    p[\"oppo\"]=negative\n",
    "    n[\"oppo\"]=positive\n",
    "    \n",
    "    if pm > nm and pl >=7:\n",
    "        return p\n",
    "    elif nm > pm and nl >= 7:\n",
    "        return n\n",
    "    elif pl == nl:\n",
    "        if pm > nm:\n",
    "            return p\n",
    "        elif nm > pm:\n",
    "            return n\n",
    "    elif pl > nl:\n",
    "        return p\n",
    "    elif nl > pl:\n",
    "        return n\n",
    "    else:\n",
    "        raise Exception('Error! (Shouldn\\'t come to this')\n",
    "        \n",
    "\n",
    "\n",
    "port_list = hstd(pm, nm)\n",
    "port_list"
   ]
  },
  {
   "cell_type": "markdown",
   "metadata": {
    "pycharm": {
     "name": "#%% md\n"
    }
   },
   "source": [
    "In the case that the list of tickers given to us is less than 20 (such as 6 positively correlated stocks and 5 negatively correlated stocks), our portfolio appends the negatively correlated stocks with the lowest STD to our positively correlated portfolio. This ensures that our portfolio has at least 10 stocks and the negatively correlated stocks do not affect our portfolio performance as much."
   ]
  },
  {
   "cell_type": "code",
   "execution_count": 17,
   "metadata": {},
   "outputs": [
    {
     "data": {
      "text/plain": "['HOOD', 'BMBL', 'SQ', 'PYPL', 'CMCSA', 'IBM', 'CSCO', 'SO', 'VZ', 'PEP']"
     },
     "execution_count": 17,
     "metadata": {},
     "output_type": "execute_result"
    }
   ],
   "source": [
    "# NEW CODE - Changed line 12-16. Changed the code in the else statement.\n",
    "def portlength(port):\n",
    "    \"\"\"\n",
    "    Appends weakly negatively correlated stocks to our portfolio if there aren't enough positively correlated stocks in our portfolio.\n",
    "    :param port: Portfolio tickers\n",
    "    :return: New portfolio\n",
    "    \"\"\"\n",
    "    lster=port[\"list\"]\n",
    "    \n",
    "    if len(lster) == 10:\n",
    "        return lster\n",
    "    else:\n",
    "        l=10-len(lster)\n",
    "        for i in range(0,l) :\n",
    "            lster.append(port[\"oppo\"][-1 *(i+1)])\n",
    "        return lster\n",
    "\n",
    "\n",
    "\n",
    "finalport_lst=portlength(port_list)\n",
    "finalport_lst"
   ]
  },
  {
   "cell_type": "code",
   "execution_count": 18,
   "metadata": {},
   "outputs": [
    {
     "data": {
      "text/plain": "['HOOD', 'BMBL', 'SQ', 'PYPL', 'CMCSA', 'IBM', 'CSCO', 'SO', 'VZ', 'PEP']"
     },
     "execution_count": 18,
     "metadata": {},
     "output_type": "execute_result"
    }
   ],
   "source": [
    "lstofstocks = finalport_lst\n",
    "lstofstocks"
   ]
  },
  {
   "cell_type": "markdown",
   "metadata": {
    "pycharm": {
     "name": "#%% md\n"
    }
   },
   "source": [
    "Finally, we set our weights in this cell and backtest our portfolio over 2021-11-01 to 2021-11-26. For our weightings, we made them\n",
    "\n",
    "35% 25% 5% 5% 5% 5% 5% 5% 5% 5%\n",
    "\n",
    "Where the stock with the highest STD in our portfolio is weighted at 35% and the stock with the lowest STD is weighted at 5%. This ensures that overall, our portfolio has the highest STD as allowed by the requirements of the assignment (limited by the weightings), by giving the highest weighting to the riskiest stock. That way, a volatile move by the stock with the highest std will affect our portfolio the most."
   ]
  },
  {
   "cell_type": "code",
   "execution_count": 19,
   "metadata": {
    "pycharm": {
     "name": "#%%\n"
    }
   },
   "outputs": [],
   "source": [
    "# Using the 35% distribution\n",
    "\n",
    "startdate = '2021-11-01'\n",
    "enddate = '2021-11-26'\n",
    "\n",
    "#Determine number of shares bought for each stocks under 35% weighted profolio ($100,000)\n",
    "# Assuming that the stocks i the list are given in increasing order\n",
    "NumOfShares = []  # number of shares will be printed in the list according to the corrosponding order\n",
    "\n",
    "\n",
    "# Loopsahre function takes a list the starting date and the ending date, and produces the number of shares for each stocks in the list given\n",
    "# Since the stocks given in the list is already sorted in decreasing order of standard deviation, we con proceed to apply the\n",
    "# 35% percent distribution method (explained in the report)\n",
    "def loopshare(lst, date_start, date_end):\n",
    "    for i in range(len(lst)):\n",
    "        if (i < 1):\n",
    "            NumOfShares.append(35000 / ((yf.Ticker(lst[i]).history(start=date_start, end=date_end)).iloc[0, 3]))\n",
    "        elif (i < 2):\n",
    "            NumOfShares.append(25000 / ((yf.Ticker(lst[i]).history(start=date_start, end=date_end)).iloc[0, 3]))\n",
    "        else:\n",
    "            NumOfShares.append(5000 / ((yf.Ticker(lst[i]).history(start=date_start, end=date_end)).iloc[0, 3]))\n",
    "    return NumOfShares\n",
    "\n",
    "\n",
    "loopshare(lstofstocks, startdate, enddate)\n",
    "\n",
    "listOfClose = []  #list of dataframe\n",
    "\n",
    "\n",
    "#Extracting the closed data\n",
    "\n",
    "# Funcation loopClose takes a lst of tickers, start date, and a end date, and produces a list of closing price of each stocks in the list date\n",
    "# Withtin the start and end date\n",
    "def loopClose(lst, start_date, end_date):\n",
    "    for i in range(len(lst)):\n",
    "        listOfClose.append(pd.DataFrame((yf.Ticker(lst[i]).history(start=start_date, end=end_date))['Close']))\n",
    "\n",
    "\n",
    "loopClose(lstofstocks, startdate, enddate)\n",
    "\n",
    "#Setting up a list before adding it to the dataframe\n",
    "listBefore = []\n",
    "\n",
    "\n",
    "#Function loopCloseBefore, creates a list of closing prices of tickers that is ready to be put into a dataframe\n",
    "def loopCloseBefore(lst):\n",
    "    for i in range(len(lst)):\n",
    "        if (i == 0):\n",
    "            listBefore.append(lst[i])\n",
    "        else:\n",
    "            listBefore.append(lst[i]['Close'])\n",
    "\n",
    "\n",
    "loopCloseBefore(listOfClose)\n",
    "\n",
    "#Create the dataframe for tracking the portfolio\n",
    "\n",
    "#concating all the list of closign prices of stocks\n",
    "finalPortfolio = pd.concat(listBefore, join='inner', axis=1)\n",
    "\n",
    "#Renaming the column names to the corrosponding stocks\n",
    "finalPortfolio.columns = lstofstocks\n",
    "\n",
    "#Adding portfolio\n",
    "\n",
    "#Adding the column portfolio\n",
    "finalPortfolio['portfolio'] = finalPortfolio[str(finalPortfolio.columns[0])] * NumOfShares[0] + finalPortfolio[\n",
    "    str(finalPortfolio.columns[1])] * NumOfShares[1] + finalPortfolio[str(finalPortfolio.columns[2])] * NumOfShares[2] + \\\n",
    "                              finalPortfolio[str(finalPortfolio.columns[3])] * NumOfShares[3] + finalPortfolio[\n",
    "                                  str(finalPortfolio.columns[4])] * NumOfShares[4] + finalPortfolio[\n",
    "                                  str(finalPortfolio.columns[5])] * NumOfShares[5] + finalPortfolio[\n",
    "                                  str(finalPortfolio.columns[6])] * NumOfShares[6] + finalPortfolio[\n",
    "                                  str(finalPortfolio.columns[7])] * NumOfShares[7] + finalPortfolio[\n",
    "                                  str(finalPortfolio.columns[8])] * NumOfShares[8] + finalPortfolio[\n",
    "                                  str(finalPortfolio.columns[9])] * NumOfShares[9]"
   ]
  },
  {
   "cell_type": "markdown",
   "metadata": {
    "pycharm": {
     "name": "#%% md\n"
    }
   },
   "source": [
    "As seen below, over the course of 1 month from 2021-11-01 to 2021-11-26, our portfolio fell nearly 18%. The backtesting of our portfolio on historical data reveals that it is very risky as desired. (We changed the return% in this annotation cell to match the new ticker list given to us)"
   ]
  },
  {
   "cell_type": "code",
   "execution_count": 20,
   "metadata": {
    "pycharm": {
     "name": "#%%\n"
    }
   },
   "outputs": [
    {
     "data": {
      "text/plain": "                 HOOD       BMBL          SQ        PYPL      CMCSA  \\\nDate                                                                  \n2021-11-01  34.849998  51.470001  255.039993  231.279999  52.259998   \n2021-11-02  34.990002  49.560001  249.009995  229.460007  52.639999   \n2021-11-03  37.040001  52.000000  252.479996  230.380005  52.950001   \n2021-11-04  37.070000  51.700001  247.460007  228.220001  52.730000   \n2021-11-05  37.009998  52.000000  237.380005  225.779999  53.900002   \n2021-11-08  37.980000  52.250000  236.770004  229.419998  53.490002   \n2021-11-09  36.700001  50.840000  230.779999  205.419998  53.750000   \n2021-11-10  34.490002  47.750000  227.210007  204.639999  54.169998   \n2021-11-11  34.169998  38.560001  226.509995  202.029999  53.660000   \n2021-11-12  35.209999  36.549999  227.300003  208.300003  53.500000   \n2021-11-15  34.959999  38.470001  233.020004  212.539993  53.380001   \n2021-11-16  33.869999  38.410000  238.470001  215.669998  53.119999   \n2021-11-17  32.880001  38.230000  231.850006  206.270004  53.730000   \n2021-11-18  30.530001  37.970001  230.350006  200.500000  52.779999   \n2021-11-19  28.990000  36.380001  225.139999  193.610001  51.910000   \n2021-11-22  27.840000  34.299999  211.309998  189.479996  51.509998   \n2021-11-23  27.650000  34.389999  210.550003  188.050003  52.040001   \n2021-11-24  27.980000  34.380001  215.649994  188.710007  51.880001   \n\n                   IBM       CSCO         SO         VZ         PEP  \\\nDate                                                                  \n2021-11-01  119.136795  56.099998  61.825966  52.950001  161.259995   \n2021-11-02  119.042450  57.619999  61.835865  52.570000  162.740005   \n2021-11-03  119.938713  57.650002  61.895233  52.939999  164.300003   \n2021-11-04  119.258591  57.119999  61.845757  51.849998  164.309998   \n2021-11-05  121.982246  57.070000  62.439476  52.240002  166.000000   \n2021-11-08  122.900002  57.000000  61.964500  52.330002  162.429993   \n2021-11-09  120.849998  57.439999  62.686859  52.240002  163.509995   \n2021-11-10  120.220001  57.770000  63.191521  52.599998  164.039993   \n2021-11-11  120.269997  56.759998  62.389999  52.450001  162.690002   \n2021-11-12  118.959999  56.820000  61.889999  52.340000  162.649994   \n2021-11-15  118.870003  57.270000  62.200001  52.400002  163.800003   \n2021-11-16  118.459999  57.000000  62.000000  52.060001  163.309998   \n2021-11-17  118.059998  56.759998  62.169998  51.730000  163.369995   \n2021-11-18  116.660004  53.630001  61.630001  51.240002  163.419998   \n2021-11-19  116.050003  53.250000  62.669998  50.860001  163.809998   \n2021-11-22  116.470001  54.599998  63.119999  51.540001  164.149994   \n2021-11-23  116.790001  55.299999  63.009998  51.750000  165.250000   \n2021-11-24  116.730003  55.540001  63.099998  51.660000  163.740005   \n\n                portfolio  \nDate                       \n2021-11-01  100000.000000  \n2021-11-02   99233.994404  \n2021-11-03  102723.948006  \n2021-11-04  102259.799398  \n2021-11-05  102453.924230  \n2021-11-08  103468.710404  \n2021-11-09  100923.514905  \n2021-11-10   97250.673211  \n2021-11-11   92137.822555  \n2021-11-12   92240.037114  \n2021-11-15   93216.589337  \n2021-11-16   92137.646075  \n2021-11-17   90727.587953  \n2021-11-18   87570.034918  \n2021-11-19   84917.625787  \n2021-11-22   82602.781468  \n2021-11-23   82581.431118  \n2021-11-24   82977.773413  ",
      "text/html": "<div>\n<style scoped>\n    .dataframe tbody tr th:only-of-type {\n        vertical-align: middle;\n    }\n\n    .dataframe tbody tr th {\n        vertical-align: top;\n    }\n\n    .dataframe thead th {\n        text-align: right;\n    }\n</style>\n<table border=\"1\" class=\"dataframe\">\n  <thead>\n    <tr style=\"text-align: right;\">\n      <th></th>\n      <th>HOOD</th>\n      <th>BMBL</th>\n      <th>SQ</th>\n      <th>PYPL</th>\n      <th>CMCSA</th>\n      <th>IBM</th>\n      <th>CSCO</th>\n      <th>SO</th>\n      <th>VZ</th>\n      <th>PEP</th>\n      <th>portfolio</th>\n    </tr>\n    <tr>\n      <th>Date</th>\n      <th></th>\n      <th></th>\n      <th></th>\n      <th></th>\n      <th></th>\n      <th></th>\n      <th></th>\n      <th></th>\n      <th></th>\n      <th></th>\n      <th></th>\n    </tr>\n  </thead>\n  <tbody>\n    <tr>\n      <th>2021-11-01</th>\n      <td>34.849998</td>\n      <td>51.470001</td>\n      <td>255.039993</td>\n      <td>231.279999</td>\n      <td>52.259998</td>\n      <td>119.136795</td>\n      <td>56.099998</td>\n      <td>61.825966</td>\n      <td>52.950001</td>\n      <td>161.259995</td>\n      <td>100000.000000</td>\n    </tr>\n    <tr>\n      <th>2021-11-02</th>\n      <td>34.990002</td>\n      <td>49.560001</td>\n      <td>249.009995</td>\n      <td>229.460007</td>\n      <td>52.639999</td>\n      <td>119.042450</td>\n      <td>57.619999</td>\n      <td>61.835865</td>\n      <td>52.570000</td>\n      <td>162.740005</td>\n      <td>99233.994404</td>\n    </tr>\n    <tr>\n      <th>2021-11-03</th>\n      <td>37.040001</td>\n      <td>52.000000</td>\n      <td>252.479996</td>\n      <td>230.380005</td>\n      <td>52.950001</td>\n      <td>119.938713</td>\n      <td>57.650002</td>\n      <td>61.895233</td>\n      <td>52.939999</td>\n      <td>164.300003</td>\n      <td>102723.948006</td>\n    </tr>\n    <tr>\n      <th>2021-11-04</th>\n      <td>37.070000</td>\n      <td>51.700001</td>\n      <td>247.460007</td>\n      <td>228.220001</td>\n      <td>52.730000</td>\n      <td>119.258591</td>\n      <td>57.119999</td>\n      <td>61.845757</td>\n      <td>51.849998</td>\n      <td>164.309998</td>\n      <td>102259.799398</td>\n    </tr>\n    <tr>\n      <th>2021-11-05</th>\n      <td>37.009998</td>\n      <td>52.000000</td>\n      <td>237.380005</td>\n      <td>225.779999</td>\n      <td>53.900002</td>\n      <td>121.982246</td>\n      <td>57.070000</td>\n      <td>62.439476</td>\n      <td>52.240002</td>\n      <td>166.000000</td>\n      <td>102453.924230</td>\n    </tr>\n    <tr>\n      <th>2021-11-08</th>\n      <td>37.980000</td>\n      <td>52.250000</td>\n      <td>236.770004</td>\n      <td>229.419998</td>\n      <td>53.490002</td>\n      <td>122.900002</td>\n      <td>57.000000</td>\n      <td>61.964500</td>\n      <td>52.330002</td>\n      <td>162.429993</td>\n      <td>103468.710404</td>\n    </tr>\n    <tr>\n      <th>2021-11-09</th>\n      <td>36.700001</td>\n      <td>50.840000</td>\n      <td>230.779999</td>\n      <td>205.419998</td>\n      <td>53.750000</td>\n      <td>120.849998</td>\n      <td>57.439999</td>\n      <td>62.686859</td>\n      <td>52.240002</td>\n      <td>163.509995</td>\n      <td>100923.514905</td>\n    </tr>\n    <tr>\n      <th>2021-11-10</th>\n      <td>34.490002</td>\n      <td>47.750000</td>\n      <td>227.210007</td>\n      <td>204.639999</td>\n      <td>54.169998</td>\n      <td>120.220001</td>\n      <td>57.770000</td>\n      <td>63.191521</td>\n      <td>52.599998</td>\n      <td>164.039993</td>\n      <td>97250.673211</td>\n    </tr>\n    <tr>\n      <th>2021-11-11</th>\n      <td>34.169998</td>\n      <td>38.560001</td>\n      <td>226.509995</td>\n      <td>202.029999</td>\n      <td>53.660000</td>\n      <td>120.269997</td>\n      <td>56.759998</td>\n      <td>62.389999</td>\n      <td>52.450001</td>\n      <td>162.690002</td>\n      <td>92137.822555</td>\n    </tr>\n    <tr>\n      <th>2021-11-12</th>\n      <td>35.209999</td>\n      <td>36.549999</td>\n      <td>227.300003</td>\n      <td>208.300003</td>\n      <td>53.500000</td>\n      <td>118.959999</td>\n      <td>56.820000</td>\n      <td>61.889999</td>\n      <td>52.340000</td>\n      <td>162.649994</td>\n      <td>92240.037114</td>\n    </tr>\n    <tr>\n      <th>2021-11-15</th>\n      <td>34.959999</td>\n      <td>38.470001</td>\n      <td>233.020004</td>\n      <td>212.539993</td>\n      <td>53.380001</td>\n      <td>118.870003</td>\n      <td>57.270000</td>\n      <td>62.200001</td>\n      <td>52.400002</td>\n      <td>163.800003</td>\n      <td>93216.589337</td>\n    </tr>\n    <tr>\n      <th>2021-11-16</th>\n      <td>33.869999</td>\n      <td>38.410000</td>\n      <td>238.470001</td>\n      <td>215.669998</td>\n      <td>53.119999</td>\n      <td>118.459999</td>\n      <td>57.000000</td>\n      <td>62.000000</td>\n      <td>52.060001</td>\n      <td>163.309998</td>\n      <td>92137.646075</td>\n    </tr>\n    <tr>\n      <th>2021-11-17</th>\n      <td>32.880001</td>\n      <td>38.230000</td>\n      <td>231.850006</td>\n      <td>206.270004</td>\n      <td>53.730000</td>\n      <td>118.059998</td>\n      <td>56.759998</td>\n      <td>62.169998</td>\n      <td>51.730000</td>\n      <td>163.369995</td>\n      <td>90727.587953</td>\n    </tr>\n    <tr>\n      <th>2021-11-18</th>\n      <td>30.530001</td>\n      <td>37.970001</td>\n      <td>230.350006</td>\n      <td>200.500000</td>\n      <td>52.779999</td>\n      <td>116.660004</td>\n      <td>53.630001</td>\n      <td>61.630001</td>\n      <td>51.240002</td>\n      <td>163.419998</td>\n      <td>87570.034918</td>\n    </tr>\n    <tr>\n      <th>2021-11-19</th>\n      <td>28.990000</td>\n      <td>36.380001</td>\n      <td>225.139999</td>\n      <td>193.610001</td>\n      <td>51.910000</td>\n      <td>116.050003</td>\n      <td>53.250000</td>\n      <td>62.669998</td>\n      <td>50.860001</td>\n      <td>163.809998</td>\n      <td>84917.625787</td>\n    </tr>\n    <tr>\n      <th>2021-11-22</th>\n      <td>27.840000</td>\n      <td>34.299999</td>\n      <td>211.309998</td>\n      <td>189.479996</td>\n      <td>51.509998</td>\n      <td>116.470001</td>\n      <td>54.599998</td>\n      <td>63.119999</td>\n      <td>51.540001</td>\n      <td>164.149994</td>\n      <td>82602.781468</td>\n    </tr>\n    <tr>\n      <th>2021-11-23</th>\n      <td>27.650000</td>\n      <td>34.389999</td>\n      <td>210.550003</td>\n      <td>188.050003</td>\n      <td>52.040001</td>\n      <td>116.790001</td>\n      <td>55.299999</td>\n      <td>63.009998</td>\n      <td>51.750000</td>\n      <td>165.250000</td>\n      <td>82581.431118</td>\n    </tr>\n    <tr>\n      <th>2021-11-24</th>\n      <td>27.980000</td>\n      <td>34.380001</td>\n      <td>215.649994</td>\n      <td>188.710007</td>\n      <td>51.880001</td>\n      <td>116.730003</td>\n      <td>55.540001</td>\n      <td>63.099998</td>\n      <td>51.660000</td>\n      <td>163.740005</td>\n      <td>82977.773413</td>\n    </tr>\n  </tbody>\n</table>\n</div>"
     },
     "execution_count": 20,
     "metadata": {},
     "output_type": "execute_result"
    }
   ],
   "source": [
    "finalPortfolio"
   ]
  },
  {
   "cell_type": "code",
   "execution_count": 21,
   "metadata": {
    "pycharm": {
     "name": "#%%\n"
    }
   },
   "outputs": [],
   "source": [
    "# Portfolio starting date\n",
    "comp_date = '2021-11-26'"
   ]
  },
  {
   "cell_type": "markdown",
   "metadata": {
    "pycharm": {
     "name": "#%% md\n"
    }
   },
   "source": [
    "Please note that while we were testing our code, Yahoo Finance sometimes updates their data unpredictably, so we couldn't always get the closing prices for the current day. However, this shouldn't be a problem when you run the code past the 26th."
   ]
  },
  {
   "cell_type": "code",
   "execution_count": 22,
   "metadata": {
    "pycharm": {
     "name": "#%%\n"
    }
   },
   "outputs": [
    {
     "data": {
      "text/plain": "  Ticker      Prices       Shares   Values  Weight\n0   HOOD   27.920000  1253.581658  35000.0    35.0\n1   BMBL   33.830002   738.989023  25000.0    25.0\n2     SQ  212.080002    23.576009   5000.0     5.0\n3   PYPL  187.789993    26.625487   5000.0     5.0\n4  CMCSA   51.099998    97.847361   5000.0     5.0\n5    IBM  115.809998    43.174165   5000.0     5.0\n6   CSCO   54.669998    91.457841   5000.0     5.0\n7     SO   62.040001    80.593165   5000.0     5.0\n8     VZ   51.799999    96.525098   5000.0     5.0\n9    PEP  161.139999    31.028919   5000.0     5.0",
      "text/html": "<div>\n<style scoped>\n    .dataframe tbody tr th:only-of-type {\n        vertical-align: middle;\n    }\n\n    .dataframe tbody tr th {\n        vertical-align: top;\n    }\n\n    .dataframe thead th {\n        text-align: right;\n    }\n</style>\n<table border=\"1\" class=\"dataframe\">\n  <thead>\n    <tr style=\"text-align: right;\">\n      <th></th>\n      <th>Ticker</th>\n      <th>Prices</th>\n      <th>Shares</th>\n      <th>Values</th>\n      <th>Weight</th>\n    </tr>\n  </thead>\n  <tbody>\n    <tr>\n      <th>0</th>\n      <td>HOOD</td>\n      <td>27.920000</td>\n      <td>1253.581658</td>\n      <td>35000.0</td>\n      <td>35.0</td>\n    </tr>\n    <tr>\n      <th>1</th>\n      <td>BMBL</td>\n      <td>33.830002</td>\n      <td>738.989023</td>\n      <td>25000.0</td>\n      <td>25.0</td>\n    </tr>\n    <tr>\n      <th>2</th>\n      <td>SQ</td>\n      <td>212.080002</td>\n      <td>23.576009</td>\n      <td>5000.0</td>\n      <td>5.0</td>\n    </tr>\n    <tr>\n      <th>3</th>\n      <td>PYPL</td>\n      <td>187.789993</td>\n      <td>26.625487</td>\n      <td>5000.0</td>\n      <td>5.0</td>\n    </tr>\n    <tr>\n      <th>4</th>\n      <td>CMCSA</td>\n      <td>51.099998</td>\n      <td>97.847361</td>\n      <td>5000.0</td>\n      <td>5.0</td>\n    </tr>\n    <tr>\n      <th>5</th>\n      <td>IBM</td>\n      <td>115.809998</td>\n      <td>43.174165</td>\n      <td>5000.0</td>\n      <td>5.0</td>\n    </tr>\n    <tr>\n      <th>6</th>\n      <td>CSCO</td>\n      <td>54.669998</td>\n      <td>91.457841</td>\n      <td>5000.0</td>\n      <td>5.0</td>\n    </tr>\n    <tr>\n      <th>7</th>\n      <td>SO</td>\n      <td>62.040001</td>\n      <td>80.593165</td>\n      <td>5000.0</td>\n      <td>5.0</td>\n    </tr>\n    <tr>\n      <th>8</th>\n      <td>VZ</td>\n      <td>51.799999</td>\n      <td>96.525098</td>\n      <td>5000.0</td>\n      <td>5.0</td>\n    </tr>\n    <tr>\n      <th>9</th>\n      <td>PEP</td>\n      <td>161.139999</td>\n      <td>31.028919</td>\n      <td>5000.0</td>\n      <td>5.0</td>\n    </tr>\n  </tbody>\n</table>\n</div>"
     },
     "execution_count": 22,
     "metadata": {},
     "output_type": "execute_result"
    }
   ],
   "source": [
    "def price_data(lst,date):\n",
    "    dic={}\n",
    "    for i in range(len(lst)):\n",
    "        t=yf.Ticker(lst[i])\n",
    "        t_hist=t.history(start=date).iloc[0]\n",
    "        dic[lst[i]]=t_hist.Close\n",
    "    return dic\n",
    "\n",
    "comp_closing=pd.DataFrame(price_data(lstofstocks, comp_date), index=[pd.to_datetime(comp_date)])\n",
    "\n",
    "def calc_shares(df):\n",
    "    dic={}\n",
    "    for i in range(len(df.index)):\n",
    "        for j in range(len(df.columns)):\n",
    "            if j <= 0:\n",
    "                dic[df.columns[j]]=35000/df.iloc[i,j]\n",
    "            elif j <= 1:\n",
    "                dic[df.columns[j]]=25000/df.iloc[i,j]\n",
    "            else:\n",
    "                dic[df.columns[j]]=5000/df.iloc[i,j]\n",
    "    return dic\n",
    "\n",
    "shares=calc_shares(comp_closing)\n",
    "sa=pd.DataFrame.from_dict(shares,orient=\"index\")\n",
    "\n",
    "comp_closing=comp_closing.transpose()\n",
    "FinalPortfolio=comp_closing\n",
    "\n",
    "FinalPortfolio[\"Shares\"]=sa[0]\n",
    "FinalPortfolio=comp_closing.reset_index()\n",
    "FinalPortfolio.columns=[\"Ticker\",\"Prices\",\"Shares\"]\n",
    "FinalPortfolio[\"Values\"]=FinalPortfolio[\"Prices\"]*FinalPortfolio[\"Shares\"]\n",
    "FinalPortfolio[\"Weight\"]=(FinalPortfolio[\"Values\"]/100000)*100\n",
    "FinalPortfolio"
   ]
  },
  {
   "cell_type": "code",
   "execution_count": 23,
   "metadata": {
    "pycharm": {
     "name": "#%%\n"
    }
   },
   "outputs": [
    {
     "data": {
      "text/plain": "  Ticker       Shares\n0   HOOD  1253.581658\n1   BMBL   738.989023\n2     SQ    23.576009\n3   PYPL    26.625487\n4  CMCSA    97.847361\n5    IBM    43.174165\n6   CSCO    91.457841\n7     SO    80.593165\n8     VZ    96.525098\n9    PEP    31.028919",
      "text/html": "<div>\n<style scoped>\n    .dataframe tbody tr th:only-of-type {\n        vertical-align: middle;\n    }\n\n    .dataframe tbody tr th {\n        vertical-align: top;\n    }\n\n    .dataframe thead th {\n        text-align: right;\n    }\n</style>\n<table border=\"1\" class=\"dataframe\">\n  <thead>\n    <tr style=\"text-align: right;\">\n      <th></th>\n      <th>Ticker</th>\n      <th>Shares</th>\n    </tr>\n  </thead>\n  <tbody>\n    <tr>\n      <th>0</th>\n      <td>HOOD</td>\n      <td>1253.581658</td>\n    </tr>\n    <tr>\n      <th>1</th>\n      <td>BMBL</td>\n      <td>738.989023</td>\n    </tr>\n    <tr>\n      <th>2</th>\n      <td>SQ</td>\n      <td>23.576009</td>\n    </tr>\n    <tr>\n      <th>3</th>\n      <td>PYPL</td>\n      <td>26.625487</td>\n    </tr>\n    <tr>\n      <th>4</th>\n      <td>CMCSA</td>\n      <td>97.847361</td>\n    </tr>\n    <tr>\n      <th>5</th>\n      <td>IBM</td>\n      <td>43.174165</td>\n    </tr>\n    <tr>\n      <th>6</th>\n      <td>CSCO</td>\n      <td>91.457841</td>\n    </tr>\n    <tr>\n      <th>7</th>\n      <td>SO</td>\n      <td>80.593165</td>\n    </tr>\n    <tr>\n      <th>8</th>\n      <td>VZ</td>\n      <td>96.525098</td>\n    </tr>\n    <tr>\n      <th>9</th>\n      <td>PEP</td>\n      <td>31.028919</td>\n    </tr>\n  </tbody>\n</table>\n</div>"
     },
     "execution_count": 23,
     "metadata": {},
     "output_type": "execute_result"
    }
   ],
   "source": [
    "Stocks=pd.DataFrame(FinalPortfolio[\"Ticker\"])\n",
    "Stocks[\"Shares\"]=FinalPortfolio[\"Shares\"]\n",
    "Stocks"
   ]
  },
  {
   "cell_type": "code",
   "execution_count": 24,
   "metadata": {
    "pycharm": {
     "name": "#%%\n"
    }
   },
   "outputs": [
    {
     "data": {
      "text/plain": "  Ticker       Shares\n0   HOOD  1253.581658\n1   BMBL   738.989023\n2     SQ    23.576009\n3   PYPL    26.625487\n4  CMCSA    97.847361\n5    IBM    43.174165\n6   CSCO    91.457841\n7     SO    80.593165\n8     VZ    96.525098\n9    PEP    31.028919",
      "text/html": "<div>\n<style scoped>\n    .dataframe tbody tr th:only-of-type {\n        vertical-align: middle;\n    }\n\n    .dataframe tbody tr th {\n        vertical-align: top;\n    }\n\n    .dataframe thead th {\n        text-align: right;\n    }\n</style>\n<table border=\"1\" class=\"dataframe\">\n  <thead>\n    <tr style=\"text-align: right;\">\n      <th></th>\n      <th>Ticker</th>\n      <th>Shares</th>\n    </tr>\n  </thead>\n  <tbody>\n    <tr>\n      <th>0</th>\n      <td>HOOD</td>\n      <td>1253.581658</td>\n    </tr>\n    <tr>\n      <th>1</th>\n      <td>BMBL</td>\n      <td>738.989023</td>\n    </tr>\n    <tr>\n      <th>2</th>\n      <td>SQ</td>\n      <td>23.576009</td>\n    </tr>\n    <tr>\n      <th>3</th>\n      <td>PYPL</td>\n      <td>26.625487</td>\n    </tr>\n    <tr>\n      <th>4</th>\n      <td>CMCSA</td>\n      <td>97.847361</td>\n    </tr>\n    <tr>\n      <th>5</th>\n      <td>IBM</td>\n      <td>43.174165</td>\n    </tr>\n    <tr>\n      <th>6</th>\n      <td>CSCO</td>\n      <td>91.457841</td>\n    </tr>\n    <tr>\n      <th>7</th>\n      <td>SO</td>\n      <td>80.593165</td>\n    </tr>\n    <tr>\n      <th>8</th>\n      <td>VZ</td>\n      <td>96.525098</td>\n    </tr>\n    <tr>\n      <th>9</th>\n      <td>PEP</td>\n      <td>31.028919</td>\n    </tr>\n  </tbody>\n</table>\n</div>"
     },
     "execution_count": 24,
     "metadata": {},
     "output_type": "execute_result"
    }
   ],
   "source": [
    "Stocks.to_csv('Stocks_Group_12.csv', index=False)\n",
    "pd.read_csv('Stocks_Group_12.csv')"
   ]
  },
  {
   "cell_type": "markdown",
   "metadata": {
    "pycharm": {
     "name": "#%% md\n"
    }
   },
   "source": [
    "## How we came up with our list of tickers\n",
    "When thinking about what a risky portfolio is, we directed our focus to creating the least diverse portfolio made with the most volatile stocks. Instantly, we wanted to create a portfolio with 10 volatile stocks with high stds over a reasonable time interval.\n",
    "\n",
    "Our original thought process was to compare industries and find the industry with stocks which have the highest std. This would create very little diversification as stocks in the same industry tend to trend the same way. However, this method was ineffective for numerous reasons. The code would be far less efficient as we must call the info dictionary to get the industry and track down how many industries there are, moreover, we must check if there are even 10 stocks in each industry. Furthermore, one overtly volatile stock in one industry would lead us to base the portfolio on that industry; this is a problem as the industry might be relatively safe other than that one volatile stock creating a safe portfolio consequently.\n",
    "\n",
    "Hence, we shifted our approach to look at correlation of each stock to the stock with the highest std. This would grant us to create two groups of stocks; stocks that positively correlate with the stock with the highest std and stocks that negatively correlate. The two lists of stocks were then reorganized by highest to lowest std and the top 10 were picked from each list. This method grants us to create two lists of stocks which are very risky and have a history of correlating with each other (less diversification within each list). We then take the list of stocks which have the higher average std. If the group of stocks with the higher average std has less than 10 stocks, we just take stocks from the bottom of the list of the original organized list of oppositely correlating stocks. In other words, from the list of tickers, we have limited it down to 10 stocks which all relatively correlate in the same direction and are very volatile. Correlation is better than industry as industries also correlate with each other so by being inclusive of multiple industries through correlation, we get access to other volatile stocks in other industries.\n"
   ]
  },
  {
   "cell_type": "markdown",
   "metadata": {
    "pycharm": {
     "name": "#%% md\n"
    }
   },
   "source": [
    "## 35% diversification method:\n",
    "In the final part of the program, we’ve implemented a diversification method to determine the proportion of stocks bought using the 100,000, which we called the 35% diversification method. Our goal for the group is to create the most risky portfolio possible. As stated above, our condition for a risky portfolio is to have the least amount of variation of stocks possible, a low volume for each stock, and a high standard deviation for each stock, more importantly, the stocks in the portfolio have to correlate in the same direction.\n",
    "However, in the rules for the competition, we are required to have a minimum of 10 stocks, and no value of a specific stock in the portfolio should weigh over 35%. Therefore, according to our condition for a high risk portfolio, we decided to make a portfolio with only 10 stocks. Another rule for the assignment is that each stock must make up a minimum of (100/(2n))% of the portfolio therefore, this leaves us with a portfolio of 10 stocks, and no stocks could be weighted higher than 35% or lower than 5%.\n",
    "At the point of the code before implementing the 35% diversification method, we’ve already got a list of 10 stocks that are given in a decreasing order of standard deviation(calculated by previous historic data), and also correlated in the same direction, that means the first stock in the list is the most volatile, where as the last stock is the most volatile, but among the ten stocks. Since we know the list is given in a decreasing order, we wish to allocate our proportion of investment in a decreasing order as well, meaning that we put the most money in the first stock in the list and the least in the last stock, which optimizes the risk. Keeping in mind the fact that no values of stocks can make up more than 35%, and no values of stocks and be below 5%, by mathematical calculation, this leaves us with the optimum weighting of 35% for the first stock, 25% for the second stocks, and 5% each for the rest of the 8 stocks. In this case we can guarantee that 60% of our portfolio is driven by the two riskiest stocks, that correlates the same way, and the rest 40% of our portfolio is driven by 8 stocks that are less risky, but also correlates the same way. In this case, we created a portfolio that follows our condition for a risky portfolio, which is more concentrated, and have the least amount of variation stocks possible, but also not violating the rules for the assignment at the same time."
   ]
  },
  {
   "cell_type": "markdown",
   "metadata": {
    "pycharm": {
     "name": "#%% md\n"
    }
   },
   "source": [
    "## Contribution Declaration\n",
    "\n",
    "The following team members made a meaningful contribution to this assignment:\n",
    "\n",
    "Bill:\n",
    "Filtration code, annotation in the actual code and overall error checking.\n",
    "\n",
    "Soumik:\n",
    "Correlation code and generating the actual list of tickers to be used. Also worked on the final written portion.\n",
    "\n",
    "Justin:\n",
    "Code for calculating the weighting and outputting it to the csv. ALso worked on the final written portion."
   ]
  },
  {
   "cell_type": "markdown",
   "metadata": {
    "pycharm": {
     "name": "#%% md\n"
    }
   },
   "source": [
    "<p style=\"color:red\">\n",
    "What we changed: <br>\n",
    "Firstly, we added a single line of code to drop the duplicate tickers in the list of tickers given to us. <br><br>\n",
    "As well we also added a few conditions to the <i>hstd()</i> function to handle more conditions in the ticker list given to us - For example, when the overall negatively and positively correlated lists have less than 7 tickers. There was no bug in this method, but we decided to add extra conditions in case a given ticker list would have less than 13 tickers in it. <br><br>\n",
    "Lastly, we changed the everything under the else condition in the function <i>portlength()</i>. Originally we had set to if i == 10 when it was supposed to be i == (10-len(port)) so that meant that if the list length was less then 10, nothing was outputted hence running into the error NoneType. So just completely got rid of the if statement and printed out the list outside for the for loop which fixed the bug.\n",
    "</p>"
   ]
  }
 ],
 "metadata": {
  "kernelspec": {
   "name": "cfm-venv",
   "language": "python",
   "display_name": "cfm-venv"
  },
  "language_info": {
   "codemirror_mode": {
    "name": "ipython",
    "version": 3
   },
   "file_extension": ".py",
   "mimetype": "text/x-python",
   "name": "python",
   "nbconvert_exporter": "python",
   "pygments_lexer": "ipython3",
   "version": "3.8.8"
  }
 },
 "nbformat": 4,
 "nbformat_minor": 2
}