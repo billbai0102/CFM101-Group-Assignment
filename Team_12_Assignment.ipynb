{
 "cells": [
  {
   "cell_type": "code",
   "execution_count": 1,
   "metadata": {},
   "outputs": [],
   "source": [
    "from IPython.display import display, Math, Latex\n",
    "\n",
    "import pandas as pd\n",
    "import numpy as np\n",
    "import numpy_financial as npf\n",
    "import yfinance as yf\n",
    "import matplotlib.pyplot as plt\n",
    "from datetime import datetime"
   ]
  },
  {
   "cell_type": "markdown",
   "metadata": {},
   "source": [
    "## Group Assignment\n",
    "### Team Number: 12\n",
    "### Team Member Names: Bill Bai, Soumik Debnath, Justin Yu\n",
    "### Team Strategy Chosen: RISKY"
   ]
  },
  {
   "cell_type": "code",
   "execution_count": null,
   "outputs": [],
   "source": [
    "def filter_us_market(df):\n",
    "    \"\"\"\n",
    "    Consumes a dataframe of tickers and returns a list of booleans representing whether the tickers are US-listed or not.\n",
    "    :param df: DataFrame containing tickers\n",
    "    :return: List of booleans representing whether the tickers are US-listed.\n",
    "    \"\"\"\n",
    "    # Initialize mask list of booleans.\n",
    "    mask = []\n",
    "    for idx, row in df.iterrows():\n",
    "        # Check whether stock is US-listed or not, and append the boolean to mask\n",
    "        info = row['Info']\n",
    "        if \"market\" in row['Info']:\n",
    "            mask.append(info['market'] == 'us_market')\n",
    "        else:\n",
    "            mask.append(False)\n",
    "    # Return mask\n",
    "    return mask\n",
    "\n",
    "def filter_volume(df):\n",
    "    \"\"\"\n",
    "    Consumes a dataframe of tickers and returns a list of bo\n",
    "    :param df:\n",
    "    :return:\n",
    "    \"\"\"\n",
    "    # Start and end date to check volume\n",
    "    start_date = \"2021-07-02\"\n",
    "    end_date = \"2021-10-23\"\n",
    "    mask = []\n",
    "    for idx, row in df.iterrows():\n",
    "        ticker = yf.Ticker(row[0])\n",
    "        ticker_hist = ticker.history(start=start_date, end=end_date)\n",
    "        mask.append(ticker_hist['Volume'].mean() >= 10000)\n",
    "    return mask"
   ],
   "metadata": {
    "collapsed": false,
    "pycharm": {
     "name": "#%%\n"
    }
   }
  },
  {
   "cell_type": "code",
   "execution_count": 14,
   "outputs": [
    {
     "data": {
      "text/plain": "     AAPL                                               Info\n0    ABBV  {'zip': '60064-6400', 'sector': 'Healthcare', ...\n1     ABT  {'zip': '60064-6400', 'sector': 'Healthcare', ...\n2     ACN  {'zip': '2', 'sector': 'Technology', 'fullTime...\n3     AIG  {'zip': '10020', 'sector': 'Financial Services...\n4    AMZN  {'zip': '98109-5210', 'sector': 'Consumer Cycl...\n5     AXP  {'zip': '10285', 'sector': 'Financial Services...\n6      BA  {'zip': '60606-1596', 'sector': 'Industrials',...\n7     BAC  {'zip': '28255', 'sector': 'Financial Services...\n8    BIIB  {'zip': '02142', 'sector': 'Healthcare', 'full...\n9      BK  {'zip': '10286', 'sector': 'Financial Services...\n10    BLK  {'zip': '10055', 'sector': 'Financial Services...\n11    BMY  {'zip': '10016', 'sector': 'Healthcare', 'full...\n12      C  {'zip': '10013', 'sector': 'Financial Services...\n13    CAT  {'zip': '60015', 'sector': 'Industrials', 'ful...\n14     CL  {'zip': '10022-7499', 'sector': 'Consumer Defe...\n15  CMCSA  {'zip': '19103-2838', 'sector': 'Communication...\n16    COF  {'zip': '22102', 'sector': 'Financial Services...\n17    COP  {'zip': '77079-2703', 'sector': 'Energy', 'ful...\n18   COST  {'zip': '98027', 'sector': 'Consumer Defensive...\n19   CSCO  {'zip': '95134', 'sector': 'Technology', 'full...\n20    CVS  {'zip': '02895', 'sector': 'Healthcare', 'full...\n21     GM  {'zip': '48265-3000', 'sector': 'Consumer Cycl...\n22   GOOG  {'zip': '94043', 'sector': 'Communication Serv...\n23    JPM  {'zip': '10179', 'sector': 'Financial Services...\n24    KMI  {'zip': '77002', 'sector': 'Energy', 'fullTime...\n25     KO  {'zip': '30313', 'sector': 'Consumer Defensive...\n26    LLY  {'zip': '46285', 'sector': 'Healthcare', 'full...\n27    LMT  {'zip': '20817', 'sector': 'Industrials', 'ful...\n28     MO  {'zip': '23230', 'sector': 'Consumer Defensive...\n29    MON  {'zip': '46204', 'sector': 'Financial Services...\n30    MRK  {'zip': '07033', 'sector': 'Healthcare', 'full...\n31     MS  {'zip': '10036', 'sector': 'Financial Services...\n32   MSFT  {'zip': '98052-6399', 'sector': 'Technology', ...\n33    NEE  {'zip': '33408', 'sector': 'Utilities', 'fullT...\n34    NKE  {'zip': '97005-6453', 'sector': 'Consumer Cycl...\n35   ORCL  {'zip': '78741', 'sector': 'Technology', 'full...\n36    OXY  {'zip': '77046-0521', 'sector': 'Energy', 'ful...\n37    PEP  {'zip': '10577', 'sector': 'Consumer Defensive...\n38    PFE  {'zip': '10017', 'sector': 'Healthcare', 'full...\n39     PG  {'zip': '45202', 'sector': 'Consumer Defensive...\n40     PM  {'zip': '10017-5592', 'sector': 'Consumer Defe...\n41   PYPL  {'zip': '95131', 'sector': 'Financial Services...\n42   QCOM  {'zip': '92121-1714', 'sector': 'Technology', ...\n43   SBUX  {'zip': '98134', 'sector': 'Consumer Cyclical'...\n44    SLB  {'zip': '77056', 'sector': 'Energy', 'fullTime...\n45     SO  {'zip': '30308', 'sector': 'Utilities', 'fullT...\n46    SPG  {'zip': '46204', 'sector': 'Real Estate', 'ful...\n47      T  {'zip': '75202', 'sector': 'Communication Serv...\n48    TGT  {'zip': '55403', 'sector': 'Consumer Defensive...\n49    TXN  {'zip': '75243', 'sector': 'Technology', 'full...\n50    UNH  {'zip': '55343', 'sector': 'Healthcare', 'full...\n51    UNP  {'zip': '68179', 'sector': 'Industrials', 'ful...\n52    UPS  {'zip': '30328', 'sector': 'Industrials', 'ful...\n53    USB  {'zip': '55402', 'sector': 'Financial Services...",
      "text/html": "<div>\n<style scoped>\n    .dataframe tbody tr th:only-of-type {\n        vertical-align: middle;\n    }\n\n    .dataframe tbody tr th {\n        vertical-align: top;\n    }\n\n    .dataframe thead th {\n        text-align: right;\n    }\n</style>\n<table border=\"1\" class=\"dataframe\">\n  <thead>\n    <tr style=\"text-align: right;\">\n      <th></th>\n      <th>AAPL</th>\n      <th>Info</th>\n    </tr>\n  </thead>\n  <tbody>\n    <tr>\n      <th>0</th>\n      <td>ABBV</td>\n      <td>{'zip': '60064-6400', 'sector': 'Healthcare', ...</td>\n    </tr>\n    <tr>\n      <th>1</th>\n      <td>ABT</td>\n      <td>{'zip': '60064-6400', 'sector': 'Healthcare', ...</td>\n    </tr>\n    <tr>\n      <th>2</th>\n      <td>ACN</td>\n      <td>{'zip': '2', 'sector': 'Technology', 'fullTime...</td>\n    </tr>\n    <tr>\n      <th>3</th>\n      <td>AIG</td>\n      <td>{'zip': '10020', 'sector': 'Financial Services...</td>\n    </tr>\n    <tr>\n      <th>4</th>\n      <td>AMZN</td>\n      <td>{'zip': '98109-5210', 'sector': 'Consumer Cycl...</td>\n    </tr>\n    <tr>\n      <th>5</th>\n      <td>AXP</td>\n      <td>{'zip': '10285', 'sector': 'Financial Services...</td>\n    </tr>\n    <tr>\n      <th>6</th>\n      <td>BA</td>\n      <td>{'zip': '60606-1596', 'sector': 'Industrials',...</td>\n    </tr>\n    <tr>\n      <th>7</th>\n      <td>BAC</td>\n      <td>{'zip': '28255', 'sector': 'Financial Services...</td>\n    </tr>\n    <tr>\n      <th>8</th>\n      <td>BIIB</td>\n      <td>{'zip': '02142', 'sector': 'Healthcare', 'full...</td>\n    </tr>\n    <tr>\n      <th>9</th>\n      <td>BK</td>\n      <td>{'zip': '10286', 'sector': 'Financial Services...</td>\n    </tr>\n    <tr>\n      <th>10</th>\n      <td>BLK</td>\n      <td>{'zip': '10055', 'sector': 'Financial Services...</td>\n    </tr>\n    <tr>\n      <th>11</th>\n      <td>BMY</td>\n      <td>{'zip': '10016', 'sector': 'Healthcare', 'full...</td>\n    </tr>\n    <tr>\n      <th>12</th>\n      <td>C</td>\n      <td>{'zip': '10013', 'sector': 'Financial Services...</td>\n    </tr>\n    <tr>\n      <th>13</th>\n      <td>CAT</td>\n      <td>{'zip': '60015', 'sector': 'Industrials', 'ful...</td>\n    </tr>\n    <tr>\n      <th>14</th>\n      <td>CL</td>\n      <td>{'zip': '10022-7499', 'sector': 'Consumer Defe...</td>\n    </tr>\n    <tr>\n      <th>15</th>\n      <td>CMCSA</td>\n      <td>{'zip': '19103-2838', 'sector': 'Communication...</td>\n    </tr>\n    <tr>\n      <th>16</th>\n      <td>COF</td>\n      <td>{'zip': '22102', 'sector': 'Financial Services...</td>\n    </tr>\n    <tr>\n      <th>17</th>\n      <td>COP</td>\n      <td>{'zip': '77079-2703', 'sector': 'Energy', 'ful...</td>\n    </tr>\n    <tr>\n      <th>18</th>\n      <td>COST</td>\n      <td>{'zip': '98027', 'sector': 'Consumer Defensive...</td>\n    </tr>\n    <tr>\n      <th>19</th>\n      <td>CSCO</td>\n      <td>{'zip': '95134', 'sector': 'Technology', 'full...</td>\n    </tr>\n    <tr>\n      <th>20</th>\n      <td>CVS</td>\n      <td>{'zip': '02895', 'sector': 'Healthcare', 'full...</td>\n    </tr>\n    <tr>\n      <th>21</th>\n      <td>GM</td>\n      <td>{'zip': '48265-3000', 'sector': 'Consumer Cycl...</td>\n    </tr>\n    <tr>\n      <th>22</th>\n      <td>GOOG</td>\n      <td>{'zip': '94043', 'sector': 'Communication Serv...</td>\n    </tr>\n    <tr>\n      <th>23</th>\n      <td>JPM</td>\n      <td>{'zip': '10179', 'sector': 'Financial Services...</td>\n    </tr>\n    <tr>\n      <th>24</th>\n      <td>KMI</td>\n      <td>{'zip': '77002', 'sector': 'Energy', 'fullTime...</td>\n    </tr>\n    <tr>\n      <th>25</th>\n      <td>KO</td>\n      <td>{'zip': '30313', 'sector': 'Consumer Defensive...</td>\n    </tr>\n    <tr>\n      <th>26</th>\n      <td>LLY</td>\n      <td>{'zip': '46285', 'sector': 'Healthcare', 'full...</td>\n    </tr>\n    <tr>\n      <th>27</th>\n      <td>LMT</td>\n      <td>{'zip': '20817', 'sector': 'Industrials', 'ful...</td>\n    </tr>\n    <tr>\n      <th>28</th>\n      <td>MO</td>\n      <td>{'zip': '23230', 'sector': 'Consumer Defensive...</td>\n    </tr>\n    <tr>\n      <th>29</th>\n      <td>MON</td>\n      <td>{'zip': '46204', 'sector': 'Financial Services...</td>\n    </tr>\n    <tr>\n      <th>30</th>\n      <td>MRK</td>\n      <td>{'zip': '07033', 'sector': 'Healthcare', 'full...</td>\n    </tr>\n    <tr>\n      <th>31</th>\n      <td>MS</td>\n      <td>{'zip': '10036', 'sector': 'Financial Services...</td>\n    </tr>\n    <tr>\n      <th>32</th>\n      <td>MSFT</td>\n      <td>{'zip': '98052-6399', 'sector': 'Technology', ...</td>\n    </tr>\n    <tr>\n      <th>33</th>\n      <td>NEE</td>\n      <td>{'zip': '33408', 'sector': 'Utilities', 'fullT...</td>\n    </tr>\n    <tr>\n      <th>34</th>\n      <td>NKE</td>\n      <td>{'zip': '97005-6453', 'sector': 'Consumer Cycl...</td>\n    </tr>\n    <tr>\n      <th>35</th>\n      <td>ORCL</td>\n      <td>{'zip': '78741', 'sector': 'Technology', 'full...</td>\n    </tr>\n    <tr>\n      <th>36</th>\n      <td>OXY</td>\n      <td>{'zip': '77046-0521', 'sector': 'Energy', 'ful...</td>\n    </tr>\n    <tr>\n      <th>37</th>\n      <td>PEP</td>\n      <td>{'zip': '10577', 'sector': 'Consumer Defensive...</td>\n    </tr>\n    <tr>\n      <th>38</th>\n      <td>PFE</td>\n      <td>{'zip': '10017', 'sector': 'Healthcare', 'full...</td>\n    </tr>\n    <tr>\n      <th>39</th>\n      <td>PG</td>\n      <td>{'zip': '45202', 'sector': 'Consumer Defensive...</td>\n    </tr>\n    <tr>\n      <th>40</th>\n      <td>PM</td>\n      <td>{'zip': '10017-5592', 'sector': 'Consumer Defe...</td>\n    </tr>\n    <tr>\n      <th>41</th>\n      <td>PYPL</td>\n      <td>{'zip': '95131', 'sector': 'Financial Services...</td>\n    </tr>\n    <tr>\n      <th>42</th>\n      <td>QCOM</td>\n      <td>{'zip': '92121-1714', 'sector': 'Technology', ...</td>\n    </tr>\n    <tr>\n      <th>43</th>\n      <td>SBUX</td>\n      <td>{'zip': '98134', 'sector': 'Consumer Cyclical'...</td>\n    </tr>\n    <tr>\n      <th>44</th>\n      <td>SLB</td>\n      <td>{'zip': '77056', 'sector': 'Energy', 'fullTime...</td>\n    </tr>\n    <tr>\n      <th>45</th>\n      <td>SO</td>\n      <td>{'zip': '30308', 'sector': 'Utilities', 'fullT...</td>\n    </tr>\n    <tr>\n      <th>46</th>\n      <td>SPG</td>\n      <td>{'zip': '46204', 'sector': 'Real Estate', 'ful...</td>\n    </tr>\n    <tr>\n      <th>47</th>\n      <td>T</td>\n      <td>{'zip': '75202', 'sector': 'Communication Serv...</td>\n    </tr>\n    <tr>\n      <th>48</th>\n      <td>TGT</td>\n      <td>{'zip': '55403', 'sector': 'Consumer Defensive...</td>\n    </tr>\n    <tr>\n      <th>49</th>\n      <td>TXN</td>\n      <td>{'zip': '75243', 'sector': 'Technology', 'full...</td>\n    </tr>\n    <tr>\n      <th>50</th>\n      <td>UNH</td>\n      <td>{'zip': '55343', 'sector': 'Healthcare', 'full...</td>\n    </tr>\n    <tr>\n      <th>51</th>\n      <td>UNP</td>\n      <td>{'zip': '68179', 'sector': 'Industrials', 'ful...</td>\n    </tr>\n    <tr>\n      <th>52</th>\n      <td>UPS</td>\n      <td>{'zip': '30328', 'sector': 'Industrials', 'ful...</td>\n    </tr>\n    <tr>\n      <th>53</th>\n      <td>USB</td>\n      <td>{'zip': '55402', 'sector': 'Financial Services...</td>\n    </tr>\n  </tbody>\n</table>\n</div>"
     },
     "execution_count": 14,
     "metadata": {},
     "output_type": "execute_result"
    }
   ],
   "source": [
    "tickers_df = pd.read_csv('./filtered-data.csv')\n",
    "tickers_df"
   ],
   "metadata": {
    "collapsed": false,
    "pycharm": {
     "name": "#%%\n"
    }
   }
  },
  {
   "cell_type": "code",
   "execution_count": null,
   "outputs": [],
   "source": [
    "def get_stock_info(df):\n",
    "    hist = {}\n"
   ],
   "metadata": {
    "collapsed": false,
    "pycharm": {
     "name": "#%%\n"
    }
   }
  },
  {
   "cell_type": "code",
   "execution_count": 16,
   "outputs": [
    {
     "data": {
      "text/plain": "0       hi\n1    there\ndtype: object"
     },
     "execution_count": 16,
     "metadata": {},
     "output_type": "execute_result"
    }
   ],
   "source": [
    "pd.Series(['hi', 'there'])"
   ],
   "metadata": {
    "collapsed": false,
    "pycharm": {
     "name": "#%%\n"
    }
   }
  },
  {
   "cell_type": "markdown",
   "metadata": {},
   "source": [
    "## Contribution Declaration\n",
    "\n",
    "The following team members made a meaningful contribution to this assignment:\n",
    "\n",
    "Insert Names Here."
   ]
  }
 ],
 "metadata": {
  "kernelspec": {
   "display_name": "Python 3",
   "language": "python",
   "name": "python3"
  },
  "language_info": {
   "codemirror_mode": {
    "name": "ipython",
    "version": 3
   },
   "file_extension": ".py",
   "mimetype": "text/x-python",
   "name": "python",
   "nbconvert_exporter": "python",
   "pygments_lexer": "ipython3",
   "version": "3.7.4"
  }
 },
 "nbformat": 4,
 "nbformat_minor": 2
}