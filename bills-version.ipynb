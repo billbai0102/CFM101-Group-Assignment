{
 "cells": [
  {
   "cell_type": "code",
   "execution_count": 1,
   "metadata": {},
   "outputs": [],
   "source": [
    "from IPython.display import display, Math, Latex\n",
    "\n",
    "import pandas as pd\n",
    "import numpy as np\n",
    "import numpy_financial as npf\n",
    "import yfinance as yf\n",
    "import matplotlib.pyplot as plt\n",
    "from datetime import datetime"
   ]
  },
  {
   "cell_type": "markdown",
   "metadata": {},
   "source": [
    "## Group Assignment\n",
    "### Team Number: 12\n",
    "### Team Member Names: Bill Bai, Soumik Debnath, Justin Yu\n",
    "### Team Strategy Chosen: Risky (RISKY OR SAFE)"
   ]
  },
  {
   "cell_type": "markdown",
   "source": [
    "Below, we define start and end dates to get ticker data in order to create our portfolio. We defined it from 2020-11-26 to 2021-11-26, or a 1 year interval.\n",
    "\n",
    "The reason why we chose to base our portfolio off of 1 year of historical data is because we wanted a timeframe that wasn't too long that our short-term risky portfolio would capture \"too much\" irrelevant data - for example, we chose to use standard deviation as a factor in creating our portfolio and using too long of a timeframe might cause our code to choose a stock that used to be volatile, but is now \"safe\". We also didn't want to use too short of a time interval since our portfolio uses correlation to choose stocks that tend to trade in the same direction - using too short of a timeframe would capture stocks that may be correlated for a short interval by pure coincidence or by broader-market forces.\n",
    "\n",
    "Thus, the perfect interval we found after backtesting our code many times on different timeframes and lists of tickers happened to be 1 year. 1 year perfectly captures the stocks with the most momentum to make our portfolio risky, but also ensures that the stocks in our portfolio are correlated for a reason, rather than by pure coincidence or market forces.\n",
    "\n",
    "Later on in our code, we'll also explain why we used daily data in calculating the risk metrics for our portfolio, rather than weekly or monthly data."
   ],
   "metadata": {
    "collapsed": false,
    "pycharm": {
     "name": "#%% md\n"
    }
   }
  },
  {
   "cell_type": "code",
   "execution_count": 2,
   "metadata": {
    "pycharm": {
     "name": "#%%\n"
    }
   },
   "outputs": [],
   "source": [
    "# Start and end date to base our portfolio tickers off of\n",
    "start_date = \"2020-11-26\"\n",
    "end_date = \"2021-11-26\"\n",
    "\n",
    "# Portfolio starting date\n",
    "comp_date = '2021-11-25'"
   ]
  },
  {
   "cell_type": "markdown",
   "source": [
    "Next we'll load the given list of tickers to choose our portfolio from."
   ],
   "metadata": {
    "collapsed": false,
    "pycharm": {
     "name": "#%% md\n"
    }
   }
  },
  {
   "cell_type": "code",
   "execution_count": 3,
   "metadata": {
    "pycharm": {
     "name": "#%%\n"
    }
   },
   "outputs": [],
   "source": [
    "# Read in tickers file and save as DF\n",
    "tickers_path = \"./Tickers.csv\"\n",
    "tickers_df = pd.read_csv(tickers_path, header=None).rename(columns={0: 'Ticker'})"
   ]
  },
  {
   "cell_type": "code",
   "execution_count": 4,
   "metadata": {
    "pycharm": {
     "name": "#%%\n"
    }
   },
   "outputs": [
    {
     "data": {
      "text/plain": "   Ticker\n0    AAPL\n1    ABBV\n2     ABT\n3     ACN\n4     AGN\n..    ...\n59    UNP\n60    UPS\n61    USB\n62  RY.TO\n63  TD.TO\n\n[64 rows x 1 columns]",
      "text/html": "<div>\n<style scoped>\n    .dataframe tbody tr th:only-of-type {\n        vertical-align: middle;\n    }\n\n    .dataframe tbody tr th {\n        vertical-align: top;\n    }\n\n    .dataframe thead th {\n        text-align: right;\n    }\n</style>\n<table border=\"1\" class=\"dataframe\">\n  <thead>\n    <tr style=\"text-align: right;\">\n      <th></th>\n      <th>Ticker</th>\n    </tr>\n  </thead>\n  <tbody>\n    <tr>\n      <th>0</th>\n      <td>AAPL</td>\n    </tr>\n    <tr>\n      <th>1</th>\n      <td>ABBV</td>\n    </tr>\n    <tr>\n      <th>2</th>\n      <td>ABT</td>\n    </tr>\n    <tr>\n      <th>3</th>\n      <td>ACN</td>\n    </tr>\n    <tr>\n      <th>4</th>\n      <td>AGN</td>\n    </tr>\n    <tr>\n      <th>...</th>\n      <td>...</td>\n    </tr>\n    <tr>\n      <th>59</th>\n      <td>UNP</td>\n    </tr>\n    <tr>\n      <th>60</th>\n      <td>UPS</td>\n    </tr>\n    <tr>\n      <th>61</th>\n      <td>USB</td>\n    </tr>\n    <tr>\n      <th>62</th>\n      <td>RY.TO</td>\n    </tr>\n    <tr>\n      <th>63</th>\n      <td>TD.TO</td>\n    </tr>\n  </tbody>\n</table>\n<p>64 rows × 1 columns</p>\n</div>"
     },
     "execution_count": 4,
     "metadata": {},
     "output_type": "execute_result"
    }
   ],
   "source": [
    "# Display tickers dataframe\n",
    "tickers_df"
   ]
  },
  {
   "cell_type": "markdown",
   "source": [
    "Here, we create an info column in our tickers dataframe, where each cell contains the yf.Ticker(ticker).info dict for each ticker. We implemented this to increase efficiency in our code, since calling .info takes a few seconds for each call, and our list of tickers is very long. Thus, it is more efficient to save the info dict in memory rather than performing an API call each time we need a stock's info."
   ],
   "metadata": {
    "collapsed": false,
    "pycharm": {
     "name": "#%% md\n"
    }
   }
  },
  {
   "cell_type": "code",
   "execution_count": 5,
   "metadata": {
    "pycharm": {
     "name": "#%%\n"
    }
   },
   "outputs": [
    {
     "name": "stdout",
     "output_type": "stream",
     "text": [
      "................................................................"
     ]
    },
    {
     "data": {
      "text/plain": "   Ticker                                               Info\n0    AAPL  {'zip': '95014', 'sector': 'Technology', 'full...\n1    ABBV  {'zip': '60064-6400', 'sector': 'Healthcare', ...\n2     ABT  {'zip': '60064-6400', 'sector': 'Healthcare', ...\n3     ACN  {'zip': '2', 'sector': 'Technology', 'fullTime...\n4     AGN       {'regularMarketPrice': None, 'logo_url': ''}\n..    ...                                                ...\n59    UNP  {'zip': '68179', 'sector': 'Industrials', 'ful...\n60    UPS  {'zip': '30328', 'sector': 'Industrials', 'ful...\n61    USB  {'zip': '55402', 'sector': 'Financial Services...\n62  RY.TO  {'zip': 'M5J 2J5', 'sector': 'Financial Servic...\n63  TD.TO  {'zip': 'M5K 1A2', 'sector': 'Financial Servic...\n\n[64 rows x 2 columns]",
      "text/html": "<div>\n<style scoped>\n    .dataframe tbody tr th:only-of-type {\n        vertical-align: middle;\n    }\n\n    .dataframe tbody tr th {\n        vertical-align: top;\n    }\n\n    .dataframe thead th {\n        text-align: right;\n    }\n</style>\n<table border=\"1\" class=\"dataframe\">\n  <thead>\n    <tr style=\"text-align: right;\">\n      <th></th>\n      <th>Ticker</th>\n      <th>Info</th>\n    </tr>\n  </thead>\n  <tbody>\n    <tr>\n      <th>0</th>\n      <td>AAPL</td>\n      <td>{'zip': '95014', 'sector': 'Technology', 'full...</td>\n    </tr>\n    <tr>\n      <th>1</th>\n      <td>ABBV</td>\n      <td>{'zip': '60064-6400', 'sector': 'Healthcare', ...</td>\n    </tr>\n    <tr>\n      <th>2</th>\n      <td>ABT</td>\n      <td>{'zip': '60064-6400', 'sector': 'Healthcare', ...</td>\n    </tr>\n    <tr>\n      <th>3</th>\n      <td>ACN</td>\n      <td>{'zip': '2', 'sector': 'Technology', 'fullTime...</td>\n    </tr>\n    <tr>\n      <th>4</th>\n      <td>AGN</td>\n      <td>{'regularMarketPrice': None, 'logo_url': ''}</td>\n    </tr>\n    <tr>\n      <th>...</th>\n      <td>...</td>\n      <td>...</td>\n    </tr>\n    <tr>\n      <th>59</th>\n      <td>UNP</td>\n      <td>{'zip': '68179', 'sector': 'Industrials', 'ful...</td>\n    </tr>\n    <tr>\n      <th>60</th>\n      <td>UPS</td>\n      <td>{'zip': '30328', 'sector': 'Industrials', 'ful...</td>\n    </tr>\n    <tr>\n      <th>61</th>\n      <td>USB</td>\n      <td>{'zip': '55402', 'sector': 'Financial Services...</td>\n    </tr>\n    <tr>\n      <th>62</th>\n      <td>RY.TO</td>\n      <td>{'zip': 'M5J 2J5', 'sector': 'Financial Servic...</td>\n    </tr>\n    <tr>\n      <th>63</th>\n      <td>TD.TO</td>\n      <td>{'zip': 'M5K 1A2', 'sector': 'Financial Servic...</td>\n    </tr>\n  </tbody>\n</table>\n<p>64 rows × 2 columns</p>\n</div>"
     },
     "execution_count": 5,
     "metadata": {},
     "output_type": "execute_result"
    }
   ],
   "source": [
    "# Create an info cell for each ticker, saving time when filtering the tickers by volume and country.\n",
    "info_column = {}\n",
    "\n",
    "# Add info to dict\n",
    "for idx, row in tickers_df.iterrows():\n",
    "    ticker = row[0]  # Get ticker name\n",
    "    ticker = yf.Ticker(ticker)\n",
    "    info_column[idx] = ticker.info\n",
    "    print('.', end='')  # So we can tell if the code is running\n",
    "\n",
    "# Create column for the info]\n",
    "tickers_df['Info'] = pd.Series(info_column)\n",
    "tickers_df"
   ]
  },
  {
   "cell_type": "markdown",
   "source": [
    "In the next two cells, we filter out stocks that are either delisted, have an average daily volume of less than 10,000, or aren't US-listed. This is per the requirements of the assignment.\n",
    "\n",
    "We also create a dict called hist_dict that stores the yf.Ticker(ticker).history() dataframe for each ticker. This is also for efficiency since calling .history() takes times for Yahoo to return the data, so it's faster to just store the data in memory than to call it each time we use the data - which we do a lot of since we make many calculations for our portfolio."
   ],
   "metadata": {
    "collapsed": false,
    "pycharm": {
     "name": "#%% md\n"
    }
   }
  },
  {
   "cell_type": "code",
   "execution_count": 6,
   "metadata": {
    "pycharm": {
     "name": "#%%\n"
    }
   },
   "outputs": [],
   "source": [
    "# Dict to store the ticker history for each ticker.\n",
    "hist_dict = {}\n",
    "\n",
    "\n",
    "def filter_us_market(df):\n",
    "    \"\"\"\n",
    "    Consumes a dataframe of tickers and returns a list of booleans representing whether the tickers are US-listed or not.\n",
    "    :param df: DataFrame containing tickers\n",
    "    :return: List of booleans representing whether the tickers are US-listed.\n",
    "    \"\"\"\n",
    "    # Initialize mask list of booleans.\n",
    "    mask = []\n",
    "    for idx, row in df.iterrows():\n",
    "        # Check whether stock is US-listed or not, and append the boolean to mask\n",
    "        info = row['Info']\n",
    "        if \"market\" in row['Info']:\n",
    "            is_us_market = info['market'] == 'us_market'\n",
    "            mask.append(is_us_market)\n",
    "        else:\n",
    "            mask.append(False)\n",
    "    # Return mask\n",
    "    return mask\n",
    "\n",
    "\n",
    "def filter_volume(df):\n",
    "    \"\"\"\n",
    "    Consumes a dataframe of tickers and returns a list of bo\n",
    "    :param df:\n",
    "    :return:\n",
    "    \"\"\"\n",
    "    # Start and end date to check volume\n",
    "    start = \"2021-07-02\"\n",
    "    end = \"2021-10-23\"\n",
    "    # Mask to filter out stocks\n",
    "    mask = []\n",
    "    for idx, row in df.iterrows():\n",
    "        # Gets ticker history\n",
    "        ticker = yf.Ticker(row[0])\n",
    "        ticker_hist = ticker.history(start=start_date, end=end_date)\n",
    "        # Gets subset of data to check volume\n",
    "        volume_hist = ticker_hist.loc[\n",
    "            (ticker_hist.index >= pd.to_datetime(start)) & (ticker_hist.index <= pd.to_datetime(end))]\n",
    "        # Checks if average volume is not less than 10,0000\n",
    "        valid_volume = volume_hist['Volume'].mean() >= 10000\n",
    "        mask.append(valid_volume)\n",
    "        if valid_volume:\n",
    "            hist_dict[row[0]] = ticker_hist  # Adds the ticker history dataframe to hist_dict\n",
    "    return mask"
   ]
  },
  {
   "cell_type": "code",
   "execution_count": 7,
   "metadata": {
    "pycharm": {
     "name": "#%%\n"
    }
   },
   "outputs": [
    {
     "name": "stdout",
     "output_type": "stream",
     "text": [
      "- PCLN: No data found for this date range, symbol may be delisted\n",
      "- TWX: No data found for this date range, symbol may be delisted\n"
     ]
    }
   ],
   "source": [
    "# Filter out non-US stocks / delisted stocks\n",
    "tickers_df = tickers_df.loc[filter_us_market(tickers_df)]\n",
    "# Filter out stocks without valid volume\n",
    "tickers_df = tickers_df.loc[filter_volume(tickers_df)]"
   ]
  },
  {
   "cell_type": "code",
   "execution_count": 8,
   "metadata": {
    "pycharm": {
     "name": "#%%\n"
    }
   },
   "outputs": [
    {
     "data": {
      "text/plain": "   Ticker                                               Info\n0    AAPL  {'zip': '95014', 'sector': 'Technology', 'full...\n1    ABBV  {'zip': '60064-6400', 'sector': 'Healthcare', ...\n2     ABT  {'zip': '60064-6400', 'sector': 'Healthcare', ...\n3     ACN  {'zip': '2', 'sector': 'Technology', 'fullTime...\n4     AIG  {'zip': '10020', 'sector': 'Financial Services...\n5    AMZN  {'zip': '98109-5210', 'sector': 'Consumer Cycl...\n6     AXP  {'zip': '10285', 'sector': 'Financial Services...\n7      BA  {'zip': '60606-1596', 'sector': 'Industrials',...\n8     BAC  {'zip': '28255', 'sector': 'Financial Services...\n9    BIIB  {'zip': '02142', 'sector': 'Healthcare', 'full...\n10     BK  {'zip': '10286', 'sector': 'Financial Services...\n11    BLK  {'zip': '10055', 'sector': 'Financial Services...\n12    BMY  {'zip': '10016', 'sector': 'Healthcare', 'full...\n13      C  {'zip': '10013', 'sector': 'Financial Services...\n14    CAT  {'zip': '60015', 'sector': 'Industrials', 'ful...\n15     CL  {'zip': '10022-7499', 'sector': 'Consumer Defe...\n16  CMCSA  {'zip': '19103-2838', 'sector': 'Communication...\n17    COF  {'zip': '22102', 'sector': 'Financial Services...\n18    COP  {'zip': '77079-2703', 'sector': 'Energy', 'ful...\n19   COST  {'zip': '98027', 'sector': 'Consumer Defensive...\n20   CSCO  {'zip': '95134', 'sector': 'Technology', 'full...\n21    CVS  {'zip': '02895', 'sector': 'Healthcare', 'full...\n22     GM  {'zip': '48265-3000', 'sector': 'Consumer Cycl...\n23   GOOG  {'zip': '94043', 'sector': 'Communication Serv...\n24    JPM  {'zip': '10179', 'sector': 'Financial Services...\n25    KMI  {'zip': '77002', 'sector': 'Energy', 'fullTime...\n26     KO  {'zip': '30313', 'sector': 'Consumer Defensive...\n27    LLY  {'zip': '46285', 'sector': 'Healthcare', 'full...\n28    LMT  {'zip': '20817', 'sector': 'Industrials', 'ful...\n29     MO  {'zip': '23230', 'sector': 'Consumer Defensive...\n30    MON  {'zip': '46204', 'sector': 'Financial Services...\n31    MRK  {'zip': '07033', 'sector': 'Healthcare', 'full...\n32     MS  {'zip': '10036', 'sector': 'Financial Services...\n33   MSFT  {'zip': '98052-6399', 'sector': 'Technology', ...\n34    NEE  {'zip': '33408', 'sector': 'Utilities', 'fullT...\n35    NKE  {'zip': '97005-6453', 'sector': 'Consumer Cycl...\n36   ORCL  {'zip': '78741', 'sector': 'Technology', 'full...\n37    OXY  {'zip': '77046-0521', 'sector': 'Energy', 'ful...\n38    PEP  {'zip': '10577', 'sector': 'Consumer Defensive...\n39    PFE  {'zip': '10017', 'sector': 'Healthcare', 'full...\n40     PG  {'zip': '45202', 'sector': 'Consumer Defensive...\n41     PM  {'zip': '10017-5592', 'sector': 'Consumer Defe...\n42   PYPL  {'zip': '95131', 'sector': 'Financial Services...\n43   QCOM  {'zip': '92121-1714', 'sector': 'Technology', ...\n44   SBUX  {'zip': '98134', 'sector': 'Consumer Cyclical'...\n45    SLB  {'zip': '77056', 'sector': 'Energy', 'fullTime...\n46     SO  {'zip': '30308', 'sector': 'Utilities', 'fullT...\n47    SPG  {'zip': '46204', 'sector': 'Real Estate', 'ful...\n48      T  {'zip': '75202', 'sector': 'Communication Serv...\n49    TGT  {'zip': '55403', 'sector': 'Consumer Defensive...\n50    TXN  {'zip': '75243', 'sector': 'Technology', 'full...\n51    UNH  {'zip': '55343', 'sector': 'Healthcare', 'full...\n52    UNP  {'zip': '68179', 'sector': 'Industrials', 'ful...\n53    UPS  {'zip': '30328', 'sector': 'Industrials', 'ful...\n54    USB  {'zip': '55402', 'sector': 'Financial Services...",
      "text/html": "<div>\n<style scoped>\n    .dataframe tbody tr th:only-of-type {\n        vertical-align: middle;\n    }\n\n    .dataframe tbody tr th {\n        vertical-align: top;\n    }\n\n    .dataframe thead th {\n        text-align: right;\n    }\n</style>\n<table border=\"1\" class=\"dataframe\">\n  <thead>\n    <tr style=\"text-align: right;\">\n      <th></th>\n      <th>Ticker</th>\n      <th>Info</th>\n    </tr>\n  </thead>\n  <tbody>\n    <tr>\n      <th>0</th>\n      <td>AAPL</td>\n      <td>{'zip': '95014', 'sector': 'Technology', 'full...</td>\n    </tr>\n    <tr>\n      <th>1</th>\n      <td>ABBV</td>\n      <td>{'zip': '60064-6400', 'sector': 'Healthcare', ...</td>\n    </tr>\n    <tr>\n      <th>2</th>\n      <td>ABT</td>\n      <td>{'zip': '60064-6400', 'sector': 'Healthcare', ...</td>\n    </tr>\n    <tr>\n      <th>3</th>\n      <td>ACN</td>\n      <td>{'zip': '2', 'sector': 'Technology', 'fullTime...</td>\n    </tr>\n    <tr>\n      <th>4</th>\n      <td>AIG</td>\n      <td>{'zip': '10020', 'sector': 'Financial Services...</td>\n    </tr>\n    <tr>\n      <th>5</th>\n      <td>AMZN</td>\n      <td>{'zip': '98109-5210', 'sector': 'Consumer Cycl...</td>\n    </tr>\n    <tr>\n      <th>6</th>\n      <td>AXP</td>\n      <td>{'zip': '10285', 'sector': 'Financial Services...</td>\n    </tr>\n    <tr>\n      <th>7</th>\n      <td>BA</td>\n      <td>{'zip': '60606-1596', 'sector': 'Industrials',...</td>\n    </tr>\n    <tr>\n      <th>8</th>\n      <td>BAC</td>\n      <td>{'zip': '28255', 'sector': 'Financial Services...</td>\n    </tr>\n    <tr>\n      <th>9</th>\n      <td>BIIB</td>\n      <td>{'zip': '02142', 'sector': 'Healthcare', 'full...</td>\n    </tr>\n    <tr>\n      <th>10</th>\n      <td>BK</td>\n      <td>{'zip': '10286', 'sector': 'Financial Services...</td>\n    </tr>\n    <tr>\n      <th>11</th>\n      <td>BLK</td>\n      <td>{'zip': '10055', 'sector': 'Financial Services...</td>\n    </tr>\n    <tr>\n      <th>12</th>\n      <td>BMY</td>\n      <td>{'zip': '10016', 'sector': 'Healthcare', 'full...</td>\n    </tr>\n    <tr>\n      <th>13</th>\n      <td>C</td>\n      <td>{'zip': '10013', 'sector': 'Financial Services...</td>\n    </tr>\n    <tr>\n      <th>14</th>\n      <td>CAT</td>\n      <td>{'zip': '60015', 'sector': 'Industrials', 'ful...</td>\n    </tr>\n    <tr>\n      <th>15</th>\n      <td>CL</td>\n      <td>{'zip': '10022-7499', 'sector': 'Consumer Defe...</td>\n    </tr>\n    <tr>\n      <th>16</th>\n      <td>CMCSA</td>\n      <td>{'zip': '19103-2838', 'sector': 'Communication...</td>\n    </tr>\n    <tr>\n      <th>17</th>\n      <td>COF</td>\n      <td>{'zip': '22102', 'sector': 'Financial Services...</td>\n    </tr>\n    <tr>\n      <th>18</th>\n      <td>COP</td>\n      <td>{'zip': '77079-2703', 'sector': 'Energy', 'ful...</td>\n    </tr>\n    <tr>\n      <th>19</th>\n      <td>COST</td>\n      <td>{'zip': '98027', 'sector': 'Consumer Defensive...</td>\n    </tr>\n    <tr>\n      <th>20</th>\n      <td>CSCO</td>\n      <td>{'zip': '95134', 'sector': 'Technology', 'full...</td>\n    </tr>\n    <tr>\n      <th>21</th>\n      <td>CVS</td>\n      <td>{'zip': '02895', 'sector': 'Healthcare', 'full...</td>\n    </tr>\n    <tr>\n      <th>22</th>\n      <td>GM</td>\n      <td>{'zip': '48265-3000', 'sector': 'Consumer Cycl...</td>\n    </tr>\n    <tr>\n      <th>23</th>\n      <td>GOOG</td>\n      <td>{'zip': '94043', 'sector': 'Communication Serv...</td>\n    </tr>\n    <tr>\n      <th>24</th>\n      <td>JPM</td>\n      <td>{'zip': '10179', 'sector': 'Financial Services...</td>\n    </tr>\n    <tr>\n      <th>25</th>\n      <td>KMI</td>\n      <td>{'zip': '77002', 'sector': 'Energy', 'fullTime...</td>\n    </tr>\n    <tr>\n      <th>26</th>\n      <td>KO</td>\n      <td>{'zip': '30313', 'sector': 'Consumer Defensive...</td>\n    </tr>\n    <tr>\n      <th>27</th>\n      <td>LLY</td>\n      <td>{'zip': '46285', 'sector': 'Healthcare', 'full...</td>\n    </tr>\n    <tr>\n      <th>28</th>\n      <td>LMT</td>\n      <td>{'zip': '20817', 'sector': 'Industrials', 'ful...</td>\n    </tr>\n    <tr>\n      <th>29</th>\n      <td>MO</td>\n      <td>{'zip': '23230', 'sector': 'Consumer Defensive...</td>\n    </tr>\n    <tr>\n      <th>30</th>\n      <td>MON</td>\n      <td>{'zip': '46204', 'sector': 'Financial Services...</td>\n    </tr>\n    <tr>\n      <th>31</th>\n      <td>MRK</td>\n      <td>{'zip': '07033', 'sector': 'Healthcare', 'full...</td>\n    </tr>\n    <tr>\n      <th>32</th>\n      <td>MS</td>\n      <td>{'zip': '10036', 'sector': 'Financial Services...</td>\n    </tr>\n    <tr>\n      <th>33</th>\n      <td>MSFT</td>\n      <td>{'zip': '98052-6399', 'sector': 'Technology', ...</td>\n    </tr>\n    <tr>\n      <th>34</th>\n      <td>NEE</td>\n      <td>{'zip': '33408', 'sector': 'Utilities', 'fullT...</td>\n    </tr>\n    <tr>\n      <th>35</th>\n      <td>NKE</td>\n      <td>{'zip': '97005-6453', 'sector': 'Consumer Cycl...</td>\n    </tr>\n    <tr>\n      <th>36</th>\n      <td>ORCL</td>\n      <td>{'zip': '78741', 'sector': 'Technology', 'full...</td>\n    </tr>\n    <tr>\n      <th>37</th>\n      <td>OXY</td>\n      <td>{'zip': '77046-0521', 'sector': 'Energy', 'ful...</td>\n    </tr>\n    <tr>\n      <th>38</th>\n      <td>PEP</td>\n      <td>{'zip': '10577', 'sector': 'Consumer Defensive...</td>\n    </tr>\n    <tr>\n      <th>39</th>\n      <td>PFE</td>\n      <td>{'zip': '10017', 'sector': 'Healthcare', 'full...</td>\n    </tr>\n    <tr>\n      <th>40</th>\n      <td>PG</td>\n      <td>{'zip': '45202', 'sector': 'Consumer Defensive...</td>\n    </tr>\n    <tr>\n      <th>41</th>\n      <td>PM</td>\n      <td>{'zip': '10017-5592', 'sector': 'Consumer Defe...</td>\n    </tr>\n    <tr>\n      <th>42</th>\n      <td>PYPL</td>\n      <td>{'zip': '95131', 'sector': 'Financial Services...</td>\n    </tr>\n    <tr>\n      <th>43</th>\n      <td>QCOM</td>\n      <td>{'zip': '92121-1714', 'sector': 'Technology', ...</td>\n    </tr>\n    <tr>\n      <th>44</th>\n      <td>SBUX</td>\n      <td>{'zip': '98134', 'sector': 'Consumer Cyclical'...</td>\n    </tr>\n    <tr>\n      <th>45</th>\n      <td>SLB</td>\n      <td>{'zip': '77056', 'sector': 'Energy', 'fullTime...</td>\n    </tr>\n    <tr>\n      <th>46</th>\n      <td>SO</td>\n      <td>{'zip': '30308', 'sector': 'Utilities', 'fullT...</td>\n    </tr>\n    <tr>\n      <th>47</th>\n      <td>SPG</td>\n      <td>{'zip': '46204', 'sector': 'Real Estate', 'ful...</td>\n    </tr>\n    <tr>\n      <th>48</th>\n      <td>T</td>\n      <td>{'zip': '75202', 'sector': 'Communication Serv...</td>\n    </tr>\n    <tr>\n      <th>49</th>\n      <td>TGT</td>\n      <td>{'zip': '55403', 'sector': 'Consumer Defensive...</td>\n    </tr>\n    <tr>\n      <th>50</th>\n      <td>TXN</td>\n      <td>{'zip': '75243', 'sector': 'Technology', 'full...</td>\n    </tr>\n    <tr>\n      <th>51</th>\n      <td>UNH</td>\n      <td>{'zip': '55343', 'sector': 'Healthcare', 'full...</td>\n    </tr>\n    <tr>\n      <th>52</th>\n      <td>UNP</td>\n      <td>{'zip': '68179', 'sector': 'Industrials', 'ful...</td>\n    </tr>\n    <tr>\n      <th>53</th>\n      <td>UPS</td>\n      <td>{'zip': '30328', 'sector': 'Industrials', 'ful...</td>\n    </tr>\n    <tr>\n      <th>54</th>\n      <td>USB</td>\n      <td>{'zip': '55402', 'sector': 'Financial Services...</td>\n    </tr>\n  </tbody>\n</table>\n</div>"
     },
     "execution_count": 8,
     "metadata": {},
     "output_type": "execute_result"
    }
   ],
   "source": [
    "# Reset index on the filtered dataframe\n",
    "tickers_df = tickers_df.reset_index(drop=True)\n",
    "tickers_df"
   ]
  },
  {
   "cell_type": "markdown",
   "source": [
    "Next, we reformatted the data such that it contains ticker history closing prices for the 1 year interval. For this data, we kept it as daily data rather than resampling it to monthly or weekly data.\n",
    "\n",
    "The reason why we chose to use daily data to calculate the metrics for our portfolio (such as STD and Correlation) is because we found that it produced the best results when backtesting our short-term risky portfolio. We decided against using monthly closing prices for our portfolio since using 1 year of historical data would only give us 12 closing prices to decide our portfolio off of - which is too little. We also tried using weekly data and decided against it since we found that it didn't capture the most short-term volatile stocks. Weekly data tended to give us stocks that were volatile by coincidence (such as news causing a sharp drop or rise in stock price), rather stocks that are intrinsically volatile (like oil stocks, which are volatile not by coincidence but because oil is a volatile asset). Thus, we found that daily data gave us the most intrinsically short-term volatile stocks to build our risky portfolio."
   ],
   "metadata": {
    "collapsed": false,
    "pycharm": {
     "name": "#%% md\n"
    }
   }
  },
  {
   "cell_type": "code",
   "execution_count": 9,
   "metadata": {},
   "outputs": [
    {
     "data": {
      "text/plain": "                  AAPL        ABBV         ABT         ACN        AIG  \\\nDate                                                                    \n2020-11-27  115.875641  100.089195  105.981827  247.066132  38.660442   \n2020-11-30  118.320587   99.793381  106.572701  246.048706  37.424011   \n2020-12-01  121.968094   99.278099  106.838585  249.189896  38.271019   \n2020-12-02  122.325890  100.184608  106.503761  246.611755  38.679920   \n2020-12-03  122.186745   99.946053  105.893196  246.878433  38.787010   \n...                ...         ...         ...         ...        ...   \n2021-11-18  157.869995  117.070000  127.639999  370.779999  56.119999   \n2021-11-19  160.550003  116.239998  126.839996  369.790009  54.950001   \n2021-11-22  161.020004  115.650002  125.260002  363.299988  56.939999   \n2021-11-23  161.410004  118.879997  124.480003  360.700012  58.900002   \n2021-11-24  161.940002  118.660004  125.070000  362.369995  57.889999   \n\n                   AMZN         AXP          BA        BAC        BIIB  ...  \\\nDate                                                                    ...   \n2020-11-27  3195.340088  119.200394  216.500000  28.402325  243.779999  ...   \n2020-11-30  3168.040039  117.223442  210.710007  27.589148  240.169998  ...   \n2020-12-01  3220.080078  118.548004  213.009995  28.108404  243.160004  ...   \n2020-12-02  3203.530029  120.920349  223.850006  28.470903  246.919998  ...   \n2020-12-03  3186.729980  121.701241  237.199997  28.500479  244.089996  ...   \n...                 ...         ...         ...        ...         ...  ...   \n2021-11-18  3696.060059  176.210007  227.250000  46.320000  256.790009  ...   \n2021-11-19  3676.570068  173.539993  214.130005  45.400002  257.190002  ...   \n2021-11-22  3572.570068  170.899994  209.899994  46.279999  252.210007  ...   \n2021-11-23  3580.040039  170.850006  209.130005  47.500000  254.149994  ...   \n2021-11-24  3580.409912  171.610001  210.600006  47.630001  250.130005  ...   \n\n                  SLB         SO         SPG          T         TGT  \\\nDate                                                                  \n2020-11-27  21.465225  58.201691   81.473923  27.017212  177.334900   \n2020-11-30  20.395889  57.433983   78.635902  26.756626  177.098145   \n2020-12-01  20.795614  58.124916   80.940590  26.868307  176.624664   \n2020-12-02  21.358191  59.382030   83.092918  27.073053  174.020416   \n2020-12-03  21.782593  59.382030   85.359520  27.203344  172.550598   \n...               ...        ...         ...        ...         ...   \n2021-11-18  31.860001  61.630001  169.380005  24.389999  252.050003   \n2021-11-19  30.049999  62.669998  166.740005  24.129999  250.699997   \n2021-11-22  30.340000  63.119999  167.990005  24.700001  244.570007   \n2021-11-23  31.180000  63.009998  169.029999  24.760000  249.179993   \n2021-11-24  31.410000  63.099998  169.029999  24.469999  248.759995   \n\n                   TXN         UNH         UNP         UPS        USB  \nDate                                                                   \n2020-11-27  155.335892  333.142670  202.732468  165.332474  42.830627  \n2020-11-30  157.543945  331.565399  201.194519  167.466568  41.861828  \n2020-12-01  159.732468  336.346527  199.538269  164.422089  42.869377  \n2020-12-02  158.980164  342.626099  200.681870  165.273758  43.285965  \n2020-12-03  158.257156  343.730194  199.400253  164.294815  43.566917  \n...                ...         ...         ...         ...        ...  \n2021-11-18  193.470001  449.470001  240.240005  206.449997  58.650002  \n2021-11-19  195.160004  440.000000  241.309998  208.470001  57.590000  \n2021-11-22  192.500000  437.540009  243.910004  210.880005  58.980000  \n2021-11-23  192.639999  447.130005  247.369995  211.809998  60.070000  \n2021-11-24  193.600006  450.160004  246.600006  208.470001  59.840000  \n\n[251 rows x 55 columns]",
      "text/html": "<div>\n<style scoped>\n    .dataframe tbody tr th:only-of-type {\n        vertical-align: middle;\n    }\n\n    .dataframe tbody tr th {\n        vertical-align: top;\n    }\n\n    .dataframe thead th {\n        text-align: right;\n    }\n</style>\n<table border=\"1\" class=\"dataframe\">\n  <thead>\n    <tr style=\"text-align: right;\">\n      <th></th>\n      <th>AAPL</th>\n      <th>ABBV</th>\n      <th>ABT</th>\n      <th>ACN</th>\n      <th>AIG</th>\n      <th>AMZN</th>\n      <th>AXP</th>\n      <th>BA</th>\n      <th>BAC</th>\n      <th>BIIB</th>\n      <th>...</th>\n      <th>SLB</th>\n      <th>SO</th>\n      <th>SPG</th>\n      <th>T</th>\n      <th>TGT</th>\n      <th>TXN</th>\n      <th>UNH</th>\n      <th>UNP</th>\n      <th>UPS</th>\n      <th>USB</th>\n    </tr>\n    <tr>\n      <th>Date</th>\n      <th></th>\n      <th></th>\n      <th></th>\n      <th></th>\n      <th></th>\n      <th></th>\n      <th></th>\n      <th></th>\n      <th></th>\n      <th></th>\n      <th></th>\n      <th></th>\n      <th></th>\n      <th></th>\n      <th></th>\n      <th></th>\n      <th></th>\n      <th></th>\n      <th></th>\n      <th></th>\n      <th></th>\n    </tr>\n  </thead>\n  <tbody>\n    <tr>\n      <th>2020-11-27</th>\n      <td>115.875641</td>\n      <td>100.089195</td>\n      <td>105.981827</td>\n      <td>247.066132</td>\n      <td>38.660442</td>\n      <td>3195.340088</td>\n      <td>119.200394</td>\n      <td>216.500000</td>\n      <td>28.402325</td>\n      <td>243.779999</td>\n      <td>...</td>\n      <td>21.465225</td>\n      <td>58.201691</td>\n      <td>81.473923</td>\n      <td>27.017212</td>\n      <td>177.334900</td>\n      <td>155.335892</td>\n      <td>333.142670</td>\n      <td>202.732468</td>\n      <td>165.332474</td>\n      <td>42.830627</td>\n    </tr>\n    <tr>\n      <th>2020-11-30</th>\n      <td>118.320587</td>\n      <td>99.793381</td>\n      <td>106.572701</td>\n      <td>246.048706</td>\n      <td>37.424011</td>\n      <td>3168.040039</td>\n      <td>117.223442</td>\n      <td>210.710007</td>\n      <td>27.589148</td>\n      <td>240.169998</td>\n      <td>...</td>\n      <td>20.395889</td>\n      <td>57.433983</td>\n      <td>78.635902</td>\n      <td>26.756626</td>\n      <td>177.098145</td>\n      <td>157.543945</td>\n      <td>331.565399</td>\n      <td>201.194519</td>\n      <td>167.466568</td>\n      <td>41.861828</td>\n    </tr>\n    <tr>\n      <th>2020-12-01</th>\n      <td>121.968094</td>\n      <td>99.278099</td>\n      <td>106.838585</td>\n      <td>249.189896</td>\n      <td>38.271019</td>\n      <td>3220.080078</td>\n      <td>118.548004</td>\n      <td>213.009995</td>\n      <td>28.108404</td>\n      <td>243.160004</td>\n      <td>...</td>\n      <td>20.795614</td>\n      <td>58.124916</td>\n      <td>80.940590</td>\n      <td>26.868307</td>\n      <td>176.624664</td>\n      <td>159.732468</td>\n      <td>336.346527</td>\n      <td>199.538269</td>\n      <td>164.422089</td>\n      <td>42.869377</td>\n    </tr>\n    <tr>\n      <th>2020-12-02</th>\n      <td>122.325890</td>\n      <td>100.184608</td>\n      <td>106.503761</td>\n      <td>246.611755</td>\n      <td>38.679920</td>\n      <td>3203.530029</td>\n      <td>120.920349</td>\n      <td>223.850006</td>\n      <td>28.470903</td>\n      <td>246.919998</td>\n      <td>...</td>\n      <td>21.358191</td>\n      <td>59.382030</td>\n      <td>83.092918</td>\n      <td>27.073053</td>\n      <td>174.020416</td>\n      <td>158.980164</td>\n      <td>342.626099</td>\n      <td>200.681870</td>\n      <td>165.273758</td>\n      <td>43.285965</td>\n    </tr>\n    <tr>\n      <th>2020-12-03</th>\n      <td>122.186745</td>\n      <td>99.946053</td>\n      <td>105.893196</td>\n      <td>246.878433</td>\n      <td>38.787010</td>\n      <td>3186.729980</td>\n      <td>121.701241</td>\n      <td>237.199997</td>\n      <td>28.500479</td>\n      <td>244.089996</td>\n      <td>...</td>\n      <td>21.782593</td>\n      <td>59.382030</td>\n      <td>85.359520</td>\n      <td>27.203344</td>\n      <td>172.550598</td>\n      <td>158.257156</td>\n      <td>343.730194</td>\n      <td>199.400253</td>\n      <td>164.294815</td>\n      <td>43.566917</td>\n    </tr>\n    <tr>\n      <th>...</th>\n      <td>...</td>\n      <td>...</td>\n      <td>...</td>\n      <td>...</td>\n      <td>...</td>\n      <td>...</td>\n      <td>...</td>\n      <td>...</td>\n      <td>...</td>\n      <td>...</td>\n      <td>...</td>\n      <td>...</td>\n      <td>...</td>\n      <td>...</td>\n      <td>...</td>\n      <td>...</td>\n      <td>...</td>\n      <td>...</td>\n      <td>...</td>\n      <td>...</td>\n      <td>...</td>\n    </tr>\n    <tr>\n      <th>2021-11-18</th>\n      <td>157.869995</td>\n      <td>117.070000</td>\n      <td>127.639999</td>\n      <td>370.779999</td>\n      <td>56.119999</td>\n      <td>3696.060059</td>\n      <td>176.210007</td>\n      <td>227.250000</td>\n      <td>46.320000</td>\n      <td>256.790009</td>\n      <td>...</td>\n      <td>31.860001</td>\n      <td>61.630001</td>\n      <td>169.380005</td>\n      <td>24.389999</td>\n      <td>252.050003</td>\n      <td>193.470001</td>\n      <td>449.470001</td>\n      <td>240.240005</td>\n      <td>206.449997</td>\n      <td>58.650002</td>\n    </tr>\n    <tr>\n      <th>2021-11-19</th>\n      <td>160.550003</td>\n      <td>116.239998</td>\n      <td>126.839996</td>\n      <td>369.790009</td>\n      <td>54.950001</td>\n      <td>3676.570068</td>\n      <td>173.539993</td>\n      <td>214.130005</td>\n      <td>45.400002</td>\n      <td>257.190002</td>\n      <td>...</td>\n      <td>30.049999</td>\n      <td>62.669998</td>\n      <td>166.740005</td>\n      <td>24.129999</td>\n      <td>250.699997</td>\n      <td>195.160004</td>\n      <td>440.000000</td>\n      <td>241.309998</td>\n      <td>208.470001</td>\n      <td>57.590000</td>\n    </tr>\n    <tr>\n      <th>2021-11-22</th>\n      <td>161.020004</td>\n      <td>115.650002</td>\n      <td>125.260002</td>\n      <td>363.299988</td>\n      <td>56.939999</td>\n      <td>3572.570068</td>\n      <td>170.899994</td>\n      <td>209.899994</td>\n      <td>46.279999</td>\n      <td>252.210007</td>\n      <td>...</td>\n      <td>30.340000</td>\n      <td>63.119999</td>\n      <td>167.990005</td>\n      <td>24.700001</td>\n      <td>244.570007</td>\n      <td>192.500000</td>\n      <td>437.540009</td>\n      <td>243.910004</td>\n      <td>210.880005</td>\n      <td>58.980000</td>\n    </tr>\n    <tr>\n      <th>2021-11-23</th>\n      <td>161.410004</td>\n      <td>118.879997</td>\n      <td>124.480003</td>\n      <td>360.700012</td>\n      <td>58.900002</td>\n      <td>3580.040039</td>\n      <td>170.850006</td>\n      <td>209.130005</td>\n      <td>47.500000</td>\n      <td>254.149994</td>\n      <td>...</td>\n      <td>31.180000</td>\n      <td>63.009998</td>\n      <td>169.029999</td>\n      <td>24.760000</td>\n      <td>249.179993</td>\n      <td>192.639999</td>\n      <td>447.130005</td>\n      <td>247.369995</td>\n      <td>211.809998</td>\n      <td>60.070000</td>\n    </tr>\n    <tr>\n      <th>2021-11-24</th>\n      <td>161.940002</td>\n      <td>118.660004</td>\n      <td>125.070000</td>\n      <td>362.369995</td>\n      <td>57.889999</td>\n      <td>3580.409912</td>\n      <td>171.610001</td>\n      <td>210.600006</td>\n      <td>47.630001</td>\n      <td>250.130005</td>\n      <td>...</td>\n      <td>31.410000</td>\n      <td>63.099998</td>\n      <td>169.029999</td>\n      <td>24.469999</td>\n      <td>248.759995</td>\n      <td>193.600006</td>\n      <td>450.160004</td>\n      <td>246.600006</td>\n      <td>208.470001</td>\n      <td>59.840000</td>\n    </tr>\n  </tbody>\n</table>\n<p>251 rows × 55 columns</p>\n</div>"
     },
     "execution_count": 9,
     "metadata": {},
     "output_type": "execute_result"
    }
   ],
   "source": [
    "def create_df(df):\n",
    "    \"\"\"\n",
    "    This function iterates through the filtered list of stocks and creates a new dict with weekly ticker closing prices\n",
    "    :param df: filtered stocks DataFrame\n",
    "    :return: dict containing ticker closing prices resampled to weekly data\n",
    "    \"\"\"\n",
    "    dic = {}\n",
    "    for i in range(len(df)):\n",
    "        tick = df.iloc[i, 0]\n",
    "        # get ticker history data for the ticker\n",
    "        t_hist = hist_dict[tick]\n",
    "        # resample data to\n",
    "        dic[tick] = t_hist.Close\n",
    "    return dic\n",
    "\n",
    "\n",
    "#creates the dataframe price using the function create_df\n",
    "prices = pd.DataFrame(create_df(tickers_df))\n",
    "prices"
   ]
  },
  {
   "cell_type": "markdown",
   "source": [
    "In the next 2 cells, we obtain the stock with the highest risk (calculated using standard deviation). This will be a key part in forming our portfolio, as explained in the next annotation cell."
   ],
   "metadata": {
    "collapsed": false,
    "pycharm": {
     "name": "#%% md\n"
    }
   }
  },
  {
   "cell_type": "code",
   "execution_count": 10,
   "metadata": {},
   "outputs": [
    {
     "data": {
      "text/plain": "{'AAPL': 0.015589216108291292,\n 'ABBV': 0.012687257124244495,\n 'ABT': 0.012937698430129707,\n 'ACN': 0.011662958326867374,\n 'AIG': 0.018063390358586,\n 'AMZN': 0.015003883728443813,\n 'AXP': 0.01616605643958101,\n 'BA': 0.021778160726516737,\n 'BAC': 0.015898391225207427,\n 'BIIB': 0.029952123725821768,\n 'BK': 0.015778106612080692,\n 'BLK': 0.013975514658661896,\n 'BMY': 0.011256806383796262,\n 'C': 0.01668873237382216,\n 'CAT': 0.015894093842269762,\n 'CL': 0.008721513148153833,\n 'CMCSA': 0.014581208484893506,\n 'COF': 0.019465250219560925,\n 'COP': 0.023323831699250588,\n 'COST': 0.010578528940163602,\n 'CSCO': 0.011399690446090375,\n 'CVS': 0.01346667763553167,\n 'GM': 0.023305596804548735,\n 'GOOG': 0.014676421421111563,\n 'JPM': 0.013588242909452859,\n 'KMI': 0.01575098955162709,\n 'KO': 0.009007814340040934,\n 'LLY': 0.019423620273193422,\n 'LMT': 0.012552751752187539,\n 'MO': 0.013537004194831535,\n 'MON': 0.004634406274978367,\n 'MRK': 0.014224658706541595,\n 'MS': 0.016524613011823067,\n 'MSFT': 0.012480740842217935,\n 'NEE': 0.013649152046942444,\n 'NKE': 0.017350762231465075,\n 'ORCL': 0.01447966656733479,\n 'OXY': 0.03838145990751821,\n 'PEP': 0.00885779492627472,\n 'PFE': 0.01504209807222647,\n 'PG': 0.008577956620882267,\n 'PM': 0.011078327674730878,\n 'PYPL': 0.022811611093400495,\n 'QCOM': 0.021501845864403013,\n 'SBUX': 0.014055705556098485,\n 'SLB': 0.026175698349060857,\n 'SO': 0.009968843938097603,\n 'SPG': 0.020004636986626675,\n 'T': 0.011172725753656784,\n 'TGT': 0.01415490344094829,\n 'TXN': 0.016453651406387836,\n 'UNH': 0.011767655330048478,\n 'UNP': 0.012802995618990226,\n 'UPS': 0.015501135432721181,\n 'USB': 0.01621700545623416}"
     },
     "execution_count": 10,
     "metadata": {},
     "output_type": "execute_result"
    }
   ],
   "source": [
    "def generate_std(df):\n",
    "    \"\"\"\n",
    "    Creates a dict of tickers and their standard deviations for the given closing prices\n",
    "    :param df: Filtered DataFrame of tickers\n",
    "    :return: Dict of tickers and their STDs\n",
    "    \"\"\"\n",
    "    column = df.columns\n",
    "    stdlst_dic = {}\n",
    "    # Calculate the STD for each ticker\n",
    "    for i in range(len(column)):\n",
    "        temp = df[str(column[i])].pct_change().std()\n",
    "        stdlst_dic[str(column[i])] = temp\n",
    "    return stdlst_dic\n",
    "\n",
    "\n",
    "#creates the dataframe slst which is a dictionary containing the tickers and their std\n",
    "slst = generate_std(prices)\n",
    "slst"
   ]
  },
  {
   "cell_type": "code",
   "execution_count": 11,
   "metadata": {},
   "outputs": [
    {
     "data": {
      "text/plain": "'OXY'"
     },
     "execution_count": 11,
     "metadata": {},
     "output_type": "execute_result"
    }
   ],
   "source": [
    "#function to find the highest std\n",
    "def get_highest_std(dic):\n",
    "    \"\"\"\n",
    "    Consumes a dictionary of tickers and their STDs and returns the ticker with the highest STD in the dict\n",
    "    :param dic: Dict of tickers and their STDs\n",
    "    :return: Ticker with the highest STD\n",
    "    \"\"\"\n",
    "    std = 0\n",
    "    tick = \"\"\n",
    "    # Calculates the highest STD\n",
    "    for i in dic:\n",
    "        if std < dic[i]:\n",
    "            std = dic[i]\n",
    "            tick = i\n",
    "    return tick\n",
    "\n",
    "\n",
    "#checking what the highest std is\n",
    "get_highest_std(slst)"
   ]
  },
  {
   "cell_type": "markdown",
   "source": [
    "Next we'll generate a correlation matrix for all the stocks"
   ],
   "metadata": {
    "collapsed": false,
    "pycharm": {
     "name": "#%% md\n"
    }
   }
  },
  {
   "cell_type": "code",
   "execution_count": 12,
   "metadata": {},
   "outputs": [
    {
     "data": {
      "text/plain": "           AAPL      ABBV       ABT       ACN       AIG      AMZN       AXP  \\\nAAPL   1.000000  0.604065  0.664993  0.861126  0.614020  0.738855  0.637127   \nABBV   0.604065  1.000000  0.412300  0.702714  0.659321  0.587217  0.780943   \nABT    0.664993  0.412300  1.000000  0.691319  0.609786  0.414785  0.532036   \nACN    0.861126  0.702714  0.691319  1.000000  0.885146  0.636466  0.867641   \nAIG    0.614020  0.659321  0.609786  0.885146  1.000000  0.374889  0.902364   \nAMZN   0.738855  0.587217  0.414785  0.636466  0.374889  1.000000  0.587539   \nAXP    0.637127  0.780943  0.532036  0.867641  0.902364  0.587539  1.000000   \nBA    -0.427252  0.034186 -0.224950 -0.151026  0.064450 -0.130097  0.170938   \nBAC    0.542324  0.698012  0.583567  0.837334  0.957448  0.425675  0.919203   \nBIIB   0.301457  0.562645  0.095945  0.280985  0.281582  0.430400  0.496619   \nBK     0.688102  0.768110  0.595925  0.923270  0.957192  0.479693  0.917170   \nBLK    0.754165  0.841433  0.553601  0.907881  0.862944  0.663435  0.904831   \nBMY    0.095259  0.532130 -0.021817  0.042901 -0.016953  0.279105  0.218524   \nC      0.097086  0.515975  0.313683  0.425407  0.707063  0.072329  0.685293   \nCAT   -0.165763  0.405446  0.241419  0.120635  0.373864  0.027094  0.420196   \nCL    -0.250719  0.107152 -0.571433 -0.283107 -0.394836  0.138755 -0.214176   \nCMCSA  0.358113  0.599224  0.390011  0.502063  0.562984  0.359101  0.691205   \nCOF    0.587453  0.788151  0.513943  0.787562  0.873606  0.493843  0.943227   \nCOP    0.558076  0.590836  0.505076  0.825154  0.917902  0.412582  0.893319   \nCOST   0.878448  0.637199  0.576776  0.943862  0.782562  0.606605  0.732906   \nCSCO   0.724615  0.756913  0.651664  0.903145  0.893354  0.572838  0.911055   \nCVS    0.669760  0.815797  0.507854  0.868211  0.886532  0.554106  0.875217   \nGM     0.137479  0.479473  0.333718  0.354361  0.526666  0.338979  0.622374   \nGOOG   0.807271  0.765676  0.681722  0.945137  0.904871  0.662071  0.939106   \nJPM    0.486308  0.661266  0.610490  0.766542  0.932877  0.352018  0.898568   \nKMI    0.313421  0.734763  0.257203  0.589686  0.738874  0.449334  0.867685   \nKO     0.627899  0.749836  0.369840  0.805631  0.714128  0.583272  0.802477   \nLLY    0.839971  0.762576  0.679761  0.844281  0.766987  0.576507  0.810329   \nLMT   -0.114819  0.383898 -0.185571  0.097126  0.195876  0.259518  0.392659   \nMO     0.276929  0.478485  0.460167  0.556499  0.699566  0.272510  0.731727   \nMON   -0.066651 -0.273317  0.088297  0.026109  0.113507 -0.051544 -0.104785   \nMRK    0.612637  0.528530  0.226932  0.670490  0.516636  0.418729  0.491825   \nMS     0.751713  0.739854  0.643887  0.907996  0.926794  0.505529  0.920751   \nMSFT   0.884035  0.705197  0.740557  0.976573  0.864823  0.672440  0.860251   \nNEE    0.827057  0.346818  0.717030  0.682483  0.491867  0.430349  0.343532   \nNKE    0.874069  0.613475  0.600946  0.813702  0.577279  0.565004  0.620637   \nORCL   0.777635  0.752798  0.591495  0.948434  0.912214  0.603717  0.947063   \nOXY    0.386290  0.495161  0.474449  0.634187  0.787502  0.343948  0.811641   \nPEP    0.835345  0.695487  0.459505  0.926278  0.758247  0.642862  0.770177   \nPFE    0.808185  0.712302  0.528637  0.879909  0.738572  0.516410  0.701635   \nPG     0.779873  0.595733  0.438422  0.873950  0.686516  0.521307  0.648051   \nPM     0.607952  0.733515  0.506519  0.779278  0.796605  0.560136  0.885551   \nPYPL   0.222161  0.236140  0.218075  0.102484  0.083499  0.393595  0.298509   \nQCOM   0.384936  0.146564  0.102527  0.139490 -0.153879  0.318410 -0.155121   \nSBUX   0.615699  0.733290  0.529113  0.730940  0.665737  0.649561  0.825406   \nSLB    0.278684  0.631552  0.289304  0.587046  0.797476  0.326677  0.831438   \nSO     0.575481  0.690342  0.501690  0.736482  0.732990  0.458268  0.713226   \nSPG    0.675865  0.742411  0.651632  0.896635  0.928886  0.560117  0.924863   \nT     -0.619940 -0.155989 -0.335467 -0.543035 -0.380366 -0.307654 -0.293261   \nTGT    0.799600  0.825548  0.566345  0.896136  0.801239  0.702175  0.910207   \nTXN    0.630674  0.636738  0.624754  0.815421  0.837272  0.580967  0.889941   \nUNH    0.703270  0.820446  0.543077  0.917413  0.870127  0.612062  0.902144   \nUNP    0.446045  0.725604  0.458720  0.672664  0.689875  0.422127  0.692615   \nUPS    0.497475  0.816459  0.305133  0.699038  0.692909  0.635151  0.809593   \nUSB    0.437071  0.688787  0.481350  0.761137  0.903536  0.393448  0.913931   \n\n             BA       BAC      BIIB  ...       SLB        SO       SPG  \\\nAAPL  -0.427252  0.542324  0.301457  ...  0.278684  0.575481  0.675865   \nABBV   0.034186  0.698012  0.562645  ...  0.631552  0.690342  0.742411   \nABT   -0.224950  0.583567  0.095945  ...  0.289304  0.501690  0.651632   \nACN   -0.151026  0.837334  0.280985  ...  0.587046  0.736482  0.896635   \nAIG    0.064450  0.957448  0.281582  ...  0.797476  0.732990  0.928886   \nAMZN  -0.130097  0.425675  0.430400  ...  0.326677  0.458268  0.560117   \nAXP    0.170938  0.919203  0.496619  ...  0.831438  0.713226  0.924863   \nBA     1.000000  0.186698  0.204948  ...  0.295437  0.117328  0.087042   \nBAC    0.186698  1.000000  0.307045  ...  0.871160  0.692120  0.941351   \nBIIB   0.204948  0.307045  1.000000  ...  0.433273  0.425073  0.352118   \nBK     0.028568  0.956467  0.317210  ...  0.786345  0.746677  0.933983   \nBLK    0.018031  0.862532  0.520495  ...  0.713798  0.834092  0.880648   \nBMY    0.264507  0.050783  0.695464  ...  0.082042  0.431562  0.038297   \nC      0.531200  0.781160  0.378925  ...  0.765725  0.627183  0.618164   \nCAT    0.645757  0.529938  0.280392  ...  0.565457  0.428144  0.390204   \nCL     0.143970 -0.322654  0.132248  ... -0.161498  0.028890 -0.329852   \nCMCSA  0.356343  0.552095  0.674298  ...  0.493994  0.727631  0.537710   \nCOF    0.173825  0.881023  0.590495  ...  0.796254  0.800131  0.843601   \nCOP    0.068718  0.921338  0.232597  ...  0.856904  0.486159  0.915750   \nCOST  -0.319593  0.697564  0.186669  ...  0.454978  0.639610  0.800464   \nCSCO   0.094564  0.870004  0.518825  ...  0.682607  0.865562  0.874636   \nCVS   -0.007079  0.881700  0.390858  ...  0.780658  0.748446  0.904731   \nGM     0.485936  0.683067  0.310320  ...  0.739664  0.300034  0.649647   \nGOOG  -0.028154  0.869391  0.482667  ...  0.693862  0.784853  0.926478   \nJPM    0.204194  0.968945  0.339666  ...  0.864295  0.660414  0.895935   \nKMI    0.396318  0.828288  0.572003  ...  0.889775  0.652700  0.751247   \nKO     0.150036  0.693122  0.471171  ...  0.544309  0.828231  0.733932   \nLLY   -0.200226  0.719241  0.566035  ...  0.584919  0.603955  0.828904   \nLMT    0.616818  0.325893  0.431413  ...  0.412458  0.490607  0.194349   \nMO     0.485242  0.740524  0.452384  ...  0.635414  0.733978  0.633357   \nMON    0.088134  0.234766 -0.455797  ...  0.003980 -0.085913  0.077718   \nMRK   -0.273380  0.493739  0.063806  ...  0.360754  0.292652  0.539453   \nMS    -0.022623  0.874911  0.484877  ...  0.712337  0.769485  0.888796   \nMSFT  -0.169707  0.824649  0.321244  ...  0.592219  0.678494  0.916651   \nNEE   -0.545130  0.389304  0.005170  ...  0.080562  0.414329  0.496508   \nNKE   -0.333362  0.494752  0.282836  ...  0.281911  0.478232  0.638227   \nORCL  -0.016997  0.887206  0.419103  ...  0.709349  0.778191  0.901692   \nOXY    0.210766  0.844727  0.294814  ...  0.875600  0.308732  0.826391   \nPEP   -0.197903  0.694248  0.290858  ...  0.481772  0.719834  0.763081   \nPFE   -0.185340  0.639316  0.299222  ...  0.387574  0.750644  0.748915   \nPG    -0.222596  0.600370  0.182615  ...  0.330112  0.723548  0.656485   \nPM     0.171903  0.788508  0.643902  ...  0.685390  0.848682  0.771529   \nPYPL   0.125338  0.106035  0.662586  ...  0.169640  0.289358  0.093695   \nQCOM  -0.394206 -0.168530 -0.153452  ... -0.278629 -0.109083  0.044420   \nSBUX   0.237148  0.695143  0.528690  ...  0.541641  0.806131  0.700895   \nSLB    0.295437  0.871160  0.433273  ...  1.000000  0.470617  0.810644   \nSO     0.117328  0.692120  0.425073  ...  0.470617  1.000000  0.658486   \nSPG    0.087042  0.941351  0.352118  ...  0.810644  0.658486  1.000000   \nT      0.507893 -0.270875  0.032410  ... -0.161936  0.010573 -0.428225   \nTGT   -0.041560  0.795095  0.586910  ...  0.664520  0.754898  0.848540   \nTXN    0.196403  0.868130  0.453452  ...  0.712728  0.734952  0.846685   \nUNH    0.028462  0.883567  0.365653  ...  0.711210  0.805177  0.887795   \nUNP    0.177976  0.799033  0.181883  ...  0.685356  0.543751  0.768506   \nUPS    0.133089  0.758680  0.457321  ...  0.733955  0.715091  0.752423   \nUSB    0.304110  0.958982  0.338984  ...  0.850563  0.738532  0.860537   \n\n              T       TGT       TXN       UNH       UNP       UPS       USB  \nAAPL  -0.619940  0.799600  0.630674  0.703270  0.446045  0.497475  0.437071  \nABBV  -0.155989  0.825548  0.636738  0.820446  0.725604  0.816459  0.688787  \nABT   -0.335467  0.566345  0.624754  0.543077  0.458720  0.305133  0.481350  \nACN   -0.543035  0.896136  0.815421  0.917413  0.672664  0.699038  0.761137  \nAIG   -0.380366  0.801239  0.837272  0.870127  0.689875  0.692909  0.903536  \nAMZN  -0.307654  0.702175  0.580967  0.612062  0.422127  0.635151  0.393448  \nAXP   -0.293261  0.910207  0.889941  0.902144  0.692615  0.809593  0.913931  \nBA     0.507893 -0.041560  0.196403  0.028462  0.177976  0.133089  0.304110  \nBAC   -0.270875  0.795095  0.868130  0.883567  0.799033  0.758680  0.958982  \nBIIB   0.032410  0.586910  0.453452  0.365653  0.181883  0.457321  0.338984  \nBK    -0.394327  0.874412  0.834766  0.938619  0.803902  0.773362  0.898468  \nBLK   -0.328314  0.953579  0.847100  0.955488  0.735701  0.865045  0.825220  \nBMY    0.410120  0.369548  0.230178  0.241838  0.141090  0.363147  0.167943  \nC      0.226984  0.505100  0.689705  0.582184  0.547018  0.575465  0.855060  \nCAT    0.518699  0.245484  0.459055  0.349126  0.498295  0.450852  0.624417  \nCL     0.353671 -0.081912 -0.288067 -0.053301 -0.026225  0.263348 -0.206176  \nCMCSA  0.168366  0.650696  0.644259  0.571967  0.303277  0.578174  0.636769  \nCOF   -0.141553  0.887136  0.884184  0.846448  0.605267  0.785812  0.909527  \nCOP   -0.475664  0.741466  0.776858  0.799202  0.688138  0.641885  0.849236  \nCOST  -0.668251  0.824774  0.661675  0.834206  0.590145  0.627003  0.587530  \nCSCO  -0.269764  0.917526  0.901395  0.903439  0.629246  0.752246  0.854111  \nCVS   -0.362793  0.879487  0.791476  0.932783  0.736283  0.848738  0.825569  \nGM     0.057132  0.447848  0.644607  0.481347  0.635383  0.492848  0.672405  \nGOOG  -0.421418  0.941607  0.885460  0.900284  0.629754  0.754677  0.820019  \nJPM   -0.199196  0.754396  0.868781  0.802313  0.708255  0.680037  0.950426  \nKMI    0.061978  0.753497  0.787736  0.774117  0.660306  0.831518  0.886193  \nKO    -0.216436  0.846717  0.690811  0.869435  0.621765  0.821455  0.717705  \nLLY   -0.533356  0.889022  0.726370  0.760470  0.556538  0.594112  0.615510  \nLMT    0.519201  0.308040  0.400389  0.361659  0.329984  0.564922  0.499913  \nMO     0.177409  0.609606  0.803986  0.639503  0.451699  0.569783  0.820435  \nMON   -0.022248 -0.271584  0.135210 -0.029880  0.221007 -0.197291  0.259511  \nMRK   -0.595986  0.572471  0.349330  0.647842  0.592387  0.464617  0.383127  \nMS    -0.401038  0.914027  0.858518  0.869144  0.595649  0.697459  0.834746  \nMSFT  -0.589385  0.892897  0.812189  0.877523  0.663097  0.669295  0.722397  \nNEE   -0.636319  0.522941  0.433576  0.467915  0.367104  0.163972  0.222065  \nNKE   -0.640249  0.777613  0.522619  0.666995  0.469659  0.455825  0.388251  \nORCL  -0.414306  0.929640  0.863806  0.930171  0.672144  0.776643  0.861774  \nOXY   -0.311249  0.617917  0.719778  0.634780  0.618418  0.535585  0.782175  \nPEP   -0.542641  0.871294  0.686951  0.887291  0.613411  0.716745  0.636699  \nPFE   -0.496323  0.803544  0.611003  0.814848  0.557303  0.625097  0.562480  \nPG    -0.502860  0.774747  0.606377  0.810271  0.525379  0.606681  0.554023  \nPM    -0.080978  0.876128  0.854218  0.830452  0.501221  0.780326  0.834265  \nPYPL   0.211503  0.368198  0.404106  0.094919 -0.119403  0.201911  0.206914  \nQCOM  -0.443713  0.061754 -0.145099  0.031010  0.161429 -0.051234 -0.323627  \nSBUX  -0.014491  0.825548  0.815778  0.782658  0.556275  0.714801  0.763655  \nSLB   -0.161936  0.664520  0.712728  0.711210  0.685356  0.733955  0.850563  \nSO     0.010573  0.754898  0.734952  0.805177  0.543751  0.715091  0.738532  \nSPG   -0.428225  0.848540  0.846685  0.887795  0.768506  0.752423  0.860537  \nT      1.000000 -0.392677 -0.207699 -0.308278 -0.210168 -0.082868 -0.067999  \nTGT   -0.392677  1.000000  0.849468  0.907079  0.655305  0.799374  0.762073  \nTXN   -0.207699  0.849468  1.000000  0.811569  0.612351  0.671845  0.868050  \nUNH   -0.308278  0.907079  0.811569  1.000000  0.794808  0.872393  0.856503  \nUNP   -0.210168  0.655305  0.612351  0.794808  1.000000  0.717205  0.727929  \nUPS   -0.082868  0.799374  0.671845  0.872393  0.717205  1.000000  0.779252  \nUSB   -0.067999  0.762073  0.868050  0.856503  0.727929  0.779252  1.000000  \n\n[55 rows x 55 columns]",
      "text/html": "<div>\n<style scoped>\n    .dataframe tbody tr th:only-of-type {\n        vertical-align: middle;\n    }\n\n    .dataframe tbody tr th {\n        vertical-align: top;\n    }\n\n    .dataframe thead th {\n        text-align: right;\n    }\n</style>\n<table border=\"1\" class=\"dataframe\">\n  <thead>\n    <tr style=\"text-align: right;\">\n      <th></th>\n      <th>AAPL</th>\n      <th>ABBV</th>\n      <th>ABT</th>\n      <th>ACN</th>\n      <th>AIG</th>\n      <th>AMZN</th>\n      <th>AXP</th>\n      <th>BA</th>\n      <th>BAC</th>\n      <th>BIIB</th>\n      <th>...</th>\n      <th>SLB</th>\n      <th>SO</th>\n      <th>SPG</th>\n      <th>T</th>\n      <th>TGT</th>\n      <th>TXN</th>\n      <th>UNH</th>\n      <th>UNP</th>\n      <th>UPS</th>\n      <th>USB</th>\n    </tr>\n  </thead>\n  <tbody>\n    <tr>\n      <th>AAPL</th>\n      <td>1.000000</td>\n      <td>0.604065</td>\n      <td>0.664993</td>\n      <td>0.861126</td>\n      <td>0.614020</td>\n      <td>0.738855</td>\n      <td>0.637127</td>\n      <td>-0.427252</td>\n      <td>0.542324</td>\n      <td>0.301457</td>\n      <td>...</td>\n      <td>0.278684</td>\n      <td>0.575481</td>\n      <td>0.675865</td>\n      <td>-0.619940</td>\n      <td>0.799600</td>\n      <td>0.630674</td>\n      <td>0.703270</td>\n      <td>0.446045</td>\n      <td>0.497475</td>\n      <td>0.437071</td>\n    </tr>\n    <tr>\n      <th>ABBV</th>\n      <td>0.604065</td>\n      <td>1.000000</td>\n      <td>0.412300</td>\n      <td>0.702714</td>\n      <td>0.659321</td>\n      <td>0.587217</td>\n      <td>0.780943</td>\n      <td>0.034186</td>\n      <td>0.698012</td>\n      <td>0.562645</td>\n      <td>...</td>\n      <td>0.631552</td>\n      <td>0.690342</td>\n      <td>0.742411</td>\n      <td>-0.155989</td>\n      <td>0.825548</td>\n      <td>0.636738</td>\n      <td>0.820446</td>\n      <td>0.725604</td>\n      <td>0.816459</td>\n      <td>0.688787</td>\n    </tr>\n    <tr>\n      <th>ABT</th>\n      <td>0.664993</td>\n      <td>0.412300</td>\n      <td>1.000000</td>\n      <td>0.691319</td>\n      <td>0.609786</td>\n      <td>0.414785</td>\n      <td>0.532036</td>\n      <td>-0.224950</td>\n      <td>0.583567</td>\n      <td>0.095945</td>\n      <td>...</td>\n      <td>0.289304</td>\n      <td>0.501690</td>\n      <td>0.651632</td>\n      <td>-0.335467</td>\n      <td>0.566345</td>\n      <td>0.624754</td>\n      <td>0.543077</td>\n      <td>0.458720</td>\n      <td>0.305133</td>\n      <td>0.481350</td>\n    </tr>\n    <tr>\n      <th>ACN</th>\n      <td>0.861126</td>\n      <td>0.702714</td>\n      <td>0.691319</td>\n      <td>1.000000</td>\n      <td>0.885146</td>\n      <td>0.636466</td>\n      <td>0.867641</td>\n      <td>-0.151026</td>\n      <td>0.837334</td>\n      <td>0.280985</td>\n      <td>...</td>\n      <td>0.587046</td>\n      <td>0.736482</td>\n      <td>0.896635</td>\n      <td>-0.543035</td>\n      <td>0.896136</td>\n      <td>0.815421</td>\n      <td>0.917413</td>\n      <td>0.672664</td>\n      <td>0.699038</td>\n      <td>0.761137</td>\n    </tr>\n    <tr>\n      <th>AIG</th>\n      <td>0.614020</td>\n      <td>0.659321</td>\n      <td>0.609786</td>\n      <td>0.885146</td>\n      <td>1.000000</td>\n      <td>0.374889</td>\n      <td>0.902364</td>\n      <td>0.064450</td>\n      <td>0.957448</td>\n      <td>0.281582</td>\n      <td>...</td>\n      <td>0.797476</td>\n      <td>0.732990</td>\n      <td>0.928886</td>\n      <td>-0.380366</td>\n      <td>0.801239</td>\n      <td>0.837272</td>\n      <td>0.870127</td>\n      <td>0.689875</td>\n      <td>0.692909</td>\n      <td>0.903536</td>\n    </tr>\n    <tr>\n      <th>AMZN</th>\n      <td>0.738855</td>\n      <td>0.587217</td>\n      <td>0.414785</td>\n      <td>0.636466</td>\n      <td>0.374889</td>\n      <td>1.000000</td>\n      <td>0.587539</td>\n      <td>-0.130097</td>\n      <td>0.425675</td>\n      <td>0.430400</td>\n      <td>...</td>\n      <td>0.326677</td>\n      <td>0.458268</td>\n      <td>0.560117</td>\n      <td>-0.307654</td>\n      <td>0.702175</td>\n      <td>0.580967</td>\n      <td>0.612062</td>\n      <td>0.422127</td>\n      <td>0.635151</td>\n      <td>0.393448</td>\n    </tr>\n    <tr>\n      <th>AXP</th>\n      <td>0.637127</td>\n      <td>0.780943</td>\n      <td>0.532036</td>\n      <td>0.867641</td>\n      <td>0.902364</td>\n      <td>0.587539</td>\n      <td>1.000000</td>\n      <td>0.170938</td>\n      <td>0.919203</td>\n      <td>0.496619</td>\n      <td>...</td>\n      <td>0.831438</td>\n      <td>0.713226</td>\n      <td>0.924863</td>\n      <td>-0.293261</td>\n      <td>0.910207</td>\n      <td>0.889941</td>\n      <td>0.902144</td>\n      <td>0.692615</td>\n      <td>0.809593</td>\n      <td>0.913931</td>\n    </tr>\n    <tr>\n      <th>BA</th>\n      <td>-0.427252</td>\n      <td>0.034186</td>\n      <td>-0.224950</td>\n      <td>-0.151026</td>\n      <td>0.064450</td>\n      <td>-0.130097</td>\n      <td>0.170938</td>\n      <td>1.000000</td>\n      <td>0.186698</td>\n      <td>0.204948</td>\n      <td>...</td>\n      <td>0.295437</td>\n      <td>0.117328</td>\n      <td>0.087042</td>\n      <td>0.507893</td>\n      <td>-0.041560</td>\n      <td>0.196403</td>\n      <td>0.028462</td>\n      <td>0.177976</td>\n      <td>0.133089</td>\n      <td>0.304110</td>\n    </tr>\n    <tr>\n      <th>BAC</th>\n      <td>0.542324</td>\n      <td>0.698012</td>\n      <td>0.583567</td>\n      <td>0.837334</td>\n      <td>0.957448</td>\n      <td>0.425675</td>\n      <td>0.919203</td>\n      <td>0.186698</td>\n      <td>1.000000</td>\n      <td>0.307045</td>\n      <td>...</td>\n      <td>0.871160</td>\n      <td>0.692120</td>\n      <td>0.941351</td>\n      <td>-0.270875</td>\n      <td>0.795095</td>\n      <td>0.868130</td>\n      <td>0.883567</td>\n      <td>0.799033</td>\n      <td>0.758680</td>\n      <td>0.958982</td>\n    </tr>\n    <tr>\n      <th>BIIB</th>\n      <td>0.301457</td>\n      <td>0.562645</td>\n      <td>0.095945</td>\n      <td>0.280985</td>\n      <td>0.281582</td>\n      <td>0.430400</td>\n      <td>0.496619</td>\n      <td>0.204948</td>\n      <td>0.307045</td>\n      <td>1.000000</td>\n      <td>...</td>\n      <td>0.433273</td>\n      <td>0.425073</td>\n      <td>0.352118</td>\n      <td>0.032410</td>\n      <td>0.586910</td>\n      <td>0.453452</td>\n      <td>0.365653</td>\n      <td>0.181883</td>\n      <td>0.457321</td>\n      <td>0.338984</td>\n    </tr>\n    <tr>\n      <th>BK</th>\n      <td>0.688102</td>\n      <td>0.768110</td>\n      <td>0.595925</td>\n      <td>0.923270</td>\n      <td>0.957192</td>\n      <td>0.479693</td>\n      <td>0.917170</td>\n      <td>0.028568</td>\n      <td>0.956467</td>\n      <td>0.317210</td>\n      <td>...</td>\n      <td>0.786345</td>\n      <td>0.746677</td>\n      <td>0.933983</td>\n      <td>-0.394327</td>\n      <td>0.874412</td>\n      <td>0.834766</td>\n      <td>0.938619</td>\n      <td>0.803902</td>\n      <td>0.773362</td>\n      <td>0.898468</td>\n    </tr>\n    <tr>\n      <th>BLK</th>\n      <td>0.754165</td>\n      <td>0.841433</td>\n      <td>0.553601</td>\n      <td>0.907881</td>\n      <td>0.862944</td>\n      <td>0.663435</td>\n      <td>0.904831</td>\n      <td>0.018031</td>\n      <td>0.862532</td>\n      <td>0.520495</td>\n      <td>...</td>\n      <td>0.713798</td>\n      <td>0.834092</td>\n      <td>0.880648</td>\n      <td>-0.328314</td>\n      <td>0.953579</td>\n      <td>0.847100</td>\n      <td>0.955488</td>\n      <td>0.735701</td>\n      <td>0.865045</td>\n      <td>0.825220</td>\n    </tr>\n    <tr>\n      <th>BMY</th>\n      <td>0.095259</td>\n      <td>0.532130</td>\n      <td>-0.021817</td>\n      <td>0.042901</td>\n      <td>-0.016953</td>\n      <td>0.279105</td>\n      <td>0.218524</td>\n      <td>0.264507</td>\n      <td>0.050783</td>\n      <td>0.695464</td>\n      <td>...</td>\n      <td>0.082042</td>\n      <td>0.431562</td>\n      <td>0.038297</td>\n      <td>0.410120</td>\n      <td>0.369548</td>\n      <td>0.230178</td>\n      <td>0.241838</td>\n      <td>0.141090</td>\n      <td>0.363147</td>\n      <td>0.167943</td>\n    </tr>\n    <tr>\n      <th>C</th>\n      <td>0.097086</td>\n      <td>0.515975</td>\n      <td>0.313683</td>\n      <td>0.425407</td>\n      <td>0.707063</td>\n      <td>0.072329</td>\n      <td>0.685293</td>\n      <td>0.531200</td>\n      <td>0.781160</td>\n      <td>0.378925</td>\n      <td>...</td>\n      <td>0.765725</td>\n      <td>0.627183</td>\n      <td>0.618164</td>\n      <td>0.226984</td>\n      <td>0.505100</td>\n      <td>0.689705</td>\n      <td>0.582184</td>\n      <td>0.547018</td>\n      <td>0.575465</td>\n      <td>0.855060</td>\n    </tr>\n    <tr>\n      <th>CAT</th>\n      <td>-0.165763</td>\n      <td>0.405446</td>\n      <td>0.241419</td>\n      <td>0.120635</td>\n      <td>0.373864</td>\n      <td>0.027094</td>\n      <td>0.420196</td>\n      <td>0.645757</td>\n      <td>0.529938</td>\n      <td>0.280392</td>\n      <td>...</td>\n      <td>0.565457</td>\n      <td>0.428144</td>\n      <td>0.390204</td>\n      <td>0.518699</td>\n      <td>0.245484</td>\n      <td>0.459055</td>\n      <td>0.349126</td>\n      <td>0.498295</td>\n      <td>0.450852</td>\n      <td>0.624417</td>\n    </tr>\n    <tr>\n      <th>CL</th>\n      <td>-0.250719</td>\n      <td>0.107152</td>\n      <td>-0.571433</td>\n      <td>-0.283107</td>\n      <td>-0.394836</td>\n      <td>0.138755</td>\n      <td>-0.214176</td>\n      <td>0.143970</td>\n      <td>-0.322654</td>\n      <td>0.132248</td>\n      <td>...</td>\n      <td>-0.161498</td>\n      <td>0.028890</td>\n      <td>-0.329852</td>\n      <td>0.353671</td>\n      <td>-0.081912</td>\n      <td>-0.288067</td>\n      <td>-0.053301</td>\n      <td>-0.026225</td>\n      <td>0.263348</td>\n      <td>-0.206176</td>\n    </tr>\n    <tr>\n      <th>CMCSA</th>\n      <td>0.358113</td>\n      <td>0.599224</td>\n      <td>0.390011</td>\n      <td>0.502063</td>\n      <td>0.562984</td>\n      <td>0.359101</td>\n      <td>0.691205</td>\n      <td>0.356343</td>\n      <td>0.552095</td>\n      <td>0.674298</td>\n      <td>...</td>\n      <td>0.493994</td>\n      <td>0.727631</td>\n      <td>0.537710</td>\n      <td>0.168366</td>\n      <td>0.650696</td>\n      <td>0.644259</td>\n      <td>0.571967</td>\n      <td>0.303277</td>\n      <td>0.578174</td>\n      <td>0.636769</td>\n    </tr>\n    <tr>\n      <th>COF</th>\n      <td>0.587453</td>\n      <td>0.788151</td>\n      <td>0.513943</td>\n      <td>0.787562</td>\n      <td>0.873606</td>\n      <td>0.493843</td>\n      <td>0.943227</td>\n      <td>0.173825</td>\n      <td>0.881023</td>\n      <td>0.590495</td>\n      <td>...</td>\n      <td>0.796254</td>\n      <td>0.800131</td>\n      <td>0.843601</td>\n      <td>-0.141553</td>\n      <td>0.887136</td>\n      <td>0.884184</td>\n      <td>0.846448</td>\n      <td>0.605267</td>\n      <td>0.785812</td>\n      <td>0.909527</td>\n    </tr>\n    <tr>\n      <th>COP</th>\n      <td>0.558076</td>\n      <td>0.590836</td>\n      <td>0.505076</td>\n      <td>0.825154</td>\n      <td>0.917902</td>\n      <td>0.412582</td>\n      <td>0.893319</td>\n      <td>0.068718</td>\n      <td>0.921338</td>\n      <td>0.232597</td>\n      <td>...</td>\n      <td>0.856904</td>\n      <td>0.486159</td>\n      <td>0.915750</td>\n      <td>-0.475664</td>\n      <td>0.741466</td>\n      <td>0.776858</td>\n      <td>0.799202</td>\n      <td>0.688138</td>\n      <td>0.641885</td>\n      <td>0.849236</td>\n    </tr>\n    <tr>\n      <th>COST</th>\n      <td>0.878448</td>\n      <td>0.637199</td>\n      <td>0.576776</td>\n      <td>0.943862</td>\n      <td>0.782562</td>\n      <td>0.606605</td>\n      <td>0.732906</td>\n      <td>-0.319593</td>\n      <td>0.697564</td>\n      <td>0.186669</td>\n      <td>...</td>\n      <td>0.454978</td>\n      <td>0.639610</td>\n      <td>0.800464</td>\n      <td>-0.668251</td>\n      <td>0.824774</td>\n      <td>0.661675</td>\n      <td>0.834206</td>\n      <td>0.590145</td>\n      <td>0.627003</td>\n      <td>0.587530</td>\n    </tr>\n    <tr>\n      <th>CSCO</th>\n      <td>0.724615</td>\n      <td>0.756913</td>\n      <td>0.651664</td>\n      <td>0.903145</td>\n      <td>0.893354</td>\n      <td>0.572838</td>\n      <td>0.911055</td>\n      <td>0.094564</td>\n      <td>0.870004</td>\n      <td>0.518825</td>\n      <td>...</td>\n      <td>0.682607</td>\n      <td>0.865562</td>\n      <td>0.874636</td>\n      <td>-0.269764</td>\n      <td>0.917526</td>\n      <td>0.901395</td>\n      <td>0.903439</td>\n      <td>0.629246</td>\n      <td>0.752246</td>\n      <td>0.854111</td>\n    </tr>\n    <tr>\n      <th>CVS</th>\n      <td>0.669760</td>\n      <td>0.815797</td>\n      <td>0.507854</td>\n      <td>0.868211</td>\n      <td>0.886532</td>\n      <td>0.554106</td>\n      <td>0.875217</td>\n      <td>-0.007079</td>\n      <td>0.881700</td>\n      <td>0.390858</td>\n      <td>...</td>\n      <td>0.780658</td>\n      <td>0.748446</td>\n      <td>0.904731</td>\n      <td>-0.362793</td>\n      <td>0.879487</td>\n      <td>0.791476</td>\n      <td>0.932783</td>\n      <td>0.736283</td>\n      <td>0.848738</td>\n      <td>0.825569</td>\n    </tr>\n    <tr>\n      <th>GM</th>\n      <td>0.137479</td>\n      <td>0.479473</td>\n      <td>0.333718</td>\n      <td>0.354361</td>\n      <td>0.526666</td>\n      <td>0.338979</td>\n      <td>0.622374</td>\n      <td>0.485936</td>\n      <td>0.683067</td>\n      <td>0.310320</td>\n      <td>...</td>\n      <td>0.739664</td>\n      <td>0.300034</td>\n      <td>0.649647</td>\n      <td>0.057132</td>\n      <td>0.447848</td>\n      <td>0.644607</td>\n      <td>0.481347</td>\n      <td>0.635383</td>\n      <td>0.492848</td>\n      <td>0.672405</td>\n    </tr>\n    <tr>\n      <th>GOOG</th>\n      <td>0.807271</td>\n      <td>0.765676</td>\n      <td>0.681722</td>\n      <td>0.945137</td>\n      <td>0.904871</td>\n      <td>0.662071</td>\n      <td>0.939106</td>\n      <td>-0.028154</td>\n      <td>0.869391</td>\n      <td>0.482667</td>\n      <td>...</td>\n      <td>0.693862</td>\n      <td>0.784853</td>\n      <td>0.926478</td>\n      <td>-0.421418</td>\n      <td>0.941607</td>\n      <td>0.885460</td>\n      <td>0.900284</td>\n      <td>0.629754</td>\n      <td>0.754677</td>\n      <td>0.820019</td>\n    </tr>\n    <tr>\n      <th>JPM</th>\n      <td>0.486308</td>\n      <td>0.661266</td>\n      <td>0.610490</td>\n      <td>0.766542</td>\n      <td>0.932877</td>\n      <td>0.352018</td>\n      <td>0.898568</td>\n      <td>0.204194</td>\n      <td>0.968945</td>\n      <td>0.339666</td>\n      <td>...</td>\n      <td>0.864295</td>\n      <td>0.660414</td>\n      <td>0.895935</td>\n      <td>-0.199196</td>\n      <td>0.754396</td>\n      <td>0.868781</td>\n      <td>0.802313</td>\n      <td>0.708255</td>\n      <td>0.680037</td>\n      <td>0.950426</td>\n    </tr>\n    <tr>\n      <th>KMI</th>\n      <td>0.313421</td>\n      <td>0.734763</td>\n      <td>0.257203</td>\n      <td>0.589686</td>\n      <td>0.738874</td>\n      <td>0.449334</td>\n      <td>0.867685</td>\n      <td>0.396318</td>\n      <td>0.828288</td>\n      <td>0.572003</td>\n      <td>...</td>\n      <td>0.889775</td>\n      <td>0.652700</td>\n      <td>0.751247</td>\n      <td>0.061978</td>\n      <td>0.753497</td>\n      <td>0.787736</td>\n      <td>0.774117</td>\n      <td>0.660306</td>\n      <td>0.831518</td>\n      <td>0.886193</td>\n    </tr>\n    <tr>\n      <th>KO</th>\n      <td>0.627899</td>\n      <td>0.749836</td>\n      <td>0.369840</td>\n      <td>0.805631</td>\n      <td>0.714128</td>\n      <td>0.583272</td>\n      <td>0.802477</td>\n      <td>0.150036</td>\n      <td>0.693122</td>\n      <td>0.471171</td>\n      <td>...</td>\n      <td>0.544309</td>\n      <td>0.828231</td>\n      <td>0.733932</td>\n      <td>-0.216436</td>\n      <td>0.846717</td>\n      <td>0.690811</td>\n      <td>0.869435</td>\n      <td>0.621765</td>\n      <td>0.821455</td>\n      <td>0.717705</td>\n    </tr>\n    <tr>\n      <th>LLY</th>\n      <td>0.839971</td>\n      <td>0.762576</td>\n      <td>0.679761</td>\n      <td>0.844281</td>\n      <td>0.766987</td>\n      <td>0.576507</td>\n      <td>0.810329</td>\n      <td>-0.200226</td>\n      <td>0.719241</td>\n      <td>0.566035</td>\n      <td>...</td>\n      <td>0.584919</td>\n      <td>0.603955</td>\n      <td>0.828904</td>\n      <td>-0.533356</td>\n      <td>0.889022</td>\n      <td>0.726370</td>\n      <td>0.760470</td>\n      <td>0.556538</td>\n      <td>0.594112</td>\n      <td>0.615510</td>\n    </tr>\n    <tr>\n      <th>LMT</th>\n      <td>-0.114819</td>\n      <td>0.383898</td>\n      <td>-0.185571</td>\n      <td>0.097126</td>\n      <td>0.195876</td>\n      <td>0.259518</td>\n      <td>0.392659</td>\n      <td>0.616818</td>\n      <td>0.325893</td>\n      <td>0.431413</td>\n      <td>...</td>\n      <td>0.412458</td>\n      <td>0.490607</td>\n      <td>0.194349</td>\n      <td>0.519201</td>\n      <td>0.308040</td>\n      <td>0.400389</td>\n      <td>0.361659</td>\n      <td>0.329984</td>\n      <td>0.564922</td>\n      <td>0.499913</td>\n    </tr>\n    <tr>\n      <th>MO</th>\n      <td>0.276929</td>\n      <td>0.478485</td>\n      <td>0.460167</td>\n      <td>0.556499</td>\n      <td>0.699566</td>\n      <td>0.272510</td>\n      <td>0.731727</td>\n      <td>0.485242</td>\n      <td>0.740524</td>\n      <td>0.452384</td>\n      <td>...</td>\n      <td>0.635414</td>\n      <td>0.733978</td>\n      <td>0.633357</td>\n      <td>0.177409</td>\n      <td>0.609606</td>\n      <td>0.803986</td>\n      <td>0.639503</td>\n      <td>0.451699</td>\n      <td>0.569783</td>\n      <td>0.820435</td>\n    </tr>\n    <tr>\n      <th>MON</th>\n      <td>-0.066651</td>\n      <td>-0.273317</td>\n      <td>0.088297</td>\n      <td>0.026109</td>\n      <td>0.113507</td>\n      <td>-0.051544</td>\n      <td>-0.104785</td>\n      <td>0.088134</td>\n      <td>0.234766</td>\n      <td>-0.455797</td>\n      <td>...</td>\n      <td>0.003980</td>\n      <td>-0.085913</td>\n      <td>0.077718</td>\n      <td>-0.022248</td>\n      <td>-0.271584</td>\n      <td>0.135210</td>\n      <td>-0.029880</td>\n      <td>0.221007</td>\n      <td>-0.197291</td>\n      <td>0.259511</td>\n    </tr>\n    <tr>\n      <th>MRK</th>\n      <td>0.612637</td>\n      <td>0.528530</td>\n      <td>0.226932</td>\n      <td>0.670490</td>\n      <td>0.516636</td>\n      <td>0.418729</td>\n      <td>0.491825</td>\n      <td>-0.273380</td>\n      <td>0.493739</td>\n      <td>0.063806</td>\n      <td>...</td>\n      <td>0.360754</td>\n      <td>0.292652</td>\n      <td>0.539453</td>\n      <td>-0.595986</td>\n      <td>0.572471</td>\n      <td>0.349330</td>\n      <td>0.647842</td>\n      <td>0.592387</td>\n      <td>0.464617</td>\n      <td>0.383127</td>\n    </tr>\n    <tr>\n      <th>MS</th>\n      <td>0.751713</td>\n      <td>0.739854</td>\n      <td>0.643887</td>\n      <td>0.907996</td>\n      <td>0.926794</td>\n      <td>0.505529</td>\n      <td>0.920751</td>\n      <td>-0.022623</td>\n      <td>0.874911</td>\n      <td>0.484877</td>\n      <td>...</td>\n      <td>0.712337</td>\n      <td>0.769485</td>\n      <td>0.888796</td>\n      <td>-0.401038</td>\n      <td>0.914027</td>\n      <td>0.858518</td>\n      <td>0.869144</td>\n      <td>0.595649</td>\n      <td>0.697459</td>\n      <td>0.834746</td>\n    </tr>\n    <tr>\n      <th>MSFT</th>\n      <td>0.884035</td>\n      <td>0.705197</td>\n      <td>0.740557</td>\n      <td>0.976573</td>\n      <td>0.864823</td>\n      <td>0.672440</td>\n      <td>0.860251</td>\n      <td>-0.169707</td>\n      <td>0.824649</td>\n      <td>0.321244</td>\n      <td>...</td>\n      <td>0.592219</td>\n      <td>0.678494</td>\n      <td>0.916651</td>\n      <td>-0.589385</td>\n      <td>0.892897</td>\n      <td>0.812189</td>\n      <td>0.877523</td>\n      <td>0.663097</td>\n      <td>0.669295</td>\n      <td>0.722397</td>\n    </tr>\n    <tr>\n      <th>NEE</th>\n      <td>0.827057</td>\n      <td>0.346818</td>\n      <td>0.717030</td>\n      <td>0.682483</td>\n      <td>0.491867</td>\n      <td>0.430349</td>\n      <td>0.343532</td>\n      <td>-0.545130</td>\n      <td>0.389304</td>\n      <td>0.005170</td>\n      <td>...</td>\n      <td>0.080562</td>\n      <td>0.414329</td>\n      <td>0.496508</td>\n      <td>-0.636319</td>\n      <td>0.522941</td>\n      <td>0.433576</td>\n      <td>0.467915</td>\n      <td>0.367104</td>\n      <td>0.163972</td>\n      <td>0.222065</td>\n    </tr>\n    <tr>\n      <th>NKE</th>\n      <td>0.874069</td>\n      <td>0.613475</td>\n      <td>0.600946</td>\n      <td>0.813702</td>\n      <td>0.577279</td>\n      <td>0.565004</td>\n      <td>0.620637</td>\n      <td>-0.333362</td>\n      <td>0.494752</td>\n      <td>0.282836</td>\n      <td>...</td>\n      <td>0.281911</td>\n      <td>0.478232</td>\n      <td>0.638227</td>\n      <td>-0.640249</td>\n      <td>0.777613</td>\n      <td>0.522619</td>\n      <td>0.666995</td>\n      <td>0.469659</td>\n      <td>0.455825</td>\n      <td>0.388251</td>\n    </tr>\n    <tr>\n      <th>ORCL</th>\n      <td>0.777635</td>\n      <td>0.752798</td>\n      <td>0.591495</td>\n      <td>0.948434</td>\n      <td>0.912214</td>\n      <td>0.603717</td>\n      <td>0.947063</td>\n      <td>-0.016997</td>\n      <td>0.887206</td>\n      <td>0.419103</td>\n      <td>...</td>\n      <td>0.709349</td>\n      <td>0.778191</td>\n      <td>0.901692</td>\n      <td>-0.414306</td>\n      <td>0.929640</td>\n      <td>0.863806</td>\n      <td>0.930171</td>\n      <td>0.672144</td>\n      <td>0.776643</td>\n      <td>0.861774</td>\n    </tr>\n    <tr>\n      <th>OXY</th>\n      <td>0.386290</td>\n      <td>0.495161</td>\n      <td>0.474449</td>\n      <td>0.634187</td>\n      <td>0.787502</td>\n      <td>0.343948</td>\n      <td>0.811641</td>\n      <td>0.210766</td>\n      <td>0.844727</td>\n      <td>0.294814</td>\n      <td>...</td>\n      <td>0.875600</td>\n      <td>0.308732</td>\n      <td>0.826391</td>\n      <td>-0.311249</td>\n      <td>0.617917</td>\n      <td>0.719778</td>\n      <td>0.634780</td>\n      <td>0.618418</td>\n      <td>0.535585</td>\n      <td>0.782175</td>\n    </tr>\n    <tr>\n      <th>PEP</th>\n      <td>0.835345</td>\n      <td>0.695487</td>\n      <td>0.459505</td>\n      <td>0.926278</td>\n      <td>0.758247</td>\n      <td>0.642862</td>\n      <td>0.770177</td>\n      <td>-0.197903</td>\n      <td>0.694248</td>\n      <td>0.290858</td>\n      <td>...</td>\n      <td>0.481772</td>\n      <td>0.719834</td>\n      <td>0.763081</td>\n      <td>-0.542641</td>\n      <td>0.871294</td>\n      <td>0.686951</td>\n      <td>0.887291</td>\n      <td>0.613411</td>\n      <td>0.716745</td>\n      <td>0.636699</td>\n    </tr>\n    <tr>\n      <th>PFE</th>\n      <td>0.808185</td>\n      <td>0.712302</td>\n      <td>0.528637</td>\n      <td>0.879909</td>\n      <td>0.738572</td>\n      <td>0.516410</td>\n      <td>0.701635</td>\n      <td>-0.185340</td>\n      <td>0.639316</td>\n      <td>0.299222</td>\n      <td>...</td>\n      <td>0.387574</td>\n      <td>0.750644</td>\n      <td>0.748915</td>\n      <td>-0.496323</td>\n      <td>0.803544</td>\n      <td>0.611003</td>\n      <td>0.814848</td>\n      <td>0.557303</td>\n      <td>0.625097</td>\n      <td>0.562480</td>\n    </tr>\n    <tr>\n      <th>PG</th>\n      <td>0.779873</td>\n      <td>0.595733</td>\n      <td>0.438422</td>\n      <td>0.873950</td>\n      <td>0.686516</td>\n      <td>0.521307</td>\n      <td>0.648051</td>\n      <td>-0.222596</td>\n      <td>0.600370</td>\n      <td>0.182615</td>\n      <td>...</td>\n      <td>0.330112</td>\n      <td>0.723548</td>\n      <td>0.656485</td>\n      <td>-0.502860</td>\n      <td>0.774747</td>\n      <td>0.606377</td>\n      <td>0.810271</td>\n      <td>0.525379</td>\n      <td>0.606681</td>\n      <td>0.554023</td>\n    </tr>\n    <tr>\n      <th>PM</th>\n      <td>0.607952</td>\n      <td>0.733515</td>\n      <td>0.506519</td>\n      <td>0.779278</td>\n      <td>0.796605</td>\n      <td>0.560136</td>\n      <td>0.885551</td>\n      <td>0.171903</td>\n      <td>0.788508</td>\n      <td>0.643902</td>\n      <td>...</td>\n      <td>0.685390</td>\n      <td>0.848682</td>\n      <td>0.771529</td>\n      <td>-0.080978</td>\n      <td>0.876128</td>\n      <td>0.854218</td>\n      <td>0.830452</td>\n      <td>0.501221</td>\n      <td>0.780326</td>\n      <td>0.834265</td>\n    </tr>\n    <tr>\n      <th>PYPL</th>\n      <td>0.222161</td>\n      <td>0.236140</td>\n      <td>0.218075</td>\n      <td>0.102484</td>\n      <td>0.083499</td>\n      <td>0.393595</td>\n      <td>0.298509</td>\n      <td>0.125338</td>\n      <td>0.106035</td>\n      <td>0.662586</td>\n      <td>...</td>\n      <td>0.169640</td>\n      <td>0.289358</td>\n      <td>0.093695</td>\n      <td>0.211503</td>\n      <td>0.368198</td>\n      <td>0.404106</td>\n      <td>0.094919</td>\n      <td>-0.119403</td>\n      <td>0.201911</td>\n      <td>0.206914</td>\n    </tr>\n    <tr>\n      <th>QCOM</th>\n      <td>0.384936</td>\n      <td>0.146564</td>\n      <td>0.102527</td>\n      <td>0.139490</td>\n      <td>-0.153879</td>\n      <td>0.318410</td>\n      <td>-0.155121</td>\n      <td>-0.394206</td>\n      <td>-0.168530</td>\n      <td>-0.153452</td>\n      <td>...</td>\n      <td>-0.278629</td>\n      <td>-0.109083</td>\n      <td>0.044420</td>\n      <td>-0.443713</td>\n      <td>0.061754</td>\n      <td>-0.145099</td>\n      <td>0.031010</td>\n      <td>0.161429</td>\n      <td>-0.051234</td>\n      <td>-0.323627</td>\n    </tr>\n    <tr>\n      <th>SBUX</th>\n      <td>0.615699</td>\n      <td>0.733290</td>\n      <td>0.529113</td>\n      <td>0.730940</td>\n      <td>0.665737</td>\n      <td>0.649561</td>\n      <td>0.825406</td>\n      <td>0.237148</td>\n      <td>0.695143</td>\n      <td>0.528690</td>\n      <td>...</td>\n      <td>0.541641</td>\n      <td>0.806131</td>\n      <td>0.700895</td>\n      <td>-0.014491</td>\n      <td>0.825548</td>\n      <td>0.815778</td>\n      <td>0.782658</td>\n      <td>0.556275</td>\n      <td>0.714801</td>\n      <td>0.763655</td>\n    </tr>\n    <tr>\n      <th>SLB</th>\n      <td>0.278684</td>\n      <td>0.631552</td>\n      <td>0.289304</td>\n      <td>0.587046</td>\n      <td>0.797476</td>\n      <td>0.326677</td>\n      <td>0.831438</td>\n      <td>0.295437</td>\n      <td>0.871160</td>\n      <td>0.433273</td>\n      <td>...</td>\n      <td>1.000000</td>\n      <td>0.470617</td>\n      <td>0.810644</td>\n      <td>-0.161936</td>\n      <td>0.664520</td>\n      <td>0.712728</td>\n      <td>0.711210</td>\n      <td>0.685356</td>\n      <td>0.733955</td>\n      <td>0.850563</td>\n    </tr>\n    <tr>\n      <th>SO</th>\n      <td>0.575481</td>\n      <td>0.690342</td>\n      <td>0.501690</td>\n      <td>0.736482</td>\n      <td>0.732990</td>\n      <td>0.458268</td>\n      <td>0.713226</td>\n      <td>0.117328</td>\n      <td>0.692120</td>\n      <td>0.425073</td>\n      <td>...</td>\n      <td>0.470617</td>\n      <td>1.000000</td>\n      <td>0.658486</td>\n      <td>0.010573</td>\n      <td>0.754898</td>\n      <td>0.734952</td>\n      <td>0.805177</td>\n      <td>0.543751</td>\n      <td>0.715091</td>\n      <td>0.738532</td>\n    </tr>\n    <tr>\n      <th>SPG</th>\n      <td>0.675865</td>\n      <td>0.742411</td>\n      <td>0.651632</td>\n      <td>0.896635</td>\n      <td>0.928886</td>\n      <td>0.560117</td>\n      <td>0.924863</td>\n      <td>0.087042</td>\n      <td>0.941351</td>\n      <td>0.352118</td>\n      <td>...</td>\n      <td>0.810644</td>\n      <td>0.658486</td>\n      <td>1.000000</td>\n      <td>-0.428225</td>\n      <td>0.848540</td>\n      <td>0.846685</td>\n      <td>0.887795</td>\n      <td>0.768506</td>\n      <td>0.752423</td>\n      <td>0.860537</td>\n    </tr>\n    <tr>\n      <th>T</th>\n      <td>-0.619940</td>\n      <td>-0.155989</td>\n      <td>-0.335467</td>\n      <td>-0.543035</td>\n      <td>-0.380366</td>\n      <td>-0.307654</td>\n      <td>-0.293261</td>\n      <td>0.507893</td>\n      <td>-0.270875</td>\n      <td>0.032410</td>\n      <td>...</td>\n      <td>-0.161936</td>\n      <td>0.010573</td>\n      <td>-0.428225</td>\n      <td>1.000000</td>\n      <td>-0.392677</td>\n      <td>-0.207699</td>\n      <td>-0.308278</td>\n      <td>-0.210168</td>\n      <td>-0.082868</td>\n      <td>-0.067999</td>\n    </tr>\n    <tr>\n      <th>TGT</th>\n      <td>0.799600</td>\n      <td>0.825548</td>\n      <td>0.566345</td>\n      <td>0.896136</td>\n      <td>0.801239</td>\n      <td>0.702175</td>\n      <td>0.910207</td>\n      <td>-0.041560</td>\n      <td>0.795095</td>\n      <td>0.586910</td>\n      <td>...</td>\n      <td>0.664520</td>\n      <td>0.754898</td>\n      <td>0.848540</td>\n      <td>-0.392677</td>\n      <td>1.000000</td>\n      <td>0.849468</td>\n      <td>0.907079</td>\n      <td>0.655305</td>\n      <td>0.799374</td>\n      <td>0.762073</td>\n    </tr>\n    <tr>\n      <th>TXN</th>\n      <td>0.630674</td>\n      <td>0.636738</td>\n      <td>0.624754</td>\n      <td>0.815421</td>\n      <td>0.837272</td>\n      <td>0.580967</td>\n      <td>0.889941</td>\n      <td>0.196403</td>\n      <td>0.868130</td>\n      <td>0.453452</td>\n      <td>...</td>\n      <td>0.712728</td>\n      <td>0.734952</td>\n      <td>0.846685</td>\n      <td>-0.207699</td>\n      <td>0.849468</td>\n      <td>1.000000</td>\n      <td>0.811569</td>\n      <td>0.612351</td>\n      <td>0.671845</td>\n      <td>0.868050</td>\n    </tr>\n    <tr>\n      <th>UNH</th>\n      <td>0.703270</td>\n      <td>0.820446</td>\n      <td>0.543077</td>\n      <td>0.917413</td>\n      <td>0.870127</td>\n      <td>0.612062</td>\n      <td>0.902144</td>\n      <td>0.028462</td>\n      <td>0.883567</td>\n      <td>0.365653</td>\n      <td>...</td>\n      <td>0.711210</td>\n      <td>0.805177</td>\n      <td>0.887795</td>\n      <td>-0.308278</td>\n      <td>0.907079</td>\n      <td>0.811569</td>\n      <td>1.000000</td>\n      <td>0.794808</td>\n      <td>0.872393</td>\n      <td>0.856503</td>\n    </tr>\n    <tr>\n      <th>UNP</th>\n      <td>0.446045</td>\n      <td>0.725604</td>\n      <td>0.458720</td>\n      <td>0.672664</td>\n      <td>0.689875</td>\n      <td>0.422127</td>\n      <td>0.692615</td>\n      <td>0.177976</td>\n      <td>0.799033</td>\n      <td>0.181883</td>\n      <td>...</td>\n      <td>0.685356</td>\n      <td>0.543751</td>\n      <td>0.768506</td>\n      <td>-0.210168</td>\n      <td>0.655305</td>\n      <td>0.612351</td>\n      <td>0.794808</td>\n      <td>1.000000</td>\n      <td>0.717205</td>\n      <td>0.727929</td>\n    </tr>\n    <tr>\n      <th>UPS</th>\n      <td>0.497475</td>\n      <td>0.816459</td>\n      <td>0.305133</td>\n      <td>0.699038</td>\n      <td>0.692909</td>\n      <td>0.635151</td>\n      <td>0.809593</td>\n      <td>0.133089</td>\n      <td>0.758680</td>\n      <td>0.457321</td>\n      <td>...</td>\n      <td>0.733955</td>\n      <td>0.715091</td>\n      <td>0.752423</td>\n      <td>-0.082868</td>\n      <td>0.799374</td>\n      <td>0.671845</td>\n      <td>0.872393</td>\n      <td>0.717205</td>\n      <td>1.000000</td>\n      <td>0.779252</td>\n    </tr>\n    <tr>\n      <th>USB</th>\n      <td>0.437071</td>\n      <td>0.688787</td>\n      <td>0.481350</td>\n      <td>0.761137</td>\n      <td>0.903536</td>\n      <td>0.393448</td>\n      <td>0.913931</td>\n      <td>0.304110</td>\n      <td>0.958982</td>\n      <td>0.338984</td>\n      <td>...</td>\n      <td>0.850563</td>\n      <td>0.738532</td>\n      <td>0.860537</td>\n      <td>-0.067999</td>\n      <td>0.762073</td>\n      <td>0.868050</td>\n      <td>0.856503</td>\n      <td>0.727929</td>\n      <td>0.779252</td>\n      <td>1.000000</td>\n    </tr>\n  </tbody>\n</table>\n<p>55 rows × 55 columns</p>\n</div>"
     },
     "execution_count": 12,
     "metadata": {},
     "output_type": "execute_result"
    }
   ],
   "source": [
    "#creating a correlation dataframe\n",
    "corr_df = prices.corr()\n",
    "corr_df"
   ]
  },
  {
   "cell_type": "markdown",
   "source": [
    "In the next cells, we use correlation to calculate stocks that trade in the same direction as the stock with the highest STD, in order to create a portfolio where all the stocks are strongly positively correlated with each other. In our original code, we instead compiled a list of stocks in the same industry to achieve the opposite affect of inter-industry diversification. However, we then realized that it would make more sense to choose a basket stocks that are strongly positively correlated with each other, since it would acheive the same effect as an intra-industry portfolio, but would give us a larger variety of risky stocks to choose from so we can choose the riskiest of stocks."
   ],
   "metadata": {
    "collapsed": false,
    "pycharm": {
     "name": "#%% md\n"
    }
   }
  },
  {
   "cell_type": "code",
   "execution_count": 13,
   "metadata": {},
   "outputs": [
    {
     "data": {
      "text/plain": "{'positive': ['AAPL',\n  'ABBV',\n  'ABT',\n  'ACN',\n  'AIG',\n  'AMZN',\n  'AXP',\n  'BA',\n  'BAC',\n  'BIIB',\n  'BK',\n  'BLK',\n  'C',\n  'CAT',\n  'CMCSA',\n  'COF',\n  'COP',\n  'COST',\n  'CSCO',\n  'CVS',\n  'GM',\n  'GOOG',\n  'JPM',\n  'KMI',\n  'KO',\n  'LLY',\n  'LMT',\n  'MO',\n  'MON',\n  'MRK',\n  'MS',\n  'MSFT',\n  'NEE',\n  'NKE',\n  'ORCL',\n  'OXY',\n  'PEP',\n  'PFE',\n  'PG',\n  'PM',\n  'PYPL',\n  'SBUX',\n  'SLB',\n  'SO',\n  'SPG',\n  'TGT',\n  'TXN',\n  'UNH',\n  'UNP',\n  'UPS',\n  'USB'],\n 'negative': ['BMY', 'CL', 'QCOM', 'T']}"
     },
     "execution_count": 13,
     "metadata": {},
     "output_type": "execute_result"
    }
   ],
   "source": [
    "def lister(corr, highest_std):\n",
    "    \"\"\"\n",
    "    Creates a dict of stocks that are either positively or negatively correlated with the highest std stock\n",
    "    :param corr: Correlation matrix of all stocks\n",
    "    :param highest_std: Ticker of stock with the highest\n",
    "    :return:\n",
    "    \"\"\"\n",
    "    list1 = []\n",
    "    list2 = []\n",
    "    columns = corr.columns\n",
    "    for i in range(len(corr.index)):\n",
    "        c = corr[highest_std].iloc[i]\n",
    "        tick = columns[i]\n",
    "        if c > 0:\n",
    "            list1.append(tick)\n",
    "        elif c < 0:\n",
    "            list2.append(tick)\n",
    "    dic = {\"positive\": list1, \"negative\": list2}\n",
    "    return dic\n",
    "\n",
    "\n",
    "#creates dictionary cor_list which calls the function lister\n",
    "# contains two lists which are positive correlating and negative correlating with the inputed stock\n",
    "cor_list = lister(corr_df, get_highest_std(slst))\n",
    "cor_list"
   ]
  },
  {
   "cell_type": "markdown",
   "source": [
    "We then sort the both baskets of positively and negatively correlated stocks by their STDs in descending order so we can choose stocks that have the highest STD and are also strongly positively correlated with our keystone stock - the stock that has the highest std and weighting in our final portfolio."
   ],
   "metadata": {
    "collapsed": false,
    "pycharm": {
     "name": "#%% md\n"
    }
   }
  },
  {
   "cell_type": "code",
   "execution_count": 14,
   "metadata": {},
   "outputs": [
    {
     "data": {
      "text/plain": "['OXY',\n 'BIIB',\n 'SLB',\n 'COP',\n 'GM',\n 'PYPL',\n 'BA',\n 'SPG',\n 'COF',\n 'LLY',\n 'AIG',\n 'NKE',\n 'C',\n 'MS',\n 'TXN',\n 'USB',\n 'AXP',\n 'BAC',\n 'CAT',\n 'BK',\n 'KMI',\n 'AAPL',\n 'UPS',\n 'PFE',\n 'AMZN',\n 'GOOG',\n 'CMCSA',\n 'ORCL',\n 'MRK',\n 'TGT',\n 'SBUX',\n 'BLK',\n 'NEE',\n 'JPM',\n 'MO',\n 'CVS',\n 'ABT',\n 'UNP',\n 'ABBV',\n 'LMT',\n 'MSFT',\n 'UNH',\n 'ACN',\n 'CSCO',\n 'PM',\n 'COST',\n 'SO',\n 'KO',\n 'PEP',\n 'PG',\n 'MON']"
     },
     "execution_count": 14,
     "metadata": {},
     "output_type": "execute_result"
    }
   ],
   "source": [
    "def quicksort(tick_lst, std_list):\n",
    "    \"\"\"\n",
    "    Implementation of quicksort to sort a list of tickers based on their std\n",
    "    :param tick_lst: Ticker list\n",
    "    :param std_list: List of respective STDs of the tickers.\n",
    "    :return: Sorted list of tickers\n",
    "    \"\"\"\n",
    "    sequence = tick_lst\n",
    "    length = len(sequence)\n",
    "    if length <= 1:\n",
    "        return sequence\n",
    "    else:\n",
    "        pivot = sequence.pop()\n",
    "\n",
    "    items_greater = []\n",
    "    items_lower = []\n",
    "\n",
    "    for item in sequence:\n",
    "        i = std_list[item]\n",
    "        pivoter = std_list[pivot]\n",
    "        if i < pivoter:\n",
    "            items_lower.append(item)\n",
    "        else:\n",
    "            items_greater.append(item)\n",
    "\n",
    "    return quicksort(items_greater, slst) + [pivot] + quicksort(items_lower, slst)\n",
    "\n",
    "\n",
    "positive = quicksort(cor_list[\"positive\"], slst)\n",
    "negative = (quicksort(cor_list[\"negative\"], slst))\n",
    "\n",
    "positive"
   ]
  },
  {
   "cell_type": "markdown",
   "source": [
    "We also have a function to ensure that our code doesn't acheive the opposite of a risky portfolio - in the case that there is less than 10 stocks that are positively correlated with the stock with the highest STD, it might choose stocks that are negatively correlated and create a balanced portfolio. To overcome this, we make sure that the STD of the basket of stocks WITH the highest correlation is higher than the STD of the basket of stocks that are strongly negatively correlated against the stock with the highest STD. In the case that this is false, then our portfolio becomes the stocks with the strongly negatively correlated stocks. In either case, this ensures that our portfolio will have the highest STD possible, and all the stocks in the portfolio trade in the same direction."
   ],
   "metadata": {
    "collapsed": false,
    "pycharm": {
     "name": "#%% md\n"
    }
   }
  },
  {
   "cell_type": "code",
   "execution_count": 15,
   "metadata": {},
   "outputs": [
    {
     "data": {
      "text/plain": "{'list': ['OXY',\n  'BIIB',\n  'SLB',\n  'COP',\n  'GM',\n  'PYPL',\n  'BA',\n  'SPG',\n  'COF',\n  'LLY'],\n 'mean': 0.02446219897854984,\n 'oppo': ['QCOM', 'BMY', 'T', 'CL']}"
     },
     "execution_count": 15,
     "metadata": {},
     "output_type": "execute_result"
    }
   ],
   "source": [
    "def meanstd(lst, count, std_list, sum, lst_tick):\n",
    "    \"\"\"\n",
    "    Recursively calculates the average STD of the top 10 stocks in each list of positive and negative correlated stocks.\n",
    "    :param lst: List of tickers\n",
    "    :param count: Iterative counter\n",
    "    :param std_list: Ticker's stds\n",
    "    :param sum: Sum of the STD\n",
    "    :param lst_tick: Second list of tickers\n",
    "    :return: Average STD of stocks in a list\n",
    "    \"\"\"\n",
    "    if 0 == len(lst):\n",
    "        return {\"list\": lst_tick, \"mean\": (sum / count)}\n",
    "    elif 10 == count:\n",
    "        return {\"list\": lst_tick, \"mean\": (sum / 10)}\n",
    "    else:\n",
    "        sum = sum + std_list[lst[0]]\n",
    "        lst_tick.append(lst[0])\n",
    "        return meanstd(lst[1:], (count + 1), std_list, sum, lst_tick)\n",
    "\n",
    "\n",
    "pm = meanstd(positive, 0, slst, 0, [])\n",
    "nm = meanstd(negative, 0, slst, 0, [])\n",
    "\n",
    "\n",
    "def hstd(p, n):\n",
    "    \"\"\"\n",
    "    Gets the higher average std of the positively and negatively correlated stocks\n",
    "    :param p: Positively correlated stock std\n",
    "    :param n: Negatively correlated stock std\n",
    "    :return: Higher average STD\n",
    "    \"\"\"\n",
    "    if p[\"mean\"] > n[\"mean\"] and len(p[\"list\"]) >= 7:\n",
    "        p[\"oppo\"] = negative\n",
    "        return p\n",
    "    elif n[\"mean\"] > p[\"mean\"] and len(n[\"list\"]) >= 7:\n",
    "        n[\"oppo\"] = positive\n",
    "        return n\n",
    "\n",
    "\n",
    "port_list = hstd(pm, nm)\n",
    "port_list"
   ]
  },
  {
   "cell_type": "markdown",
   "source": [
    "In the case that the list of tickers given to us is less than 20 (such as 6 positively correlated stocks and 5 negatively correlated stocks), our portfolio appends the negatively correlated stocks with the lowest STD to our positively correlated portfolio. This ensures that our portfolio has at least 10 stocks and the negatively correlated stocks do not affect our portfolio performance as much."
   ],
   "metadata": {
    "collapsed": false,
    "pycharm": {
     "name": "#%% md\n"
    }
   }
  },
  {
   "cell_type": "code",
   "execution_count": 16,
   "metadata": {},
   "outputs": [
    {
     "data": {
      "text/plain": "['OXY', 'BIIB', 'SLB', 'COP', 'GM', 'PYPL', 'BA', 'SPG', 'COF', 'LLY']"
     },
     "execution_count": 16,
     "metadata": {},
     "output_type": "execute_result"
    }
   ],
   "source": [
    "def portlength(port):\n",
    "    \"\"\"\n",
    "    Appends weakly negatively correlated stocks to our portfolio if there aren't enough positively correlated stocks in our portfolio.\n",
    "    :param port: Portfolio tickers\n",
    "    :return: New portfolio\n",
    "    \"\"\"\n",
    "    if len(port[\"list\"]) == 10:\n",
    "        return port[\"list\"]\n",
    "    else:\n",
    "        for i in range(1, 10 - len(port)):\n",
    "            if i == 10:\n",
    "                return port[\"list\"]\n",
    "            port[\"list\"].append(port[\"oppo\"][-1 * i])\n",
    "\n",
    "\n",
    "finalport_lst = portlength(port_list)\n",
    "finalport_lst"
   ]
  },
  {
   "cell_type": "code",
   "execution_count": 17,
   "metadata": {},
   "outputs": [],
   "source": [
    "lstofstocks = finalport_lst"
   ]
  },
  {
   "cell_type": "markdown",
   "source": [
    "Finally, we set our weights in this cell and backtest our portfolio over 2021-11-01 to 2021-11-26. For our weightings, we made them\n",
    "\n",
    "35% 25% 5% 5% 5% 5% 5% 5% 5% 5%\n",
    "\n",
    "Where the stock with the highest STD in our portfolio is weighted at 35% and the stock with the lowest STD is weighted at 5%. This ensures that overall, our portfolio has the highest STD as allowed by the requirements of the assignment (limited by the weightings), by giving the highest weighting to the riskiest stock. That way, a volatile move by the stock with the highest std will affect our portfolio the most."
   ],
   "metadata": {
    "collapsed": false,
    "pycharm": {
     "name": "#%% md\n"
    }
   }
  },
  {
   "cell_type": "code",
   "execution_count": 18,
   "outputs": [],
   "source": [
    "# Using the 35% distribution\n",
    "\n",
    "startdate = '2021-11-01'\n",
    "enddate = '2021-11-26'\n",
    "\n",
    "#Determine number of shares bought for each stocks under 35% weighted profolio ($100,000)\n",
    "# Assuming that the stocks i the list are given in increasing order\n",
    "NumOfShares = []  # number of shares will be printed in the list according to the corrosponding order\n",
    "\n",
    "\n",
    "# Loopsahre function takes a list the starting date and the ending date, and produces the number of shares for each stocks in the list given\n",
    "# Since the stocks given in the list is already sorted in decreasing order of standard deviation, we con proceed to apply the\n",
    "# 35% percent distribution method (explained in the report)\n",
    "def loopshare(lst, date_start, date_end):\n",
    "    for i in range(len(lst)):\n",
    "        if (i < 1):\n",
    "            NumOfShares.append(35000 / ((yf.Ticker(lst[i]).history(start=date_start, end=date_end)).iloc[0, 3]))\n",
    "        elif (i < 2):\n",
    "            NumOfShares.append(25000 / ((yf.Ticker(lst[i]).history(start=date_start, end=date_end)).iloc[0, 3]))\n",
    "        else:\n",
    "            NumOfShares.append(5000 / ((yf.Ticker(lst[i]).history(start=date_start, end=date_end)).iloc[0, 3]))\n",
    "    return NumOfShares\n",
    "\n",
    "\n",
    "loopshare(lstofstocks, startdate, enddate)\n",
    "\n",
    "listOfClose = []  #list of dataframe\n",
    "\n",
    "\n",
    "#Extracting the closed data\n",
    "\n",
    "# Funcation loopClose takes a lst of tickers, start date, and a end date, and produces a list of closing price of each stocks in the list date\n",
    "# Withtin the start and end date\n",
    "def loopClose(lst, start_date, end_date):\n",
    "    for i in range(len(lst)):\n",
    "        listOfClose.append(pd.DataFrame((yf.Ticker(lst[i]).history(start=start_date, end=end_date))['Close']))\n",
    "\n",
    "\n",
    "loopClose(lstofstocks, startdate, enddate)\n",
    "\n",
    "#Setting up a list before adding it to the dataframe\n",
    "listBefore = []\n",
    "\n",
    "\n",
    "#Function loopCloseBefore, creates a list of closing prices of tickers that is ready to be put into a dataframe\n",
    "def loopCloseBefore(lst):\n",
    "    for i in range(len(lst)):\n",
    "        if (i == 0):\n",
    "            listBefore.append(lst[i])\n",
    "        else:\n",
    "            listBefore.append(lst[i]['Close'])\n",
    "\n",
    "\n",
    "loopCloseBefore(listOfClose)\n",
    "\n",
    "#Create the dataframe for tracking the portfolio\n",
    "\n",
    "#concating all the list of closign prices of stocks\n",
    "finalPortfolio = pd.concat(listBefore, join='inner', axis=1)\n",
    "\n",
    "#Renaming the column names to the corrosponding stocks\n",
    "finalPortfolio.columns = lstofstocks\n",
    "\n",
    "#Adding portfolio\n",
    "\n",
    "#Adding the column portfolio\n",
    "finalPortfolio['portfolio'] = finalPortfolio[str(finalPortfolio.columns[0])] * NumOfShares[0] + finalPortfolio[\n",
    "    str(finalPortfolio.columns[1])] * NumOfShares[1] + finalPortfolio[str(finalPortfolio.columns[2])] * NumOfShares[2] + \\\n",
    "                              finalPortfolio[str(finalPortfolio.columns[3])] * NumOfShares[3] + finalPortfolio[\n",
    "                                  str(finalPortfolio.columns[4])] * NumOfShares[4] + finalPortfolio[\n",
    "                                  str(finalPortfolio.columns[5])] * NumOfShares[5] + finalPortfolio[\n",
    "                                  str(finalPortfolio.columns[6])] * NumOfShares[6] + finalPortfolio[\n",
    "                                  str(finalPortfolio.columns[7])] * NumOfShares[7] + finalPortfolio[\n",
    "                                  str(finalPortfolio.columns[8])] * NumOfShares[8] + finalPortfolio[\n",
    "                                  str(finalPortfolio.columns[9])] * NumOfShares[9]"
   ],
   "metadata": {
    "collapsed": false,
    "pycharm": {
     "name": "#%%\n"
    }
   }
  },
  {
   "cell_type": "markdown",
   "source": [
    "As seen below, over the course of 1 month from 2021-11-01 to 2021-11-26, our portfolio fell 5%. At the lowest, it fell nearly 8%. The backtesting of our portfolio on historical data reveals that it is very risky as desired."
   ],
   "metadata": {
    "collapsed": false,
    "pycharm": {
     "name": "#%% md\n"
    }
   }
  },
  {
   "cell_type": "code",
   "execution_count": 19,
   "outputs": [
    {
     "data": {
      "text/plain": "                  OXY        BIIB        SLB        COP         GM  \\\nDate                                                                 \n2021-11-01  34.810001  272.100006  33.299999  74.589996  55.490002   \n2021-11-02  34.360001  272.510010  33.200001  73.029999  55.590000   \n2021-11-03  33.849998  279.589996  32.980000  72.739998  56.000000   \n2021-11-04  33.750000  280.410004  33.150002  73.309998  58.639999   \n2021-11-05  33.419998  278.679993  33.509998  75.449997  58.520000   \n2021-11-08  34.290001  272.700012  34.299999  75.930000  59.599998   \n2021-11-09  33.740002  270.029999  34.139999  75.750000  58.619999   \n2021-11-10  31.820000  266.929993  32.730000  73.000000  59.270000   \n2021-11-11  32.119999  266.570007  32.779999  72.139999  61.820000   \n2021-11-12  32.080002  270.429993  32.759998  72.360001  63.400002   \n2021-11-15  31.980000  271.820007  32.720001  72.720001  62.970001   \n2021-11-16  31.840000  261.549988  32.889999  72.639999  62.610001   \n2021-11-17  30.760000  258.380005  32.060001  71.970001  64.610001   \n2021-11-18  30.639999  256.790009  31.860001  72.720001  62.330002   \n2021-11-19  29.120001  257.190002  30.049999  69.610001  61.799999   \n2021-11-22  30.010000  252.210007  30.340000  71.889999  64.059998   \n2021-11-23  31.920000  254.149994  31.180000  73.779999  63.049999   \n2021-11-24  32.009998  250.130005  31.410000  74.830002  62.189999   \n\n                  PYPL          BA         SPG         COF         LLY  \\\nDate                                                                     \n2021-11-01  231.279999  214.580002  149.360001  152.425797  248.503113   \n2021-11-02  229.460007  212.770004  158.990005  151.330002  256.018707   \n2021-11-03  230.380005  213.380005  166.240005  153.312393  265.398254   \n2021-11-04  228.220001  213.029999  165.710007  152.874084  270.122925   \n2021-11-05  225.779999  224.460007  170.500000  154.278702  264.142334   \n2021-11-08  229.419998  222.679993  167.389999  154.926224  259.686798   \n2021-11-09  205.419998  220.789993  167.490005  154.826599  261.171967   \n2021-11-10  204.639999  218.500000  163.970001  155.683319  263.793457   \n2021-11-11  202.029999  219.380005  165.440002  156.549988  261.779999   \n2021-11-12  208.300003  220.960007  164.800003  156.800003  259.649994   \n2021-11-15  212.539993  233.089996  166.289993  156.360001  258.429993   \n2021-11-16  215.669998  225.800003  164.869995  153.820007  257.720001   \n2021-11-17  206.270004  226.619995  167.490005  151.949997  261.179993   \n2021-11-18  200.500000  227.250000  169.380005  152.990005  261.329987   \n2021-11-19  193.610001  214.130005  166.740005  151.320007  260.700012   \n2021-11-22  189.479996  209.899994  167.990005  153.210007  260.440002   \n2021-11-23  188.050003  209.130005  169.029999  156.289993  261.959991   \n2021-11-24  188.710007  210.600006  169.029999  155.860001  262.000000   \n\n                portfolio  \nDate                       \n2021-11-01  100000.000000  \n2021-11-02   99830.763905  \n2021-11-03  100483.497975  \n2021-11-04  100767.999797  \n2021-11-05  100763.616773  \n2021-11-08  101201.747082  \n2021-11-09   99746.107295  \n2021-11-10   97086.109490  \n2021-11-11   97535.509001  \n2021-11-12   98120.339719  \n2021-11-15   98512.091314  \n2021-11-16   97168.123221  \n2021-11-17   95713.526151  \n2021-11-18   95251.929463  \n2021-11-19   92621.883404  \n2021-11-22   93369.968166  \n2021-11-23   95748.020372  \n2021-11-24   95531.810801  ",
      "text/html": "<div>\n<style scoped>\n    .dataframe tbody tr th:only-of-type {\n        vertical-align: middle;\n    }\n\n    .dataframe tbody tr th {\n        vertical-align: top;\n    }\n\n    .dataframe thead th {\n        text-align: right;\n    }\n</style>\n<table border=\"1\" class=\"dataframe\">\n  <thead>\n    <tr style=\"text-align: right;\">\n      <th></th>\n      <th>OXY</th>\n      <th>BIIB</th>\n      <th>SLB</th>\n      <th>COP</th>\n      <th>GM</th>\n      <th>PYPL</th>\n      <th>BA</th>\n      <th>SPG</th>\n      <th>COF</th>\n      <th>LLY</th>\n      <th>portfolio</th>\n    </tr>\n    <tr>\n      <th>Date</th>\n      <th></th>\n      <th></th>\n      <th></th>\n      <th></th>\n      <th></th>\n      <th></th>\n      <th></th>\n      <th></th>\n      <th></th>\n      <th></th>\n      <th></th>\n    </tr>\n  </thead>\n  <tbody>\n    <tr>\n      <th>2021-11-01</th>\n      <td>34.810001</td>\n      <td>272.100006</td>\n      <td>33.299999</td>\n      <td>74.589996</td>\n      <td>55.490002</td>\n      <td>231.279999</td>\n      <td>214.580002</td>\n      <td>149.360001</td>\n      <td>152.425797</td>\n      <td>248.503113</td>\n      <td>100000.000000</td>\n    </tr>\n    <tr>\n      <th>2021-11-02</th>\n      <td>34.360001</td>\n      <td>272.510010</td>\n      <td>33.200001</td>\n      <td>73.029999</td>\n      <td>55.590000</td>\n      <td>229.460007</td>\n      <td>212.770004</td>\n      <td>158.990005</td>\n      <td>151.330002</td>\n      <td>256.018707</td>\n      <td>99830.763905</td>\n    </tr>\n    <tr>\n      <th>2021-11-03</th>\n      <td>33.849998</td>\n      <td>279.589996</td>\n      <td>32.980000</td>\n      <td>72.739998</td>\n      <td>56.000000</td>\n      <td>230.380005</td>\n      <td>213.380005</td>\n      <td>166.240005</td>\n      <td>153.312393</td>\n      <td>265.398254</td>\n      <td>100483.497975</td>\n    </tr>\n    <tr>\n      <th>2021-11-04</th>\n      <td>33.750000</td>\n      <td>280.410004</td>\n      <td>33.150002</td>\n      <td>73.309998</td>\n      <td>58.639999</td>\n      <td>228.220001</td>\n      <td>213.029999</td>\n      <td>165.710007</td>\n      <td>152.874084</td>\n      <td>270.122925</td>\n      <td>100767.999797</td>\n    </tr>\n    <tr>\n      <th>2021-11-05</th>\n      <td>33.419998</td>\n      <td>278.679993</td>\n      <td>33.509998</td>\n      <td>75.449997</td>\n      <td>58.520000</td>\n      <td>225.779999</td>\n      <td>224.460007</td>\n      <td>170.500000</td>\n      <td>154.278702</td>\n      <td>264.142334</td>\n      <td>100763.616773</td>\n    </tr>\n    <tr>\n      <th>2021-11-08</th>\n      <td>34.290001</td>\n      <td>272.700012</td>\n      <td>34.299999</td>\n      <td>75.930000</td>\n      <td>59.599998</td>\n      <td>229.419998</td>\n      <td>222.679993</td>\n      <td>167.389999</td>\n      <td>154.926224</td>\n      <td>259.686798</td>\n      <td>101201.747082</td>\n    </tr>\n    <tr>\n      <th>2021-11-09</th>\n      <td>33.740002</td>\n      <td>270.029999</td>\n      <td>34.139999</td>\n      <td>75.750000</td>\n      <td>58.619999</td>\n      <td>205.419998</td>\n      <td>220.789993</td>\n      <td>167.490005</td>\n      <td>154.826599</td>\n      <td>261.171967</td>\n      <td>99746.107295</td>\n    </tr>\n    <tr>\n      <th>2021-11-10</th>\n      <td>31.820000</td>\n      <td>266.929993</td>\n      <td>32.730000</td>\n      <td>73.000000</td>\n      <td>59.270000</td>\n      <td>204.639999</td>\n      <td>218.500000</td>\n      <td>163.970001</td>\n      <td>155.683319</td>\n      <td>263.793457</td>\n      <td>97086.109490</td>\n    </tr>\n    <tr>\n      <th>2021-11-11</th>\n      <td>32.119999</td>\n      <td>266.570007</td>\n      <td>32.779999</td>\n      <td>72.139999</td>\n      <td>61.820000</td>\n      <td>202.029999</td>\n      <td>219.380005</td>\n      <td>165.440002</td>\n      <td>156.549988</td>\n      <td>261.779999</td>\n      <td>97535.509001</td>\n    </tr>\n    <tr>\n      <th>2021-11-12</th>\n      <td>32.080002</td>\n      <td>270.429993</td>\n      <td>32.759998</td>\n      <td>72.360001</td>\n      <td>63.400002</td>\n      <td>208.300003</td>\n      <td>220.960007</td>\n      <td>164.800003</td>\n      <td>156.800003</td>\n      <td>259.649994</td>\n      <td>98120.339719</td>\n    </tr>\n    <tr>\n      <th>2021-11-15</th>\n      <td>31.980000</td>\n      <td>271.820007</td>\n      <td>32.720001</td>\n      <td>72.720001</td>\n      <td>62.970001</td>\n      <td>212.539993</td>\n      <td>233.089996</td>\n      <td>166.289993</td>\n      <td>156.360001</td>\n      <td>258.429993</td>\n      <td>98512.091314</td>\n    </tr>\n    <tr>\n      <th>2021-11-16</th>\n      <td>31.840000</td>\n      <td>261.549988</td>\n      <td>32.889999</td>\n      <td>72.639999</td>\n      <td>62.610001</td>\n      <td>215.669998</td>\n      <td>225.800003</td>\n      <td>164.869995</td>\n      <td>153.820007</td>\n      <td>257.720001</td>\n      <td>97168.123221</td>\n    </tr>\n    <tr>\n      <th>2021-11-17</th>\n      <td>30.760000</td>\n      <td>258.380005</td>\n      <td>32.060001</td>\n      <td>71.970001</td>\n      <td>64.610001</td>\n      <td>206.270004</td>\n      <td>226.619995</td>\n      <td>167.490005</td>\n      <td>151.949997</td>\n      <td>261.179993</td>\n      <td>95713.526151</td>\n    </tr>\n    <tr>\n      <th>2021-11-18</th>\n      <td>30.639999</td>\n      <td>256.790009</td>\n      <td>31.860001</td>\n      <td>72.720001</td>\n      <td>62.330002</td>\n      <td>200.500000</td>\n      <td>227.250000</td>\n      <td>169.380005</td>\n      <td>152.990005</td>\n      <td>261.329987</td>\n      <td>95251.929463</td>\n    </tr>\n    <tr>\n      <th>2021-11-19</th>\n      <td>29.120001</td>\n      <td>257.190002</td>\n      <td>30.049999</td>\n      <td>69.610001</td>\n      <td>61.799999</td>\n      <td>193.610001</td>\n      <td>214.130005</td>\n      <td>166.740005</td>\n      <td>151.320007</td>\n      <td>260.700012</td>\n      <td>92621.883404</td>\n    </tr>\n    <tr>\n      <th>2021-11-22</th>\n      <td>30.010000</td>\n      <td>252.210007</td>\n      <td>30.340000</td>\n      <td>71.889999</td>\n      <td>64.059998</td>\n      <td>189.479996</td>\n      <td>209.899994</td>\n      <td>167.990005</td>\n      <td>153.210007</td>\n      <td>260.440002</td>\n      <td>93369.968166</td>\n    </tr>\n    <tr>\n      <th>2021-11-23</th>\n      <td>31.920000</td>\n      <td>254.149994</td>\n      <td>31.180000</td>\n      <td>73.779999</td>\n      <td>63.049999</td>\n      <td>188.050003</td>\n      <td>209.130005</td>\n      <td>169.029999</td>\n      <td>156.289993</td>\n      <td>261.959991</td>\n      <td>95748.020372</td>\n    </tr>\n    <tr>\n      <th>2021-11-24</th>\n      <td>32.009998</td>\n      <td>250.130005</td>\n      <td>31.410000</td>\n      <td>74.830002</td>\n      <td>62.189999</td>\n      <td>188.710007</td>\n      <td>210.600006</td>\n      <td>169.029999</td>\n      <td>155.860001</td>\n      <td>262.000000</td>\n      <td>95531.810801</td>\n    </tr>\n  </tbody>\n</table>\n</div>"
     },
     "execution_count": 19,
     "metadata": {},
     "output_type": "execute_result"
    }
   ],
   "source": [
    "finalPortfolio"
   ],
   "metadata": {
    "collapsed": false,
    "pycharm": {
     "name": "#%%\n"
    }
   }
  },
  {
   "cell_type": "code",
   "execution_count": 20,
   "outputs": [
    {
     "data": {
      "text/plain": "  Ticker      Prices       Shares   Values  Weight\n0    OXY   32.009998  1093.408367  35000.0    35.0\n1   BIIB  250.130005    99.948025  25000.0    25.0\n2    SLB   31.410000   159.184974   5000.0     5.0\n3    COP   74.830002    66.818119   5000.0     5.0\n4     GM   62.189999    80.398780   5000.0     5.0\n5   PYPL  188.710007    26.495680   5000.0     5.0\n6     BA  210.600006    23.741690   5000.0     5.0\n7    SPG  169.029999    29.580548   5000.0     5.0\n8    COF  155.860001    32.080072   5000.0     5.0\n9    LLY  262.000000    19.083969   5000.0     5.0",
      "text/html": "<div>\n<style scoped>\n    .dataframe tbody tr th:only-of-type {\n        vertical-align: middle;\n    }\n\n    .dataframe tbody tr th {\n        vertical-align: top;\n    }\n\n    .dataframe thead th {\n        text-align: right;\n    }\n</style>\n<table border=\"1\" class=\"dataframe\">\n  <thead>\n    <tr style=\"text-align: right;\">\n      <th></th>\n      <th>Ticker</th>\n      <th>Prices</th>\n      <th>Shares</th>\n      <th>Values</th>\n      <th>Weight</th>\n    </tr>\n  </thead>\n  <tbody>\n    <tr>\n      <th>0</th>\n      <td>OXY</td>\n      <td>32.009998</td>\n      <td>1093.408367</td>\n      <td>35000.0</td>\n      <td>35.0</td>\n    </tr>\n    <tr>\n      <th>1</th>\n      <td>BIIB</td>\n      <td>250.130005</td>\n      <td>99.948025</td>\n      <td>25000.0</td>\n      <td>25.0</td>\n    </tr>\n    <tr>\n      <th>2</th>\n      <td>SLB</td>\n      <td>31.410000</td>\n      <td>159.184974</td>\n      <td>5000.0</td>\n      <td>5.0</td>\n    </tr>\n    <tr>\n      <th>3</th>\n      <td>COP</td>\n      <td>74.830002</td>\n      <td>66.818119</td>\n      <td>5000.0</td>\n      <td>5.0</td>\n    </tr>\n    <tr>\n      <th>4</th>\n      <td>GM</td>\n      <td>62.189999</td>\n      <td>80.398780</td>\n      <td>5000.0</td>\n      <td>5.0</td>\n    </tr>\n    <tr>\n      <th>5</th>\n      <td>PYPL</td>\n      <td>188.710007</td>\n      <td>26.495680</td>\n      <td>5000.0</td>\n      <td>5.0</td>\n    </tr>\n    <tr>\n      <th>6</th>\n      <td>BA</td>\n      <td>210.600006</td>\n      <td>23.741690</td>\n      <td>5000.0</td>\n      <td>5.0</td>\n    </tr>\n    <tr>\n      <th>7</th>\n      <td>SPG</td>\n      <td>169.029999</td>\n      <td>29.580548</td>\n      <td>5000.0</td>\n      <td>5.0</td>\n    </tr>\n    <tr>\n      <th>8</th>\n      <td>COF</td>\n      <td>155.860001</td>\n      <td>32.080072</td>\n      <td>5000.0</td>\n      <td>5.0</td>\n    </tr>\n    <tr>\n      <th>9</th>\n      <td>LLY</td>\n      <td>262.000000</td>\n      <td>19.083969</td>\n      <td>5000.0</td>\n      <td>5.0</td>\n    </tr>\n  </tbody>\n</table>\n</div>"
     },
     "execution_count": 20,
     "metadata": {},
     "output_type": "execute_result"
    }
   ],
   "source": [
    "def price_data(lst,date):\n",
    "    dic={}\n",
    "    for i in range(len(lst)):\n",
    "        t=yf.Ticker(lst[i])\n",
    "        t_hist=t.history(start=date)\n",
    "        dic[lst[i]]=t_hist.Close\n",
    "    return dic\n",
    "\n",
    "comp_closing=pd.DataFrame(price_data(lstofstocks, comp_date))\n",
    "\n",
    "def calc_shares(df):\n",
    "    dic={}\n",
    "    for i in range(len(df.index)):\n",
    "        comp_closing.index[i]\n",
    "        for j in range(len(df.columns)):\n",
    "            if j <= 0:\n",
    "                dic[df.columns[j]]=35000/df.iloc[i,j]\n",
    "            elif j <= 1:\n",
    "                dic[df.columns[j]]=25000/df.iloc[i,j]\n",
    "            else:\n",
    "                dic[df.columns[j]]=5000/df.iloc[i,j]\n",
    "    return dic\n",
    "\n",
    "shares=calc_shares(comp_closing)\n",
    "sa=pd.DataFrame.from_dict(shares,orient=\"index\")\n",
    "\n",
    "comp_closing=comp_closing.transpose()\n",
    "FinalPortfolio=comp_closing\n",
    "\n",
    "FinalPortfolio[\"Shares\"]=sa[0]\n",
    "FinalPortfolio=comp_closing.reset_index()\n",
    "FinalPortfolio.columns=[\"Ticker\",\"Prices\",\"Shares\"]\n",
    "FinalPortfolio[\"Values\"]=FinalPortfolio[\"Prices\"]*FinalPortfolio[\"Shares\"]\n",
    "FinalPortfolio[\"Weight\"]=(FinalPortfolio[\"Values\"]/100000)*100\n",
    "FinalPortfolio"
   ],
   "metadata": {
    "collapsed": false,
    "pycharm": {
     "name": "#%%\n"
    }
   }
  },
  {
   "cell_type": "code",
   "execution_count": 21,
   "outputs": [
    {
     "data": {
      "text/plain": "  Ticker       Shares\n0    OXY  1093.408367\n1   BIIB    99.948025\n2    SLB   159.184974\n3    COP    66.818119\n4     GM    80.398780\n5   PYPL    26.495680\n6     BA    23.741690\n7    SPG    29.580548\n8    COF    32.080072\n9    LLY    19.083969",
      "text/html": "<div>\n<style scoped>\n    .dataframe tbody tr th:only-of-type {\n        vertical-align: middle;\n    }\n\n    .dataframe tbody tr th {\n        vertical-align: top;\n    }\n\n    .dataframe thead th {\n        text-align: right;\n    }\n</style>\n<table border=\"1\" class=\"dataframe\">\n  <thead>\n    <tr style=\"text-align: right;\">\n      <th></th>\n      <th>Ticker</th>\n      <th>Shares</th>\n    </tr>\n  </thead>\n  <tbody>\n    <tr>\n      <th>0</th>\n      <td>OXY</td>\n      <td>1093.408367</td>\n    </tr>\n    <tr>\n      <th>1</th>\n      <td>BIIB</td>\n      <td>99.948025</td>\n    </tr>\n    <tr>\n      <th>2</th>\n      <td>SLB</td>\n      <td>159.184974</td>\n    </tr>\n    <tr>\n      <th>3</th>\n      <td>COP</td>\n      <td>66.818119</td>\n    </tr>\n    <tr>\n      <th>4</th>\n      <td>GM</td>\n      <td>80.398780</td>\n    </tr>\n    <tr>\n      <th>5</th>\n      <td>PYPL</td>\n      <td>26.495680</td>\n    </tr>\n    <tr>\n      <th>6</th>\n      <td>BA</td>\n      <td>23.741690</td>\n    </tr>\n    <tr>\n      <th>7</th>\n      <td>SPG</td>\n      <td>29.580548</td>\n    </tr>\n    <tr>\n      <th>8</th>\n      <td>COF</td>\n      <td>32.080072</td>\n    </tr>\n    <tr>\n      <th>9</th>\n      <td>LLY</td>\n      <td>19.083969</td>\n    </tr>\n  </tbody>\n</table>\n</div>"
     },
     "execution_count": 21,
     "metadata": {},
     "output_type": "execute_result"
    }
   ],
   "source": [
    "Stocks=pd.DataFrame(FinalPortfolio[\"Ticker\"])\n",
    "Stocks[\"Shares\"]=FinalPortfolio[\"Shares\"]\n",
    "Stocks"
   ],
   "metadata": {
    "collapsed": false,
    "pycharm": {
     "name": "#%%\n"
    }
   }
  },
  {
   "cell_type": "code",
   "execution_count": 23,
   "outputs": [
    {
     "data": {
      "text/plain": "  Ticker       Shares\n0    OXY  1093.408367\n1   BIIB    99.948025\n2    SLB   159.184974\n3    COP    66.818119\n4     GM    80.398780\n5   PYPL    26.495680\n6     BA    23.741690\n7    SPG    29.580548\n8    COF    32.080072\n9    LLY    19.083969",
      "text/html": "<div>\n<style scoped>\n    .dataframe tbody tr th:only-of-type {\n        vertical-align: middle;\n    }\n\n    .dataframe tbody tr th {\n        vertical-align: top;\n    }\n\n    .dataframe thead th {\n        text-align: right;\n    }\n</style>\n<table border=\"1\" class=\"dataframe\">\n  <thead>\n    <tr style=\"text-align: right;\">\n      <th></th>\n      <th>Ticker</th>\n      <th>Shares</th>\n    </tr>\n  </thead>\n  <tbody>\n    <tr>\n      <th>0</th>\n      <td>OXY</td>\n      <td>1093.408367</td>\n    </tr>\n    <tr>\n      <th>1</th>\n      <td>BIIB</td>\n      <td>99.948025</td>\n    </tr>\n    <tr>\n      <th>2</th>\n      <td>SLB</td>\n      <td>159.184974</td>\n    </tr>\n    <tr>\n      <th>3</th>\n      <td>COP</td>\n      <td>66.818119</td>\n    </tr>\n    <tr>\n      <th>4</th>\n      <td>GM</td>\n      <td>80.398780</td>\n    </tr>\n    <tr>\n      <th>5</th>\n      <td>PYPL</td>\n      <td>26.495680</td>\n    </tr>\n    <tr>\n      <th>6</th>\n      <td>BA</td>\n      <td>23.741690</td>\n    </tr>\n    <tr>\n      <th>7</th>\n      <td>SPG</td>\n      <td>29.580548</td>\n    </tr>\n    <tr>\n      <th>8</th>\n      <td>COF</td>\n      <td>32.080072</td>\n    </tr>\n    <tr>\n      <th>9</th>\n      <td>LLY</td>\n      <td>19.083969</td>\n    </tr>\n  </tbody>\n</table>\n</div>"
     },
     "execution_count": 23,
     "metadata": {},
     "output_type": "execute_result"
    }
   ],
   "source": [
    "Stocks.to_csv('Stocks_Group_12.csv', index=False)\n",
    "pd.read_csv('Stocks_Group_12.csv')"
   ],
   "metadata": {
    "collapsed": false,
    "pycharm": {
     "name": "#%%\n"
    }
   }
  },
  {
   "cell_type": "markdown",
   "metadata": {},
   "source": [
    "## Contribution Declaration\n",
    "\n",
    "The following team members made a meaningful contribution to this assignment:\n",
    "\n",
    "Insert Names Here."
   ]
  },
  {
   "cell_type": "code",
   "execution_count": 22,
   "metadata": {},
   "outputs": [],
   "source": []
  }
 ],
 "metadata": {
  "kernelspec": {
   "name": "cfm-venv",
   "language": "python",
   "display_name": "cfm-venv"
  },
  "language_info": {
   "codemirror_mode": {
    "name": "ipython",
    "version": 3
   },
   "file_extension": ".py",
   "mimetype": "text/x-python",
   "name": "python",
   "nbconvert_exporter": "python",
   "pygments_lexer": "ipython3",
   "version": "3.8.8"
  }
 },
 "nbformat": 4,
 "nbformat_minor": 2
}