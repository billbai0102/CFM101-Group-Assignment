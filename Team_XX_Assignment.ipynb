{
 "cells": [
  {
   "cell_type": "code",
   "execution_count": 1,
   "metadata": {},
   "outputs": [],
   "source": [
    "from IPython.display import display, Math, Latex\n",
    "\n",
    "import pandas as pd\n",
    "import numpy as np\n",
    "import numpy_financial as npf\n",
    "import yfinance as yf\n",
    "import matplotlib.pyplot as plt\n",
    "from datetime import datetime"
   ]
  },
  {
   "cell_type": "markdown",
   "metadata": {},
   "source": [
    "## Group Assignment\n",
    "### Team Number: 12\n",
    "### Team Member Names: Bill Bai, Soumik Debnath, Justin Yu\n",
    "### Team Strategy Chosen: RISKY"
   ]
  },
  {
   "cell_type": "code",
   "execution_count": 2,
   "outputs": [],
   "source": [
    "# Read file and save as DF\n",
    "tickers_path = \"./Tickers.csv\"\n",
    "tickers_df = pd.read_csv(tickers_path)"
   ],
   "metadata": {
    "collapsed": false,
    "pycharm": {
     "name": "#%%\n"
    }
   }
  },
  {
   "cell_type": "code",
   "execution_count": 3,
   "metadata": {},
   "outputs": [],
   "source": [
    "# Create an info cell for each ticker, saving time when filtering the tickers by volume and country.\n",
    "info_column = {}\n",
    "\n",
    "# Add info to dict\n",
    "for idx, row in tickers_df.iterrows():\n",
    "    ticker = row[0] # Get ticker name\n",
    "    ticker = yf.Ticker(ticker)\n",
    "    info_column[idx] = ticker.info\n",
    "\n",
    "# Create column for the info\n",
    "tickers_df['Info'] = pd.Series(info_column)"
   ]
  },
  {
   "cell_type": "code",
   "execution_count": 4,
   "outputs": [
    {
     "data": {
      "text/plain": "    AAPL                                               Info\n0   ABBV  {'zip': '60064-6400', 'sector': 'Healthcare', ...\n1    ABT  {'zip': '60064-6400', 'sector': 'Healthcare', ...\n2    ACN  {'zip': '2', 'sector': 'Technology', 'fullTime...\n3    AGN       {'regularMarketPrice': None, 'logo_url': ''}\n4    AIG  {'zip': '10020', 'sector': 'Financial Services...\n..   ...                                                ...\n56   TXN  {'zip': '75243', 'sector': 'Technology', 'full...\n57   UNH  {'zip': '55343', 'sector': 'Healthcare', 'full...\n58   UNP  {'zip': '68179', 'sector': 'Industrials', 'ful...\n59   UPS  {'zip': '30328', 'sector': 'Industrials', 'ful...\n60   USB  {'zip': '55402', 'sector': 'Financial Services...\n\n[61 rows x 2 columns]",
      "text/html": "<div>\n<style scoped>\n    .dataframe tbody tr th:only-of-type {\n        vertical-align: middle;\n    }\n\n    .dataframe tbody tr th {\n        vertical-align: top;\n    }\n\n    .dataframe thead th {\n        text-align: right;\n    }\n</style>\n<table border=\"1\" class=\"dataframe\">\n  <thead>\n    <tr style=\"text-align: right;\">\n      <th></th>\n      <th>AAPL</th>\n      <th>Info</th>\n    </tr>\n  </thead>\n  <tbody>\n    <tr>\n      <th>0</th>\n      <td>ABBV</td>\n      <td>{'zip': '60064-6400', 'sector': 'Healthcare', ...</td>\n    </tr>\n    <tr>\n      <th>1</th>\n      <td>ABT</td>\n      <td>{'zip': '60064-6400', 'sector': 'Healthcare', ...</td>\n    </tr>\n    <tr>\n      <th>2</th>\n      <td>ACN</td>\n      <td>{'zip': '2', 'sector': 'Technology', 'fullTime...</td>\n    </tr>\n    <tr>\n      <th>3</th>\n      <td>AGN</td>\n      <td>{'regularMarketPrice': None, 'logo_url': ''}</td>\n    </tr>\n    <tr>\n      <th>4</th>\n      <td>AIG</td>\n      <td>{'zip': '10020', 'sector': 'Financial Services...</td>\n    </tr>\n    <tr>\n      <th>...</th>\n      <td>...</td>\n      <td>...</td>\n    </tr>\n    <tr>\n      <th>56</th>\n      <td>TXN</td>\n      <td>{'zip': '75243', 'sector': 'Technology', 'full...</td>\n    </tr>\n    <tr>\n      <th>57</th>\n      <td>UNH</td>\n      <td>{'zip': '55343', 'sector': 'Healthcare', 'full...</td>\n    </tr>\n    <tr>\n      <th>58</th>\n      <td>UNP</td>\n      <td>{'zip': '68179', 'sector': 'Industrials', 'ful...</td>\n    </tr>\n    <tr>\n      <th>59</th>\n      <td>UPS</td>\n      <td>{'zip': '30328', 'sector': 'Industrials', 'ful...</td>\n    </tr>\n    <tr>\n      <th>60</th>\n      <td>USB</td>\n      <td>{'zip': '55402', 'sector': 'Financial Services...</td>\n    </tr>\n  </tbody>\n</table>\n<p>61 rows × 2 columns</p>\n</div>"
     },
     "execution_count": 4,
     "metadata": {},
     "output_type": "execute_result"
    }
   ],
   "source": [
    "tickers_df"
   ],
   "metadata": {
    "collapsed": false,
    "pycharm": {
     "name": "#%%\n"
    }
   }
  },
  {
   "cell_type": "code",
   "execution_count": 75,
   "outputs": [],
   "source": [
    "def filter_us_market(df):\n",
    "    \"\"\"\n",
    "    Consumes a dataframe of tickers and returns a list of booleans representing whether the tickers are US-listed or not.\n",
    "    :param df: DataFrame containing tickers\n",
    "    :return: List of booleans representing whether the tickers are US-listed.\n",
    "    \"\"\"\n",
    "    # Initialize mask list of booleans.\n",
    "    mask = []\n",
    "    for idx, row in df.iterrows():\n",
    "        # Check whether stock is US-listed or not, and append the boolean to mask\n",
    "        info = row['Info']\n",
    "        if \"market\" in row['Info']:\n",
    "            mask.append(info['market'] == 'us_market')\n",
    "        else:\n",
    "            mask.append(False)\n",
    "    # Return mask\n",
    "    return mask\n",
    "\n",
    "def filter_volume(df):\n",
    "    \"\"\"\n",
    "    Consumes a dataframe of tickers and returns a list of bo\n",
    "    :param df:\n",
    "    :return:\n",
    "    \"\"\"\n",
    "    # Start and end date to check volume\n",
    "    start_date = \"2021-07-02\"\n",
    "    end_date = \"2021-10-23\"\n",
    "    mask = []\n",
    "    for idx, row in df.iterrows():\n",
    "        ticker = yf.Ticker(row[0])\n",
    "        ticker_hist = ticker.history(start=start_date, end=end_date)\n",
    "        mask.append(ticker_hist['Volume'].mean() >= 10000)\n",
    "    return mask"
   ],
   "metadata": {
    "collapsed": false,
    "pycharm": {
     "name": "#%%\n"
    }
   }
  },
  {
   "cell_type": "code",
   "execution_count": 76,
   "outputs": [
    {
     "name": "stdout",
     "output_type": "stream",
     "text": [
      "- PCLN: No data found for this date range, symbol may be delisted\n",
      "- TWX: No data found for this date range, symbol may be delisted\n"
     ]
    },
    {
     "data": {
      "text/plain": "[True,\n True,\n True,\n True,\n True,\n True,\n True,\n True,\n True,\n True,\n True,\n True,\n True,\n True,\n True,\n True,\n True,\n True,\n True,\n True,\n True,\n True,\n True,\n True,\n True,\n True,\n True,\n True,\n True,\n True,\n True,\n True,\n True,\n True,\n True,\n True,\n True,\n False,\n True,\n True,\n True,\n True,\n True,\n True,\n True,\n True,\n True,\n True,\n True,\n True,\n False,\n True,\n True,\n True,\n True,\n True]"
     },
     "execution_count": 76,
     "metadata": {},
     "output_type": "execute_result"
    }
   ],
   "source": [
    "tickers_df = tickers_df.loc[filter_us_market(tickers_df)]\n",
    "tickers_df = tickers_df.loc[filter_volume(tickers_df)]\n",
    "\n",
    "tickers_df"
   ],
   "metadata": {
    "collapsed": false,
    "pycharm": {
     "name": "#%%\n"
    }
   }
  },
  {
   "cell_type": "code",
   "execution_count": 78,
   "outputs": [
    {
     "name": "stdout",
     "output_type": "stream",
     "text": [
      "- PCLN: No data found for this date range, symbol may be delisted\n"
     ]
    },
    {
     "data": {
      "text/plain": "nan"
     },
     "execution_count": 78,
     "metadata": {},
     "output_type": "execute_result"
    }
   ],
   "source": [
    "yf.Ticker(\"PCLN\").history()['Volume'].mean()"
   ],
   "metadata": {
    "collapsed": false,
    "pycharm": {
     "name": "#%%\n"
    }
   }
  },
  {
   "cell_type": "markdown",
   "metadata": {},
   "source": [
    "## Contribution Declaration\n",
    "\n",
    "The following team members made a meaningful contribution to this assignment:\n",
    "\n",
    "Insert Names Here."
   ]
  }
 ],
 "metadata": {
  "kernelspec": {
   "display_name": "Python 3",
   "language": "python",
   "name": "python3"
  },
  "language_info": {
   "codemirror_mode": {
    "name": "ipython",
    "version": 3
   },
   "file_extension": ".py",
   "mimetype": "text/x-python",
   "name": "python",
   "nbconvert_exporter": "python",
   "pygments_lexer": "ipython3",
   "version": "3.7.4"
  }
 },
 "nbformat": 4,
 "nbformat_minor": 2
}